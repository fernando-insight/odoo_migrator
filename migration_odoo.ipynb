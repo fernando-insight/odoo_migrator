{
 "cells": [
  {
   "attachments": {},
   "cell_type": "markdown",
   "metadata": {},
   "source": [
    "# Hermitage Odoo migration notebook\n",
    "\n",
    "This notebook app will run the ETL process to migrate Heremitage's Odoo 11 to a new Odoo 15 system.\n",
    "It will basically extract the data from v11 into csv files, make the necessary transformations to make it importable in Odoo 15 and then load the data it into Hermitage's new Odoo 15 instance.\n",
    "\n",
    "## Initial Configurations\n",
    "\n",
    "**Export Configurations File**\n",
    "In this workspace you can find the file [export_connection.conf](export_connection.conf), it is used to set all the necessary settings and credentials to connect to Hermitage's Odoo 11 instance\n",
    "\n",
    "**Import Configurations File**\n",
    "In this workspace you can find the file [import_connection.conf](import_connection.conf), it is used to set all the necessary settings and credentials to connect to Hermitage's Odoo 15 instance\n",
    "\n",
    "**Models Migration Configurations File**\n",
    "In this workspace you can find the file [models_migration_config.conf](models_migration_config.conf). In it its possible to change certain aspects of how the models are extracted and loaded into the new system.\n",
    "Most common possible configurations are:\n",
    "- Fields to migrate\n",
    "- Domain/Filter used to extract\n",
    "- Fields to ignore when loading the data\n",
    "\n",
    "**States Remapping File**\n",
    "In this workspace you can find the file [input_csv_files/States Remapping - Input.csv](input_csv_files/States%20Remapping%20-%20Input.csv.conf), it is used to change the states and countries from certain partners.\n",
    "This file is extracted from a Google Spreadsheet where some states and country data was manually corrected and then mapped with formulas to Odoo's 15 states and country base data.\n",
    "Link to the Spreadsheet to check which states were affected: [States Remapping](https://docs.google.com/spreadsheets/d/1hL9S4APfv9cJYEihGn9Rtimt0xQp7mq1E0ZRpWafa8I/edit?usp=share_link)"
   ]
  },
  {
   "attachments": {},
   "cell_type": "markdown",
   "metadata": {},
   "source": [
    "### Imports\n",
    "- pandas: to make transformations on the data\n",
    "- odoo_csv_tools: Odoo SDK python package specialized for ETL processes\n",
    "- Models' migration config\n",
    "- Import function"
   ]
  },
  {
   "attachments": {},
   "cell_type": "markdown",
   "metadata": {},
   "source": [
    "### Constants\n",
    "No need to parameterize these values for now\n",
    "Included file paths for some extra csv files that don't follow the standard naming convention of model_name.csv, e.g: res.partner.csv"
   ]
  },
  {
   "attachments": {},
   "cell_type": "markdown",
   "metadata": {},
   "source": [
    "**Export function wrapper**"
   ]
  },
  {
   "cell_type": "code",
   "execution_count": 1,
   "metadata": {},
   "outputs": [],
   "source": [
    "import pandas\n",
    "\n",
    "from odoo_csv_tools import export_threaded\n",
    "\n",
    "from models_migration_config import models_migration_config\n",
    "from import_functions import import_data, import_ignored_fields\n",
    "\n",
    "EXPORT_CONNECTION_CONFIG_DIR = 'export_connection.conf'\n",
    "EXPORT_DEFAULT_BATCH_SIZE = 3000\n",
    "EXPORT_DEFAULT_REQ_CONTEXT = {}\n",
    "DEFAULT_WORKERS = 2\n",
    "\n",
    "GENERATED_CSV_FILES_PATH = 'generated_csv_files/'\n",
    "INPUT_CSV_FILES_PATH = 'input_csv_files/'\n",
    "STATES_REMAPPING_FILE_NAME = 'States Remapping - Input.csv'\n",
    "PARTNERS_WITHOUT_NAME_FILE_NAME = 'res.partner(no name).csv'\n",
    "RES_USERS_GROUPS_FILE_NAME = 'res.users(groups).csv'\n",
    "CRM_TEAM_MEMBERS_FILE_NAME = 'crm.team(members).csv'\n",
    "\n",
    "national_accounts_branch_external_id = \"multi_branches.main_branch\"\n",
    "design_center_branch_external_id = \"__export__.res_branch_4_e6b8f9eb\"\n",
    "\n",
    "old_national_accounts_branch_external_id = \"__export__.res_branch_2_45e420c1\"\n",
    "old_kitchen_branch_external_id = \"__export__.res_branch_6_734443bb\"\n",
    "old_gallery_531_branch_external_id = \"__export__.res_branch_1_d965e632\"\n",
    "\n",
    "def export_data(model_name = None, config = None, domain = None, fields = None, output_file = None, workers = None, batch_size = None, context = None, separator = None):\n",
    "    if model_name in ['ir.model.data', 'ir.model.fields', 'res.groups']:\n",
    "        model_migration_config = {}\n",
    "    else:\n",
    "        model_migration_config = models_migration_config[model_name]\n",
    "    if not config:\n",
    "        config = EXPORT_CONNECTION_CONFIG_DIR\n",
    "    if not domain:\n",
    "        domain = model_migration_config.get('domain', [])\n",
    "    if not fields:\n",
    "        fields = model_migration_config.get('fields', [])\n",
    "    if output_file:\n",
    "        output_file = f'{GENERATED_CSV_FILES_PATH}{output_file}'\n",
    "    else:\n",
    "        output_file = f'{GENERATED_CSV_FILES_PATH}{model_name}.csv'\n",
    "    if not workers:\n",
    "        workers = DEFAULT_WORKERS\n",
    "    if not batch_size:\n",
    "        batch_size = model_migration_config.get('batch_size', EXPORT_DEFAULT_BATCH_SIZE)\n",
    "    if not context:\n",
    "        context = model_migration_config.get('context', EXPORT_DEFAULT_REQ_CONTEXT)\n",
    "    if not separator:\n",
    "        separator = model_migration_config.get('separator', ',')\n",
    "\n",
    "    export_threaded.export_data(\n",
    "        config,\n",
    "        model_name,\n",
    "        domain,\n",
    "        fields,\n",
    "        output=output_file,\n",
    "        max_connection=workers,\n",
    "        batch_size=batch_size,\n",
    "        context=context,\n",
    "        separator=separator,\n",
    "    )\n",
    "\n",
    "def replace_branches_ids(df):\n",
    "    df['branch_id/id'] = df['branch_id/id'].str.replace(old_national_accounts_branch_external_id, national_accounts_branch_external_id)\n",
    "    df['branch_id/id'] = df['branch_id/id'].str.replace(old_kitchen_branch_external_id, design_center_branch_external_id)\n",
    "    df['branch_id/id'] = df['branch_id/id'].str.replace(old_gallery_531_branch_external_id, design_center_branch_external_id)\n"
   ]
  },
  {
   "attachments": {},
   "cell_type": "markdown",
   "metadata": {},
   "source": [
    "**Extract res.partner.category**"
   ]
  },
  {
   "cell_type": "code",
   "execution_count": null,
   "metadata": {},
   "outputs": [],
   "source": [
    "export_data('res.partner.category')"
   ]
  },
  {
   "attachments": {},
   "cell_type": "markdown",
   "metadata": {},
   "source": [
    "**Load account.payment.term**"
   ]
  },
  {
   "cell_type": "code",
   "execution_count": null,
   "metadata": {},
   "outputs": [],
   "source": [
    "model_name = 'account.payment.term'\n",
    "\n",
    "import_data(model_name, absolute_file_path=f'{INPUT_CSV_FILES_PATH}{model_name}.csv',\n",
    "            ignore_fields=['discount_days', 'payment_term_for'])\n",
    "# Ignoring the fileds that are not implemented."
   ]
  },
  {
   "attachments": {},
   "cell_type": "markdown",
   "metadata": {},
   "source": [
    "**Load res.partner.category**"
   ]
  },
  {
   "cell_type": "code",
   "execution_count": null,
   "metadata": {},
   "outputs": [],
   "source": [
    "import_data('res.partner.category')"
   ]
  },
  {
   "attachments": {},
   "cell_type": "markdown",
   "metadata": {},
   "source": [
    "**Extract and transform res.partner**"
   ]
  },
  {
   "cell_type": "code",
   "execution_count": null,
   "metadata": {},
   "outputs": [],
   "source": [
    "model_name = 'res.partner'\n",
    "model_migration_config = models_migration_config[model_name]\n",
    "\n",
    "export_data(model_name)\n",
    "\n",
    "partners_main_file_path = f'{GENERATED_CSV_FILES_PATH}{model_name}.csv'\n",
    "partners_dataframe = pandas.read_csv(partners_main_file_path)\n",
    "\n",
    "# States remapping\n",
    "states_remapping_file_path = f'{INPUT_CSV_FILES_PATH}{STATES_REMAPPING_FILE_NAME}'\n",
    "states_remapping_dataframe = pandas.read_csv(states_remapping_file_path)\n",
    "\n",
    "def transformations(df: pandas.DataFrame) -> None:\n",
    "    df.rename(columns={\n",
    "        'categ_id/id': 'category_id/id',\n",
    "        'supplier': 'supplier_rank',\n",
    "        'customer': 'customer_rank',\n",
    "        'hesco_account_number': 'customer_account_number',\n",
    "        'hesco_account_open_date': 'customer_account_open_date'\n",
    "    }, inplace=True)\n",
    "\n",
    "    df['category_id/id'] = df['category_id/id'].str.replace('False', '')\n",
    "    df['type'] = df['type'].str.replace('False', '')\n",
    "    df['type'] = df['type'].str.replace('Shipping address', 'Delivery address')\n",
    "    # df['property_supplier_payment_term_id/name'] = df['property_supplier_payment_term_id/name'].str.replace('False', '')\n",
    "\n",
    "    df['supplier_rank'] = df['supplier_rank'].astype('str')\n",
    "    df['customer_rank'] = df['customer_rank'].astype('str')\n",
    "    df['supplier_rank'] = df['supplier_rank'].str.replace('False', '0')\n",
    "    df['supplier_rank'] = df['supplier_rank'].str.replace('True', '0')\n",
    "    df['customer_rank'] = df['customer_rank'].str.replace('False', '0')\n",
    "    df['customer_rank'] = df['customer_rank'].str.replace('True', '1')\n",
    "    df['supplier_rank'] = df['supplier_rank'].astype('int')\n",
    "    df['customer_rank'] = df['customer_rank'].astype('int')\n",
    "\n",
    "    for row in states_remapping_dataframe.itertuples():\n",
    "        indexes = df[df['state_id/id'] == row.flash_hlg_state_id].index.tolist()\n",
    "        for i in indexes:\n",
    "            state_id = row.id if type(row.id) == str else ''\n",
    "            df.loc[i:i, 'state_id/id': 'country_id/id'] = state_id, row.country_id\n",
    "\n",
    "transformations(partners_dataframe)\n",
    "partners_dataframe.to_csv(partners_main_file_path, index=False)\n",
    "\n",
    "#Export partner without names\n",
    "fields_to_export = [f for f in model_migration_config['fields'] if f != 'name']\n",
    "export_data(model_name=model_name,\n",
    "            domain=['|', ['name', '=', False], ['name', '=', ''], ['customer', '=', True], ['create_date', '>', '2022-11-01 00:00:00']],\n",
    "            fields=fields_to_export,\n",
    "            output_file=PARTNERS_WITHOUT_NAME_FILE_NAME\n",
    "            )\n",
    "\n",
    "partners_without_name_file_path = f'{GENERATED_CSV_FILES_PATH}{PARTNERS_WITHOUT_NAME_FILE_NAME}'\n",
    "partners_dataframe = pandas.read_csv(partners_without_name_file_path)\n",
    "\n",
    "partners_dataframe.insert(len(fields_to_export), 'name','[N/A]')\n",
    "transformations(partners_dataframe)\n",
    "\n",
    "partners_dataframe.to_csv(partners_without_name_file_path, index=False)"
   ]
  },
  {
   "attachments": {},
   "cell_type": "markdown",
   "metadata": {
    "collapsed": false
   },
   "source": [
    "**Load res.partner**"
   ]
  },
  {
   "cell_type": "code",
   "execution_count": 4,
   "metadata": {
    "collapsed": false
   },
   "outputs": [
    {
     "name": "stdout",
     "output_type": "stream",
     "text": [
      "open generated_csv_files/res.partner.csv\n"
     ]
    },
    {
     "name": "stderr",
     "output_type": "stream",
     "text": [
      "open generated_csv_files/res.partner.csv\n"
     ]
    },
    {
     "name": "stdout",
     "output_type": "stream",
     "text": [
      "Skipping until line 0 excluded\n",
      "time for batch [0] - [False] - 1000 of 36948 : 65.54566478729248\n",
      "time for batch [0] - [False] - 2000 of 36948 : 63.86566138267517\n",
      "time for batch [0] - [False] - 3000 of 36948 : 62.95938563346863\n"
     ]
    },
    {
     "name": "stderr",
     "output_type": "stream",
     "text": [
      "batch [0] - [False], 3\n",
      "{'rows': {'from': 893, 'to': 893}, 'type': 'error', 'record': 893, 'field': 'user_id', 'message': \"No matching record found for external id '__export__.res_users_24' in field 'Salesperson'\", 'moreinfo': {'name': 'Possible Values', 'type': 'ir.actions.act_window', 'target': 'new', 'view_mode': 'tree,form', 'views': [[False, 'list'], [False, 'form']], 'context': {'create': False}, 'help': 'See all possible values', 'res_model': 'ir.model.data', 'domain': [['model', '=', 'res.users']]}, 'field_name': 'Salesperson'}\n",
      "['__export__.res_users_24_res_partner', '1', '0', '__export__.res_partner_category_91', 'False', '__export__.res_users_24', '', '']\n"
     ]
    },
    {
     "name": "stdout",
     "output_type": "stream",
     "text": [
      "time for batch [0] - [False] - 4000 of 36948 : 62.7231879234314\n",
      "time for batch [0] - [False] - 5000 of 36948 : 66.07800006866455\n"
     ]
    },
    {
     "name": "stderr",
     "output_type": "stream",
     "text": [
      "batch [0] - [False], 5\n",
      "{'rows': {'from': 502, 'to': 502}, 'type': 'error', 'record': 502, 'field': 'user_id', 'message': \"No matching record found for external id '__export__.res_users_58' in field 'Salesperson'\", 'moreinfo': {'name': 'Possible Values', 'type': 'ir.actions.act_window', 'target': 'new', 'view_mode': 'tree,form', 'views': [[False, 'list'], [False, 'form']], 'context': {'create': False}, 'help': 'See all possible values', 'res_model': 'ir.model.data', 'domain': [['model', '=', 'res.users']]}, 'field_name': 'Salesperson'}\n",
      "['__export__.res_users_58_res_partner', '1', '0', '__export__.res_partner_category_91', 'False', '__export__.res_users_58', '', '']\n"
     ]
    },
    {
     "name": "stdout",
     "output_type": "stream",
     "text": [
      "time for batch [0] - [False] - 6000 of 36948 : 65.07137441635132\n",
      "time for batch [0] - [False] - 7000 of 36948 : 62.27887153625488\n",
      "time for batch [0] - [False] - 8000 of 36948 : 64.11952447891235\n",
      "time for batch [0] - [False] - 9000 of 36948 : 63.204299211502075\n",
      "time for batch [0] - [False] - 10000 of 36948 : 63.267616748809814\n",
      "time for batch [0] - [False] - 11000 of 36948 : 64.8659610748291\n",
      "time for batch [0] - [False] - 12000 of 36948 : 63.32998037338257\n",
      "time for batch [0] - [False] - 13000 of 36948 : 63.89490723609924\n",
      "time for batch [0] - [False] - 14000 of 36948 : 64.47575759887695\n",
      "time for batch [0] - [False] - 15000 of 36948 : 64.96418523788452\n",
      "time for batch [0] - [False] - 16000 of 36948 : 62.64230298995972\n",
      "time for batch [0] - [False] - 17000 of 36948 : 62.77721858024597\n",
      "time for batch [0] - [False] - 18000 of 36948 : 62.61301517486572\n",
      "time for batch [0] - [False] - 19000 of 36948 : 62.312748193740845\n",
      "time for batch [0] - [False] - 20000 of 36948 : 62.20973992347717\n",
      "time for batch [0] - [False] - 21000 of 36948 : 63.27905607223511\n",
      "time for batch [0] - [False] - 22000 of 36948 : 63.3976194858551\n",
      "time for batch [0] - [False] - 23000 of 36948 : 63.88168406486511\n"
     ]
    },
    {
     "name": "stderr",
     "output_type": "stream",
     "text": [
      "batch [0] - [False], 23\n",
      "{'rows': {'from': 777, 'to': 777}, 'type': 'error', 'record': 777, 'field': 'user_id', 'message': \"No matching record found for external id '__export__.res_users_66' in field 'Salesperson'\", 'moreinfo': {'name': 'Possible Values', 'type': 'ir.actions.act_window', 'target': 'new', 'view_mode': 'tree,form', 'views': [[False, 'list'], [False, 'form']], 'context': {'create': False}, 'help': 'See all possible values', 'res_model': 'ir.model.data', 'domain': [['model', '=', 'res.users']]}, 'field_name': 'Salesperson'}\n",
      "['__export__.res_partner_5977_12990f4c', '1', '0', '__export__.res_partner_category_91', 'False', '__export__.res_users_66', '', '']\n"
     ]
    },
    {
     "name": "stdout",
     "output_type": "stream",
     "text": [
      "time for batch [0] - [False] - 24000 of 36948 : 64.22297549247742\n",
      "time for batch [0] - [False] - 25000 of 36948 : 61.99054718017578\n"
     ]
    },
    {
     "name": "stderr",
     "output_type": "stream",
     "text": [
      "batch [0] - [False], 25\n",
      "{'rows': {'from': 391, 'to': 391}, 'type': 'error', 'record': 391, 'field': 'user_id', 'message': \"No matching record found for external id '__export__.res_users_76' in field 'Salesperson'\", 'moreinfo': {'name': 'Possible Values', 'type': 'ir.actions.act_window', 'target': 'new', 'view_mode': 'tree,form', 'views': [[False, 'list'], [False, 'form']], 'context': {'create': False}, 'help': 'See all possible values', 'res_model': 'ir.model.data', 'domain': [['model', '=', 'res.users']]}, 'field_name': 'Salesperson'}\n",
      "['__export__.res_partner_9057_2e0fe6b5', '1', '0', '__export__.res_partner_category_33', 'False', '__export__.res_users_76', '75613400', '2021-04-15']\n"
     ]
    },
    {
     "name": "stdout",
     "output_type": "stream",
     "text": [
      "time for batch [0] - [False] - 26000 of 36948 : 62.97906947135925\n",
      "time for batch [0] - [False] - 27000 of 36948 : 63.665419816970825\n",
      "time for batch [0] - [False] - 28000 of 36948 : 63.24273228645325\n",
      "time for batch [0] - [False] - 29000 of 36948 : 64.5879213809967\n",
      "time for batch [0] - [False] - 30000 of 36948 : 63.74177026748657\n",
      "time for batch [0] - [False] - 31000 of 36948 : 62.822664737701416\n",
      "time for batch [0] - [False] - 32000 of 36948 : 63.898293256759644\n",
      "time for batch [0] - [False] - 33000 of 36948 : 63.86711263656616\n"
     ]
    },
    {
     "name": "stderr",
     "output_type": "stream",
     "text": [
      "batch [0] - [False], 33\n",
      "{'rows': {'from': 335, 'to': 335}, 'type': 'error', 'record': 335, 'field': 'user_id', 'message': \"No matching record found for external id '__export__.res_users_119_9f696695' in field 'Salesperson'\", 'moreinfo': {'name': 'Possible Values', 'type': 'ir.actions.act_window', 'target': 'new', 'view_mode': 'tree,form', 'views': [[False, 'list'], [False, 'form']], 'context': {'create': False}, 'help': 'See all possible values', 'res_model': 'ir.model.data', 'domain': [['model', '=', 'res.users']]}, 'field_name': 'Salesperson'}\n",
      "['__export__.res_partner_3722_f4c2b9b8', '1', '0', '__export__.res_partner_categ_1', 'False', '__export__.res_users_119_9f696695', '', '']\n",
      "batch [0] - [False], 33\n",
      "{'rows': {'from': 405, 'to': 405}, 'type': 'error', 'record': 405, 'field': 'user_id', 'message': \"No matching record found for external id '__export__.res_users_66' in field 'Salesperson'\", 'moreinfo': {'name': 'Possible Values', 'type': 'ir.actions.act_window', 'target': 'new', 'view_mode': 'tree,form', 'views': [[False, 'list'], [False, 'form']], 'context': {'create': False}, 'help': 'See all possible values', 'res_model': 'ir.model.data', 'domain': [['model', '=', 'res.users']]}, 'field_name': 'Salesperson'}\n",
      "['__export__.res_users_66_res_partner', '1', '0', '__export__.res_partner_category_91', 'False', '__export__.res_users_66', '', '']\n"
     ]
    },
    {
     "name": "stdout",
     "output_type": "stream",
     "text": [
      "time for batch [0] - [False] - 34000 of 36948 : 62.955097913742065\n",
      "time for batch [0] - [False] - 35000 of 36948 : 63.206645488739014\n",
      "time for batch [0] - [False] - 36000 of 36948 : 64.14525747299194\n",
      "time for batch [0] - [False] - 37000 of 36948 : 61.27396249771118\n",
      "time for batch [1] - [__export__.res_partner_2301_16e91ad6] - 1000 of 1000 : 105.6785204410553\n",
      "time for batch [2] - [__export__.res_partner_29428_b9112447] - 1000 of 1001 : 104.12946271896362\n",
      "time for batch [2] - [__export__.res_partner_29428_b9112447] - 2000 of 1001 : 1.028820514678955\n"
     ]
    },
    {
     "name": "stderr",
     "output_type": "stream",
     "text": [
      "batch [3] - [__export__.res_partner_5086_890a7298], 0\n",
      "{'rows': {'from': 413, 'to': 413}, 'type': 'error', 'record': 413, 'field': 'parent_id', 'message': \"No matching record found for external id '__export__.res_partner_31436_c211ba77' in field 'Related Company'\", 'moreinfo': {'name': 'Possible Values', 'type': 'ir.actions.act_window', 'target': 'new', 'view_mode': 'tree,form', 'views': [[False, 'list'], [False, 'form']], 'context': {'create': False}, 'help': 'See all possible values', 'res_model': 'ir.model.data', 'domain': [['model', '=', 'res.partner']]}, 'field_name': 'Related Company'}\n",
      "['__export__.res_partner_69225_32f71491', '1', '0', '__export__.res_partner_category_145_f4b29097', '__export__.res_partner_31436_c211ba77', 'False', '7461974678', '']\n",
      "batch [3] - [__export__.res_partner_5086_890a7298], 0\n",
      "{'rows': {'from': 440, 'to': 440}, 'type': 'error', 'record': 440, 'field': 'parent_id', 'message': \"No matching record found for external id '__export__.res_partner_31637_7b0ad1d9' in field 'Related Company'\", 'moreinfo': {'name': 'Possible Values', 'type': 'ir.actions.act_window', 'target': 'new', 'view_mode': 'tree,form', 'views': [[False, 'list'], [False, 'form']], 'context': {'create': False}, 'help': 'See all possible values', 'res_model': 'ir.model.data', 'domain': [['model', '=', 'res.partner']]}, 'field_name': 'Related Company'}\n",
      "['__export__.res_partner_69959_e05812c1', '1', '0', '__export__.res_partner_category_145_f4b29097', '__export__.res_partner_31637_7b0ad1d9', 'False', '1153988193', '']\n",
      "batch [3] - [__export__.res_partner_5086_890a7298], 0\n",
      "{'rows': {'from': 446, 'to': 446}, 'type': 'error', 'record': 446, 'field': 'parent_id', 'message': \"No matching record found for external id '__export__.res_partner_31751_909cea52' in field 'Related Company'\", 'moreinfo': {'name': 'Possible Values', 'type': 'ir.actions.act_window', 'target': 'new', 'view_mode': 'tree,form', 'views': [[False, 'list'], [False, 'form']], 'context': {'create': False}, 'help': 'See all possible values', 'res_model': 'ir.model.data', 'domain': [['model', '=', 'res.partner']]}, 'field_name': 'Related Company'}\n",
      "['__export__.res_partner_68037_ce951874', '1', '0', '__export__.res_partner_category_145_f4b29097', '__export__.res_partner_31751_909cea52', 'False', '7658950460', '']\n",
      "batch [3] - [__export__.res_partner_5086_890a7298], 0\n",
      "{'rows': {'from': 447, 'to': 447}, 'type': 'error', 'record': 447, 'field': 'parent_id', 'message': \"No matching record found for external id '__export__.res_partner_31760_85708a94' in field 'Related Company'\", 'moreinfo': {'name': 'Possible Values', 'type': 'ir.actions.act_window', 'target': 'new', 'view_mode': 'tree,form', 'views': [[False, 'list'], [False, 'form']], 'context': {'create': False}, 'help': 'See all possible values', 'res_model': 'ir.model.data', 'domain': [['model', '=', 'res.partner']]}, 'field_name': 'Related Company'}\n",
      "['__export__.res_partner_63316_bf7b0908', '1', '0', '__export__.res_partner_category_145_f4b29097', '__export__.res_partner_31760_85708a94', 'False', '8308938134', '']\n",
      "batch [3] - [__export__.res_partner_5086_890a7298], 0\n",
      "{'rows': {'from': 475, 'to': 475}, 'type': 'error', 'record': 475, 'field': 'parent_id', 'message': \"No matching record found for external id '__export__.res_partner_32011_21f85a65' in field 'Related Company'\", 'moreinfo': {'name': 'Possible Values', 'type': 'ir.actions.act_window', 'target': 'new', 'view_mode': 'tree,form', 'views': [[False, 'list'], [False, 'form']], 'context': {'create': False}, 'help': 'See all possible values', 'res_model': 'ir.model.data', 'domain': [['model', '=', 'res.partner']]}, 'field_name': 'Related Company'}\n",
      "['__export__.res_partner_68559_ce50dbbc', '1', '0', '__export__.res_partner_category_145_f4b29097', '__export__.res_partner_32011_21f85a65', 'False', '4527225422', '']\n",
      "batch [3] - [__export__.res_partner_5086_890a7298], 0\n",
      "{'rows': {'from': 479, 'to': 479}, 'type': 'error', 'record': 479, 'field': 'parent_id', 'message': \"No matching record found for external id '__export__.res_partner_32045_bb73e48e' in field 'Related Company'\", 'moreinfo': {'name': 'Possible Values', 'type': 'ir.actions.act_window', 'target': 'new', 'view_mode': 'tree,form', 'views': [[False, 'list'], [False, 'form']], 'context': {'create': False}, 'help': 'See all possible values', 'res_model': 'ir.model.data', 'domain': [['model', '=', 'res.partner']]}, 'field_name': 'Related Company'}\n",
      "['__export__.res_partner_63681_303a1dc2', '1', '0', '__export__.res_partner_category_145_f4b29097', '__export__.res_partner_32045_bb73e48e', 'False', '473407919.0', '']\n",
      "batch [3] - [__export__.res_partner_5086_890a7298], 0\n",
      "{'rows': {'from': 483, 'to': 483}, 'type': 'error', 'record': 483, 'field': 'parent_id', 'message': \"No matching record found for external id '__export__.res_partner_32050_9279778c' in field 'Related Company'\", 'moreinfo': {'name': 'Possible Values', 'type': 'ir.actions.act_window', 'target': 'new', 'view_mode': 'tree,form', 'views': [[False, 'list'], [False, 'form']], 'context': {'create': False}, 'help': 'See all possible values', 'res_model': 'ir.model.data', 'domain': [['model', '=', 'res.partner']]}, 'field_name': 'Related Company'}\n",
      "['__export__.res_partner_68562_beb7644a', '1', '0', '__export__.res_partner_category_145_f4b29097', '__export__.res_partner_32050_9279778c', 'False', '1014814746.0', '']\n",
      "batch [3] - [__export__.res_partner_5086_890a7298], 0\n",
      "{'rows': {'from': 497, 'to': 497}, 'type': 'error', 'record': 497, 'field': 'parent_id', 'message': \"No matching record found for external id '__export__.res_partner_32297_a22a8278' in field 'Related Company'\", 'moreinfo': {'name': 'Possible Values', 'type': 'ir.actions.act_window', 'target': 'new', 'view_mode': 'tree,form', 'views': [[False, 'list'], [False, 'form']], 'context': {'create': False}, 'help': 'See all possible values', 'res_model': 'ir.model.data', 'domain': [['model', '=', 'res.partner']]}, 'field_name': 'Related Company'}\n",
      "['__export__.res_partner_71288_21339cbb', '1', '0', '__export__.res_partner_category_145_f4b29097', '__export__.res_partner_32297_a22a8278', 'False', '1244895934.0', '']\n",
      "batch [3] - [__export__.res_partner_5086_890a7298], 0\n",
      "{'rows': {'from': 502, 'to': 502}, 'type': 'error', 'record': 502, 'field': 'parent_id', 'message': \"No matching record found for external id '__export__.res_partner_32305_0073935d' in field 'Related Company'\", 'moreinfo': {'name': 'Possible Values', 'type': 'ir.actions.act_window', 'target': 'new', 'view_mode': 'tree,form', 'views': [[False, 'list'], [False, 'form']], 'context': {'create': False}, 'help': 'See all possible values', 'res_model': 'ir.model.data', 'domain': [['model', '=', 'res.partner']]}, 'field_name': 'Related Company'}\n",
      "['__export__.res_partner_70119_0e0391ad', '1', '0', '__export__.res_partner_category_145_f4b29097', '__export__.res_partner_32305_0073935d', 'False', '6110903177', '']\n",
      "batch [3] - [__export__.res_partner_5086_890a7298], 0\n",
      "{'rows': {'from': 516, 'to': 516}, 'type': 'error', 'record': 516, 'field': 'parent_id', 'message': \"No matching record found for external id '__export__.res_partner_32383_4a737e76' in field 'Related Company'\", 'moreinfo': {'name': 'Possible Values', 'type': 'ir.actions.act_window', 'target': 'new', 'view_mode': 'tree,form', 'views': [[False, 'list'], [False, 'form']], 'context': {'create': False}, 'help': 'See all possible values', 'res_model': 'ir.model.data', 'domain': [['model', '=', 'res.partner']]}, 'field_name': 'Related Company'}\n",
      "['__export__.res_partner_71329_8493a3e4', '1', '0', '__export__.res_partner_category_145_f4b29097', '__export__.res_partner_32383_4a737e76', 'False', '2441233359', '']\n",
      "batch [3] - [__export__.res_partner_5086_890a7298], 0\n",
      "{'rows': {'from': 540, 'to': 540}, 'type': 'error', 'record': 540, 'field': 'parent_id', 'message': \"No matching record found for external id '__export__.res_partner_32785_c5a4069d' in field 'Related Company'\", 'moreinfo': {'name': 'Possible Values', 'type': 'ir.actions.act_window', 'target': 'new', 'view_mode': 'tree,form', 'views': [[False, 'list'], [False, 'form']], 'context': {'create': False}, 'help': 'See all possible values', 'res_model': 'ir.model.data', 'domain': [['model', '=', 'res.partner']]}, 'field_name': 'Related Company'}\n",
      "['__export__.res_partner_55821_8cc56890', '1', '0', '__export__.res_partner_categ_1', '__export__.res_partner_32785_c5a4069d', 'False', '1600635181', '']\n"
     ]
    },
    {
     "name": "stdout",
     "output_type": "stream",
     "text": [
      "time for batch [3] - [__export__.res_partner_5086_890a7298] - 1000 of 1000 : 97.29499745368958\n"
     ]
    },
    {
     "name": "stderr",
     "output_type": "stream",
     "text": [
      "batch [4] - [__export__.res_partner_68897_5d57858f], 0\n",
      "{'rows': {'from': 12, 'to': 12}, 'type': 'error', 'record': 12, 'field': 'parent_id', 'message': \"No matching record found for external id '__export__.res_partner_50945_18e9824b' in field 'Related Company'\", 'moreinfo': {'name': 'Possible Values', 'type': 'ir.actions.act_window', 'target': 'new', 'view_mode': 'tree,form', 'views': [[False, 'list'], [False, 'form']], 'context': {'create': False}, 'help': 'See all possible values', 'res_model': 'ir.model.data', 'domain': [['model', '=', 'res.partner']]}, 'field_name': 'Related Company'}\n",
      "['__export__.res_partner_69205_d82d2766', '1', '0', '__export__.res_partner_category_145_f4b29097', '__export__.res_partner_50945_18e9824b', 'False', '2438268590', '']\n"
     ]
    },
    {
     "name": "stdout",
     "output_type": "stream",
     "text": [
      "time for batch [4] - [__export__.res_partner_68897_5d57858f] - 1000 of 1003 : 107.60282683372498\n",
      "time for batch [4] - [__export__.res_partner_68897_5d57858f] - 2000 of 1003 : 0.9667394161224365\n",
      "time for batch [5] - [base.main_partner] - 1000 of 790 : 89.16442704200745\n",
      "41742 res.partner imported, total time 2856.329431295395 second(s)\n"
     ]
    }
   ],
   "source": [
    "model_name = 'res.partner'\n",
    "#import partners without name\n",
    "#import_data(model_name=model_name, file_csv=PARTNERS_WITHOUT_NAME_FILE_NAME)\n",
    "#import the rest of the partners\n",
    "#import_data(model_name=model_name, group_by='parent_id/id', workers=1)\n",
    "\n",
    "ignore_fields = ['id', 'name'] + models_migration_config['res.partner']['ignore_fields']\n",
    "import_ignored_fields(model_name, group_by='parent_id/id', workers=1)\n",
    "#import_ignored_fields(model_name, file_csv=PARTNERS_WITHOUT_NAME_FILE_NAME, group_by='parent_id/id', ignore_fields = ignore_fields, workers=1)"
   ]
  },
  {
   "attachments": {},
   "cell_type": "markdown",
   "metadata": {
    "collapsed": false
   },
   "source": [
    "**Extract and transform res.users**"
   ]
  },
  {
   "cell_type": "code",
   "execution_count": null,
   "metadata": {
    "collapsed": false
   },
   "outputs": [],
   "source": [
    "model_name = 'res.users'\n",
    "export_data(model_name)\n",
    "\n",
    "res_users_file_path = f'{GENERATED_CSV_FILES_PATH}{model_name}.csv'\n",
    "users_dataframe = pandas.read_csv(res_users_file_path)\n",
    "users_dataframe.rename(columns={'image ': 'image_1920'}, inplace=True)\n",
    "users_dataframe.to_csv(res_users_file_path, index=False)\n",
    "\n",
    "# Export users security groups\n",
    "fields_to_export = ['id', 'groups_id', 'groups_id/id']\n",
    "export_data(model_name=model_name,\n",
    "            fields=fields_to_export,\n",
    "            output_file=RES_USERS_GROUPS_FILE_NAME,\n",
    "            )\n",
    "res_users_groups_file_path = f'{GENERATED_CSV_FILES_PATH}{RES_USERS_GROUPS_FILE_NAME}'\n",
    "users_groups_dataframe = pandas.read_csv(res_users_groups_file_path)\n",
    "users_groups_dataframe.fillna(method='ffill', inplace=True)\n",
    "\n",
    "# Export v15 groups\n",
    "export_data(config='import_connection.conf',\n",
    "            model_name='res.groups',\n",
    "            fields=['id'],\n",
    "            output_file='res.groups.csv',\n",
    "            )\n",
    "res_groups_file_path = f'{GENERATED_CSV_FILES_PATH}res.groups.csv'\n",
    "groups_dataframe = pandas.read_csv(res_groups_file_path)\n",
    "groups_dataframe.rename(columns={'id': 'groups_id/id'}, inplace=True)\n",
    "users_groups_dataframe = users_groups_dataframe.merge(groups_dataframe, on='groups_id/id', how='inner')\n",
    "\n",
    "users_groups_dataframe.to_csv(res_users_groups_file_path, index=False)"
   ]
  },
  {
   "attachments": {},
   "cell_type": "markdown",
   "metadata": {
    "collapsed": false
   },
   "source": [
    "**Load res.users** (and load remaining res.partner fields)"
   ]
  },
  {
   "cell_type": "code",
   "execution_count": null,
   "metadata": {
    "collapsed": false
   },
   "outputs": [],
   "source": [
    "model_name = 'res.users'\n",
    "import_data(model_name=model_name)\n",
    "import_data(model_name=model_name, ignore_fields=['groups_id'], file_csv=RES_USERS_GROUPS_FILE_NAME, group_by='id', workers=1, context={'update_many2many': True})\n",
    "\n",
    "#Import remaining res.partner fields\n",
    "ignore_fields = ['id', 'name'] + models_migration_config['res.partner']['ignore_fields']\n",
    "import_ignored_fields('res.partner', ignore_fields = ignore_fields, workers=1)"
   ]
  },
  {
   "attachments": {},
   "cell_type": "markdown",
   "metadata": {
    "collapsed": false
   },
   "source": [
    "**Extract crm.lead.tag**"
   ]
  },
  {
   "cell_type": "code",
   "execution_count": null,
   "metadata": {
    "collapsed": false
   },
   "outputs": [],
   "source": [
    "export_data('crm.lead.tag')"
   ]
  },
  {
   "attachments": {},
   "cell_type": "markdown",
   "metadata": {
    "collapsed": false
   },
   "source": [
    "**Load crm.lead.tag**"
   ]
  },
  {
   "cell_type": "code",
   "execution_count": null,
   "metadata": {
    "collapsed": false
   },
   "outputs": [],
   "source": [
    "import_data('crm.lead.tag')"
   ]
  },
  {
   "attachments": {},
   "cell_type": "markdown",
   "metadata": {
    "collapsed": false
   },
   "source": [
    "**Extract crm.stage**"
   ]
  },
  {
   "cell_type": "code",
   "execution_count": null,
   "metadata": {
    "collapsed": false
   },
   "outputs": [],
   "source": [
    "export_data('crm.stage')\n",
    "\n",
    "stages_dataframe = pandas.read_csv(f'{GENERATED_CSV_FILES_PATH}crm.stage.csv')\n",
    "\n",
    "#replace company_division_id/id with branch_id/id\n",
    "stages_dataframe['company_division_id/id'] = stages_dataframe['company_division_id/id'].str.replace('__export__.company_subdivision_8_1c96d77e', national_accounts_branch_external_id)\n",
    "stages_dataframe['company_division_id/id'] = stages_dataframe['company_division_id/id'].str.replace('__export__.company_subdivision_2_f8b15617', design_center_branch_external_id)\n",
    "stages_dataframe['company_division_id/id'] = stages_dataframe['company_division_id/id'].str.replace('__export__.company_subdivision_5_ad79c78f', design_center_branch_external_id)\n",
    "stages_dataframe['company_division_id/id'] = stages_dataframe['company_division_id/id'].str.replace('__export__.company_subdivision_6_9087ebea', design_center_branch_external_id)\n",
    "stages_dataframe['company_division_id/id'] = stages_dataframe['company_division_id/id'].str.replace('__export__.company_subdivision_7_b737099f', design_center_branch_external_id)\n",
    "stages_dataframe['company_division_id/id'] = stages_dataframe['company_division_id/id'].str.replace('__export__.company_subdivision_27_08149b9d', design_center_branch_external_id)\n",
    "stages_dataframe['company_division_id/id'] = stages_dataframe['company_division_id/id'].str.replace('__export__.company_subdivision_29_7c7a3815', design_center_branch_external_id)\n",
    "\n",
    "stages_dataframe.rename(columns={'company_division_id/id': 'branch_id/id'}, inplace=True)\n",
    "\n",
    "stages_dataframe.to_csv(f'{GENERATED_CSV_FILES_PATH}crm.stage.csv', index=False)\n"
   ]
  },
  {
   "attachments": {},
   "cell_type": "markdown",
   "metadata": {
    "collapsed": false
   },
   "source": [
    "**Load crm.stage**"
   ]
  },
  {
   "cell_type": "code",
   "execution_count": null,
   "metadata": {
    "collapsed": false
   },
   "outputs": [],
   "source": [
    "import_data('crm.stage')"
   ]
  },
  {
   "attachments": {},
   "cell_type": "markdown",
   "metadata": {
    "collapsed": false
   },
   "source": [
    "**Extract and transform crm.team**"
   ]
  },
  {
   "cell_type": "code",
   "execution_count": null,
   "metadata": {
    "collapsed": false
   },
   "outputs": [],
   "source": [
    "model_name = 'crm.team'\n",
    "\n",
    "export_data(model_name)\n",
    "crm_team_dataframe = pandas.read_csv(f'{GENERATED_CSV_FILES_PATH}{model_name}.csv')\n",
    "\n",
    "replace_branches_ids(crm_team_dataframe)\n",
    "\n",
    "crm_team_dataframe.to_csv(f'{GENERATED_CSV_FILES_PATH}{model_name}.csv', index=False)\n",
    "\n",
    "#Export team members\n",
    "fields_to_export = ['id', 'member_ids', 'member_ids/id']\n",
    "export_data(model_name=model_name,\n",
    "            fields=fields_to_export,\n",
    "            output_file=CRM_TEAM_MEMBERS_FILE_NAME\n",
    "            )\n",
    "crm_team_file_path = f'{GENERATED_CSV_FILES_PATH}{CRM_TEAM_MEMBERS_FILE_NAME}'\n",
    "crm_team_dataframe = pandas.read_csv(crm_team_file_path)\n",
    "crm_team_dataframe.fillna(method='ffill', inplace=True)\n",
    "crm_team_dataframe.to_csv(crm_team_file_path, index=False)"
   ]
  },
  {
   "attachments": {},
   "cell_type": "markdown",
   "metadata": {
    "collapsed": false
   },
   "source": [
    "**Load crm.team**"
   ]
  },
  {
   "cell_type": "code",
   "execution_count": null,
   "metadata": {
    "collapsed": false
   },
   "outputs": [],
   "source": [
    "model_name = 'crm.team'\n",
    "import_data(model_name)\n",
    "import_data(model_name=model_name, ignore_fields=['member_ids'], file_csv=CRM_TEAM_MEMBERS_FILE_NAME, workers=1, context={'update_many2many': True})"
   ]
  },
  {
   "attachments": {},
   "cell_type": "markdown",
   "metadata": {
    "collapsed": false
   },
   "source": [
    "**Extract and transform crm.lead**"
   ]
  },
  {
   "cell_type": "code",
   "execution_count": null,
   "metadata": {
    "collapsed": false
   },
   "outputs": [],
   "source": [
    "model_name = 'crm.lead'\n",
    "export_data(model_name)\n",
    "\n",
    "crm_lead_file_path = f'{GENERATED_CSV_FILES_PATH}{model_name}.csv'\n",
    "crm_lead_dataframe = pandas.read_csv(crm_lead_file_path)\n",
    "replace_branches_ids(crm_lead_dataframe)\n",
    "crm_lead_dataframe.rename(columns={'planned_revenue': 'expected_revenue'}, inplace=True)\n",
    "crm_lead_dataframe['priority'] = crm_lead_dataframe['priority'].str.replace('Low', 'Medium')\n",
    "crm_lead_dataframe['priority'] = crm_lead_dataframe['priority'].str.replace('Normal', 'Low')\n",
    "crm_lead_dataframe['tag_ids/id'] = crm_lead_dataframe['tag_ids/id'].str.replace('False', '')\n",
    "crm_lead_dataframe.sort_values('id', inplace=True)\n",
    "\n",
    "crm_lead_dataframe.to_csv(crm_lead_file_path, index=False)"
   ]
  },
  {
   "attachments": {},
   "cell_type": "markdown",
   "metadata": {
    "collapsed": false
   },
   "source": [
    "**Load crm.lead**"
   ]
  },
  {
   "cell_type": "code",
   "execution_count": null,
   "metadata": {
    "collapsed": false
   },
   "outputs": [],
   "source": [
    "import_data('crm.lead')"
   ]
  },
  {
   "attachments": {},
   "cell_type": "markdown",
   "metadata": {
    "collapsed": false
   },
   "source": [
    "**Extract project.tags**"
   ]
  },
  {
   "cell_type": "code",
   "execution_count": null,
   "metadata": {
    "collapsed": false
   },
   "outputs": [],
   "source": [
    "export_data('project.tags')"
   ]
  },
  {
   "attachments": {},
   "cell_type": "markdown",
   "metadata": {
    "collapsed": false
   },
   "source": [
    "**Load project.tags**"
   ]
  },
  {
   "cell_type": "code",
   "execution_count": null,
   "metadata": {
    "collapsed": false
   },
   "outputs": [],
   "source": [
    "import_data('project.tags')"
   ]
  },
  {
   "attachments": {},
   "cell_type": "markdown",
   "metadata": {
    "collapsed": false
   },
   "source": [
    "**Extract and transform project.project**"
   ]
  },
  {
   "cell_type": "code",
   "execution_count": null,
   "metadata": {
    "collapsed": false
   },
   "outputs": [],
   "source": [
    "model_name = 'project.project'\n",
    "export_data(model_name)\n",
    "\n",
    "projects_file_path = f'{GENERATED_CSV_FILES_PATH}{model_name}.csv'\n",
    "projects_dataframe = pandas.read_csv(projects_file_path)\n",
    "replace_branches_ids(projects_dataframe)\n",
    "projects_dataframe['privacy_visibility'] = projects_dataframe['privacy_visibility'].str.replace('Visible by all employees', 'All employees')\n",
    "projects_dataframe['privacy_visibility'] = projects_dataframe['privacy_visibility'].str.replace('On invitation only', 'Invited employees')\n",
    "projects_dataframe.to_csv(projects_file_path, index=False)"
   ]
  },
  {
   "attachments": {},
   "cell_type": "markdown",
   "metadata": {
    "collapsed": false
   },
   "source": [
    "**Load project.project**"
   ]
  },
  {
   "cell_type": "code",
   "execution_count": null,
   "metadata": {
    "collapsed": false
   },
   "outputs": [],
   "source": [
    "model_name = 'project.project'\n",
    "import_data(model_name)"
   ]
  },
  {
   "attachments": {},
   "cell_type": "markdown",
   "metadata": {
    "collapsed": false
   },
   "source": [
    "**Extract project.task.type**"
   ]
  },
  {
   "cell_type": "code",
   "execution_count": null,
   "metadata": {
    "collapsed": false
   },
   "outputs": [],
   "source": [
    "model_name = 'project.task.type'\n",
    "export_data(model_name)\n",
    "\n",
    "project_task_type_file_path = f'{GENERATED_CSV_FILES_PATH}{model_name}.csv'\n",
    "project_task_types_dataframe = pandas.read_csv(project_task_type_file_path)\n",
    "project_task_types_dataframe['project_ids/id'] = project_task_types_dataframe['project_ids/id'].str.replace('False', '')\n",
    "project_task_types_dataframe.to_csv(project_task_type_file_path, index=False)"
   ]
  },
  {
   "attachments": {},
   "cell_type": "markdown",
   "metadata": {
    "collapsed": false
   },
   "source": [
    "**Load project.task.type**"
   ]
  },
  {
   "cell_type": "code",
   "execution_count": null,
   "metadata": {
    "collapsed": false
   },
   "outputs": [],
   "source": [
    "import_data('project.task.type')"
   ]
  },
  {
   "attachments": {},
   "cell_type": "markdown",
   "metadata": {
    "collapsed": false
   },
   "source": [
    "**Extract and transform project.task**"
   ]
  },
  {
   "cell_type": "code",
   "execution_count": null,
   "metadata": {
    "collapsed": false
   },
   "outputs": [],
   "source": [
    "model_name = 'project.task'\n",
    "export_data(model_name)\n",
    "\n",
    "project_tasks_file_path = f'{GENERATED_CSV_FILES_PATH}{model_name}.csv'\n",
    "project_tasks_dataframe = pandas.read_csv(project_tasks_file_path)\n",
    "project_tasks_dataframe['user_id/id'] = project_tasks_dataframe['user_id/id'].str.replace('False', '')\n",
    "project_tasks_dataframe['tag_ids/id'] = project_tasks_dataframe['tag_ids/id'].astype(str).str.replace('False', '')\n",
    "project_tasks_dataframe['tag_ids/id'] = project_tasks_dataframe['tag_ids/id'].str.replace('False', '')\n",
    "project_tasks_dataframe['priority'] = project_tasks_dataframe['priority'].str.replace('Normal', 'Important')\n",
    "project_tasks_dataframe['priority'] = project_tasks_dataframe['priority'].str.replace('Low', 'Normal')\n",
    "project_tasks_dataframe.rename(columns={'user_id/id': 'user_ids/id'}, inplace=True)\n",
    "project_tasks_dataframe.rename(columns={'email_from': 'email_cc'}, inplace=True)\n",
    "project_tasks_dataframe.to_csv(project_tasks_file_path, index=False)"
   ]
  },
  {
   "attachments": {},
   "cell_type": "markdown",
   "metadata": {
    "collapsed": false
   },
   "source": [
    "**Load project.task**"
   ]
  },
  {
   "cell_type": "code",
   "execution_count": null,
   "metadata": {
    "collapsed": false
   },
   "outputs": [],
   "source": [
    "model_name = 'project.task'\n",
    "import_data(model_name)\n",
    "import_ignored_fields(model_name, workers=1, group_by='parent_id/id')"
   ]
  },
  {
   "attachments": {},
   "cell_type": "markdown",
   "metadata": {},
   "source": [
    "**Extract mail.mass_mailing.contact**"
   ]
  },
  {
   "cell_type": "code",
   "execution_count": null,
   "metadata": {},
   "outputs": [],
   "source": [
    "export_data('mail.mass_mailing.contact')"
   ]
  },
  {
   "attachments": {},
   "cell_type": "markdown",
   "metadata": {},
   "source": [
    "**Load mail.mass_mailing.contact**"
   ]
  },
  {
   "cell_type": "code",
   "execution_count": null,
   "metadata": {},
   "outputs": [],
   "source": [
    "model_name = 'mail.mass_mailing.contact'\n",
    "\n",
    "import_data(model_name)"
   ]
  },
  {
   "attachments": {},
   "cell_type": "markdown",
   "metadata": {},
   "source": [
    "**Extract and transform mail.mass_mailing.list**`"
   ]
  },
  {
   "cell_type": "code",
   "execution_count": null,
   "metadata": {},
   "outputs": [],
   "source": [
    "export_data('mail.mass_mailing.list')"
   ]
  },
  {
   "attachments": {},
   "cell_type": "markdown",
   "metadata": {},
   "source": [
    "**Load mail.mass_mailing.list**"
   ]
  },
  {
   "cell_type": "code",
   "execution_count": null,
   "metadata": {},
   "outputs": [],
   "source": [
    "model_name = 'mail.mass_mailing.list'\n",
    "\n",
    "import_data(model_name)"
   ]
  },
  {
   "attachments": {},
   "cell_type": "markdown",
   "metadata": {},
   "source": [
    "**Extract  Mailing List Recipients**"
   ]
  },
  {
   "cell_type": "code",
   "execution_count": null,
   "metadata": {},
   "outputs": [],
   "source": [
    "export_data('mail.mass_mailing.contact',\n",
    "            fields=['id', 'opt_out', 'unsubscription_date', 'list_ids/id'],\n",
    "            output_file='mailing.contact.subscription.csv')\n",
    "\n",
    "recipients_dataframe = pandas.read_csv(f'{GENERATED_CSV_FILES_PATH}mailing.contact.subscription.csv')\n",
    "recipients_dataframe.rename(columns={\n",
    "    'id': 'contact_id/id',\n",
    "    'list_ids/id': 'list_id/id'\n",
    "    }\n",
    "  , inplace=True)\n",
    "\n",
    "#Delete rows with empty list_id/id\n",
    "for row in recipients_dataframe.iterrows():\n",
    "    if row[1]['list_id/id'] == 'False':\n",
    "        recipients_dataframe.drop(row[0], inplace=True)\n",
    "\n",
    "#Add id column e.g: data_migration.mailing.contact.subscription_1\n",
    "recipients_dataframe.insert(0, 'id', [f'data_migration.mailing.contact.subscription_{row_index}' for row_index in range(1, 1 + len(recipients_dataframe))])\n",
    "\n",
    "recipients_dataframe.to_csv(f'{GENERATED_CSV_FILES_PATH}mailing.contact.subscription.csv', index=False)\n",
    "\n"
   ]
  },
  {
   "attachments": {},
   "cell_type": "markdown",
   "metadata": {},
   "source": [
    "**Load mailing.contact.subscription**"
   ]
  },
  {
   "cell_type": "code",
   "execution_count": null,
   "metadata": {},
   "outputs": [],
   "source": [
    "import_data(model_name='mailing.contact.subscription')"
   ]
  },
  {
   "attachments": {},
   "cell_type": "markdown",
   "metadata": {},
   "source": [
    "**Extract utm.source**"
   ]
  },
  {
   "cell_type": "code",
   "execution_count": null,
   "metadata": {},
   "outputs": [],
   "source": [
    "export_data('utm.source')"
   ]
  },
  {
   "attachments": {},
   "cell_type": "markdown",
   "metadata": {},
   "source": [
    "**Load utm.source**"
   ]
  },
  {
   "cell_type": "code",
   "execution_count": 2,
   "metadata": {},
   "outputs": [
    {
     "name": "stdout",
     "output_type": "stream",
     "text": [
      "open generated_csv_files/utm.source.csv\n"
     ]
    },
    {
     "name": "stderr",
     "output_type": "stream",
     "text": [
      "open generated_csv_files/utm.source.csv\n"
     ]
    },
    {
     "name": "stdout",
     "output_type": "stream",
     "text": [
      "Skipping until line 0 excluded\n",
      "time for batch [0] - 1000 of 546 : 6.599755048751831\n",
      "546 utm.source imported, total time 6.600895643234253 second(s)\n"
     ]
    }
   ],
   "source": [
    "import_data('utm.source')"
   ]
  },
  {
   "attachments": {},
   "cell_type": "markdown",
   "metadata": {},
   "source": [
    "**Extract mail.mass_mailing**"
   ]
  },
  {
   "cell_type": "code",
   "execution_count": null,
   "metadata": {},
   "outputs": [],
   "source": [
    "export_data('mail.mass_mailing')\n",
    "\n",
    "mailings_dataframe = pandas.read_csv(f'{GENERATED_CSV_FILES_PATH}mail.mass_mailing.csv')\n",
    "\n",
    "mailings_dataframe['mailing_model_id/id'] = mailings_dataframe['mailing_model_id/id'].str.replace('mass_mailing.model_mail_mass_mailing_list', 'mass_mailing.model_mailing_list')\n",
    "mailings_dataframe['mailing_model_id/id'] = mailings_dataframe['mailing_model_id/id'].str.replace('custom_authorize_net', 'base')\n",
    "mailings_dataframe['contact_list_ids/id'] = mailings_dataframe['contact_list_ids/id'].str.replace('False', '')\n",
    "\n",
    "mailings_dataframe['subject'] = mailings_dataframe['name']\n",
    "\n",
    "mailings_dataframe['body_arch'] = mailings_dataframe['body_html']\n",
    "\n",
    "mailings_dataframe.to_csv(f'{GENERATED_CSV_FILES_PATH}mail.mass_mailing.csv', index=False)"
   ]
  },
  {
   "attachments": {},
   "cell_type": "markdown",
   "metadata": {},
   "source": [
    "**Load mail.mass_mailing**"
   ]
  },
  {
   "cell_type": "code",
   "execution_count": null,
   "metadata": {},
   "outputs": [],
   "source": [
    "import_data('mail.mass_mailing')"
   ]
  },
  {
   "attachments": {},
   "cell_type": "markdown",
   "metadata": {},
   "source": [
    "**Extract mass.mailing.template**"
   ]
  },
  {
   "cell_type": "code",
   "execution_count": null,
   "metadata": {},
   "outputs": [],
   "source": [
    "export_data('mass.mailing.template')\n",
    "\n",
    "templates_dataframe = pandas.read_csv(f'{GENERATED_CSV_FILES_PATH}mass.mailing.template.csv')\n",
    "\n",
    "templates_dataframe['name'] = '[Broken, create this template manually] ' + templates_dataframe['name']\n",
    "templates_dataframe['body_arch'] = templates_dataframe['body_html']\n",
    "\n",
    "templates_dataframe.to_csv(f'{GENERATED_CSV_FILES_PATH}mass.mailing.template.csv', index=False)\n"
   ]
  },
  {
   "attachments": {},
   "cell_type": "markdown",
   "metadata": {},
   "source": [
    "**Load mailing.template**"
   ]
  },
  {
   "cell_type": "code",
   "execution_count": null,
   "metadata": {},
   "outputs": [],
   "source": [
    "import_data('mass.mailing.template')"
   ]
  },
  {
   "attachments": {},
   "cell_type": "markdown",
   "metadata": {
    "collapsed": false,
    "pycharm": {
     "is_executing": true
    }
   },
   "source": [
    "**Extract and transform ir.model.data**\n",
    "Requires all the previous steps to work properly given that it depends on the new external ids created on the new Odoo instance"
   ]
  },
  {
   "cell_type": "code",
   "execution_count": null,
   "metadata": {
    "collapsed": false
   },
   "outputs": [],
   "source": [
    "models_to_export_external_ids = ['crm.lead', 'crm.team', 'res.partner', 'project.project', 'project.task']\n",
    "#models_to_export_external_ids = ['crm.lead', 'crm.team', 'res.partner', 'project.project', 'project.task', 'product.template', 'purchase.order', 'sale.order', 'sale.order.line']\n",
    "#Export external_ids\n",
    "fields_to_export = ['complete_name', 'res_id', 'model']\n",
    "export_data(model_name='ir.model.data',\n",
    "            fields=fields_to_export,\n",
    "            output_file='ir.model.data.old.csv',\n",
    "            domain=[['model', 'in', models_to_export_external_ids]]\n",
    "            )\n",
    "#Export v15 external_ids\n",
    "export_data(config='import_connection.conf',\n",
    "            model_name='ir.model.data',\n",
    "            fields=fields_to_export,\n",
    "            output_file='ir.model.data.new.csv',\n",
    "            domain=[['model', 'in', models_to_export_external_ids]]\n",
    "            )\n",
    "external_ids_old_file_path = f'{GENERATED_CSV_FILES_PATH}ir.model.data.old.csv'\n",
    "external_ids_new_file_path = f'{GENERATED_CSV_FILES_PATH}ir.model.data.new.csv'\n",
    "merged_data_frame_file_path = f'{GENERATED_CSV_FILES_PATH}ir.model.data.merged.csv'\n",
    "ir_model_data_old_dataframe = pandas.read_csv(external_ids_old_file_path)\n",
    "ir_model_data_new_dataframe = pandas.read_csv(external_ids_new_file_path)\n",
    "ir_model_data_old_dataframe['complete_name'] = ir_model_data_old_dataframe['complete_name'].str.replace('base.partner_root', 'base.partner_admin')\n",
    "ir_model_data_old_dataframe['complete_name'] = ir_model_data_old_dataframe['complete_name'].str.replace('base.default_user_res_partner', 'base.template_portal_user_id_res_partner')\n",
    "ir_model_data_old_dataframe.to_csv(external_ids_old_file_path, index=False)\n",
    "# Merge old and new external ids to extract the new database id\n",
    "ir_model_data_old_dataframe.rename(columns={'res_id': 'old_res_id'}, inplace=True)\n",
    "ir_model_data_merged_dataframe = ir_model_data_new_dataframe.merge(ir_model_data_old_dataframe, on=['complete_name', 'model'], how='inner')\n",
    "ir_model_data_merged_dataframe.rename(columns={'res_id': 'new_res_id'}, inplace=True)\n",
    "ir_model_data_merged_dataframe['old_res_id'] = ir_model_data_merged_dataframe['old_res_id'].astype('int')\n",
    "ir_model_data_merged_dataframe.to_csv(merged_data_frame_file_path, index=False)"
   ]
  },
  {
   "attachments": {},
   "cell_type": "markdown",
   "metadata": {
    "collapsed": false
   },
   "source": [
    "**Extract and transform mail.message**\n",
    "Requires all the previous steps to work properly given that it depends on the new external ids created on the new Odoo instance"
   ]
  },
  {
   "cell_type": "code",
   "execution_count": null,
   "metadata": {
    "collapsed": false
   },
   "outputs": [],
   "source": [
    "model_name = 'mail.message'\n",
    "export_data(model_name)\n",
    "\n",
    "mail_message_file_path = f'{GENERATED_CSV_FILES_PATH}{model_name}.csv'\n",
    "mail_message_dataframe = pandas.read_csv(mail_message_file_path)\n",
    "\n",
    "mail_message_dataframe['subtype_id/id'] = mail_message_dataframe['subtype_id/id'].str.replace('False', '')\n",
    "mail_message_dataframe['partner_ids/id'] = mail_message_dataframe['partner_ids/id'].astype('str')\n",
    "mail_message_dataframe['partner_ids/id'] = mail_message_dataframe['partner_ids/id'].str.replace('False', '')\n",
    "\n",
    "ir_model_data_merged_file_path = f'{GENERATED_CSV_FILES_PATH}ir.model.data.merged.csv'\n",
    "ir_model_data_merged_dataframe = pandas.read_csv(ir_model_data_merged_file_path)\n",
    "\n",
    "# Merge the mail.message dataframe with ir_model_data_merged_dataframe to get the new database ids\n",
    "mail_message_dataframe = mail_message_dataframe.merge(ir_model_data_merged_dataframe, left_on=['model', 'res_id'], right_on=['model', 'old_res_id'], how='inner')\n",
    "mail_message_dataframe.rename(columns={'res_id': 'old_res_id'}, inplace=True)\n",
    "mail_message_dataframe.rename(columns={'new_res_id': 'res_id'}, inplace=True)\n",
    "mail_message_dataframe['res_id'] = mail_message_dataframe['res_id'].astype('int')\n",
    "\n",
    "mail_message_dataframe.sort_values('date', ascending=True, inplace=True)\n",
    "mail_message_dataframe.to_csv(mail_message_file_path, index=False)"
   ]
  },
  {
   "attachments": {},
   "cell_type": "markdown",
   "metadata": {
    "collapsed": false
   },
   "source": [
    "**Load mail.message**"
   ]
  },
  {
   "cell_type": "code",
   "execution_count": null,
   "metadata": {
    "collapsed": false
   },
   "outputs": [],
   "source": [
    "model_name = 'mail.message'\n",
    "ignored_fields = ['old_res_id', 'old_res_id2', 'complete_name', 'parent_id/id']\n",
    "import_data(model_name=model_name, ignore_fields=ignored_fields, group_by='complete_name')"
   ]
  },
  {
   "attachments": {},
   "cell_type": "markdown",
   "metadata": {
    "collapsed": false
   },
   "source": [
    "**Extract and transform mail.tracking.value**"
   ]
  },
  {
   "cell_type": "code",
   "execution_count": null,
   "metadata": {
    "collapsed": false
   },
   "outputs": [],
   "source": [
    "model_name = 'mail.tracking.value'\n",
    "mail_tracking_value_all_file_name = f'{model_name}.all.csv'\n",
    "mail_tracking_value_all_file_path = f'{GENERATED_CSV_FILES_PATH}{mail_tracking_value_all_file_name}'\n",
    "mail_tracking_value_file_path = f'{GENERATED_CSV_FILES_PATH}{model_name}.csv'\n",
    "export_data(model_name=model_name, output_file=mail_tracking_value_all_file_name)\n",
    "mail_tracking_value_dataframe = pandas.read_csv(mail_tracking_value_all_file_path, low_memory=False)\n",
    "\n",
    "mail_message_file_path = f'{GENERATED_CSV_FILES_PATH}mail.message.csv'\n",
    "mail_message_dataframe = pandas.read_csv(mail_message_file_path, low_memory=False)\n",
    "mail_message_dataframe.rename(columns={'id': 'mail_message_id/id'}, inplace=True)\n",
    "\n",
    "#Merge tracking values with mail.message to filter the tracking values to import and adding the model column\n",
    "mail_message_dataframe = mail_message_dataframe[['model', 'mail_message_id/id']]\n",
    "mail_tracking_value_dataframe = mail_tracking_value_dataframe.merge(mail_message_dataframe, on='mail_message_id/id', how='inner')\n",
    "\n",
    "#Export v15 ir_model_fields\n",
    "fields_model_name = 'ir.model.fields'\n",
    "models_with_mail_messages = list(mail_message_dataframe['model'].unique())\n",
    "models_to_export_external_ids = [m for m in models_with_mail_messages if m in models_migration_config.keys()]\n",
    "export_data(config='import_connection.conf',\n",
    "            model_name=fields_model_name,\n",
    "            fields=['id', 'name', 'model'],\n",
    "            output_file=f'{fields_model_name}.csv',\n",
    "            domain=[['model', 'in', models_to_export_external_ids]]\n",
    "            )\n",
    "ir_model_fields_file_path = f'{GENERATED_CSV_FILES_PATH}{fields_model_name}.csv'\n",
    "fields_dataframe = pandas.read_csv(ir_model_fields_file_path)\n",
    "fields_dataframe.rename(columns={'id': 'field/id'}, inplace=True)\n",
    "fields_dataframe.rename(columns={'name': 'field'}, inplace=True)\n",
    "\n",
    "#Merge tracking values with fields to extract the fields' external ids\n",
    "mail_tracking_value_dataframe['field'] = mail_tracking_value_dataframe['field'].str.replace('planned_revenue', 'expected_revenue')\n",
    "mail_tracking_value_dataframe['field'] = mail_tracking_value_dataframe['field'].str.replace('categ_id', 'category_id')\n",
    "mail_tracking_value_dataframe['field'] = mail_tracking_value_dataframe['field'].str.replace('salesperson_ids', 'user_id')\n",
    "mail_tracking_value_dataframe = mail_tracking_value_dataframe.merge(fields_dataframe, on=['field', 'model'], how='inner')\n",
    "# Drop columns used just to merge\n",
    "mail_tracking_value_dataframe.drop(columns={'field', 'model'}, inplace=True)\n",
    "\n",
    "mail_tracking_value_dataframe.to_csv(mail_tracking_value_file_path, index=False)"
   ]
  },
  {
   "attachments": {},
   "cell_type": "markdown",
   "metadata": {
    "collapsed": false
   },
   "source": [
    "**Load mail.tracking.value**"
   ]
  },
  {
   "cell_type": "code",
   "execution_count": null,
   "metadata": {
    "collapsed": false
   },
   "outputs": [],
   "source": [
    "import_data('mail.tracking.value')"
   ]
  },
  {
   "attachments": {},
   "cell_type": "markdown",
   "metadata": {
    "collapsed": false
   },
   "source": [
    "**Extract ir.attachment**"
   ]
  },
  {
   "cell_type": "code",
   "execution_count": null,
   "metadata": {
    "collapsed": false
   },
   "outputs": [],
   "source": [
    "model_name = 'ir.attachment'\n",
    "export_data(model_name)\n",
    "\n",
    "ir_attachment_file_path = f'{GENERATED_CSV_FILES_PATH}{model_name}.csv'\n",
    "ir_attachment_dataframe = pandas.read_csv(ir_attachment_file_path)\n",
    "\n",
    "ir_model_data_merged_file_path = f'{GENERATED_CSV_FILES_PATH}ir.model.data.merged.csv'\n",
    "ir_model_data_merged_dataframe = pandas.read_csv(ir_model_data_merged_file_path)\n",
    "ir_model_data_merged_dataframe.rename(columns={'model': 'res_model'}, inplace=True)\n",
    "\n",
    "# Merge the ir.attachment dataframe with ir_model_data_merged_dataframe to get the new database ids\n",
    "ir_attachment_dataframe.rename(columns={'res_id': 'old_res_id'}, inplace=True)\n",
    "ir_attachment_dataframe = ir_attachment_dataframe.merge(ir_model_data_merged_dataframe, on=['res_model', 'old_res_id'], how='inner')\n",
    "ir_attachment_dataframe.drop(columns={'old_res_id', 'complete_name'}, inplace=True)\n",
    "ir_attachment_dataframe.rename(columns={'new_res_id': 'res_id'}, inplace=True)\n",
    "\n",
    "ir_attachment_dataframe.sort_values('id', ascending=True, inplace=True)\n",
    "ir_attachment_dataframe.to_csv(f'{GENERATED_CSV_FILES_PATH}{model_name}2.csv', index=False)"
   ]
  },
  {
   "attachments": {},
   "cell_type": "markdown",
   "metadata": {
    "collapsed": false
   },
   "source": [
    "**Extract ir.attachment** Part 2\n",
    "We separate this process into 2 parts to keep the output shorter, in part 1 all attachments references are loaded but with empty files, in this second part the actual files data is loaded"
   ]
  },
  {
   "cell_type": "code",
   "execution_count": null,
   "metadata": {
    "collapsed": false
   },
   "outputs": [],
   "source": [
    "#Separate into batches per model to keep files smaller and avoid memory errors\n",
    "attachments_model_name = 'ir.attachment'\n",
    "fields_to_export = ['id', 'name', 'datas']\n",
    "# models_with_attachments = ['project.task']\n",
    "models_with_attachments = ['res.partner']\n",
    "max_file_size_for_batches = 50000000 # 50 MB\n",
    "batch_size = 20 # Some files are very large so it fails due to 413 (Payload Too Large), so we keep the batch size small\n",
    "#Batch sizes 15 10 5 3\n",
    "# export_data(\n",
    "#     attachments_model_name,\n",
    "#     fields=fields_to_export,\n",
    "#     domain=[['res_model', 'in', models_with_attachments], ['file_size', '>', max_file_size_for_batches]],\n",
    "#     output_file=f'{attachments_model_name}.big_files.csv',\n",
    "#     batch_size=1\n",
    "# )\n",
    "for model_name in models_with_attachments:\n",
    "    export_data(\n",
    "        attachments_model_name,\n",
    "        fields=fields_to_export,\n",
    "        domain=[['res_model', '=', model_name], ['file_size', '<', max_file_size_for_batches]],\n",
    "        output_file=f'{attachments_model_name}.{model_name}.csv',\n",
    "        batch_size=3\n",
    "    )\n",
    "        # export_data(\n",
    "        #     attachments_model_name,\n",
    "        #     fields=fields_to_export,\n",
    "        #     domain=[['res_model', '=', model_name], ['file_size', '<', max_file_size_for_batches], ['file_size', '>', max_file_size_for_batches/4]],\n",
    "        #     output_file=f'{attachments_model_name}.{model_name}2.csv',\n",
    "        #     batch_size=15\n",
    "        # )\n",
    "    # else:\n",
    "    #     export_data(\n",
    "    #         attachments_model_name,\n",
    "    #         fields=fields_to_export,\n",
    "    #         domain=[['res_model', '=', model_name], ['file_size', '<', max_file_size_for_batches]],\n",
    "    #         output_file=f'{attachments_model_name}.{model_name}.csv',\n",
    "    #         batch_size=15\n",
    "    #     )"
   ]
  },
  {
   "attachments": {},
   "cell_type": "markdown",
   "metadata": {
    "collapsed": false
   },
   "source": [
    "**Load ir.attachment**"
   ]
  },
  {
   "cell_type": "code",
   "execution_count": null,
   "metadata": {
    "collapsed": false
   },
   "outputs": [],
   "source": [
    "attachments_model_name = 'ir.attachment'\n",
    "batch_size = 15\n",
    "models_with_attachments = ['project.task']\n",
    "#'project.task' 'crm.lead'\n",
    "#import_data(attachments_model_name, file_csv=f'{attachments_model_name}2.csv')\n",
    "#import_data(attachments_model_name, file_csv=f'{attachments_model_name}.big_files.csv', batch_size=1)\n",
    "for model_name in models_with_attachments:\n",
    "    if model_name == 'project.task':\n",
    "        # TODO: Run 4\n",
    "        #import_data(attachments_model_name, file_csv=f'ir.attachment.project.task1.csv.fail', batch_size=2)\n",
    "        \n",
    "        import_data(attachments_model_name, file_csv=f'{attachments_model_name}.{model_name}3.csv', batch_size=2)\n"
   ]
  }
 ],
 "metadata": {
  "kernelspec": {
   "display_name": "venv",
   "language": "python",
   "name": "python3"
  },
  "language_info": {
   "codemirror_mode": {
    "name": "ipython",
    "version": 3
   },
   "file_extension": ".py",
   "mimetype": "text/x-python",
   "name": "python",
   "nbconvert_exporter": "python",
   "pygments_lexer": "ipython3",
   "version": "3.8.10"
  },
  "vscode": {
   "interpreter": {
    "hash": "dca556ecc5dd513367558f6312acb415247f7e6342b10809f71b9a3671f6e71e"
   }
  }
 },
 "nbformat": 4,
 "nbformat_minor": 1
}
