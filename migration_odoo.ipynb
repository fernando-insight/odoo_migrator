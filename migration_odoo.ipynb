{
 "cells": [
  {
   "attachments": {},
   "cell_type": "markdown",
   "metadata": {},
   "source": [
    "# Hermitage Odoo migration notebook\n",
    "\n",
    "This notebook app will run the ETL process to migrate Heremitage's Odoo 11 to a new Odoo 15 system.\n",
    "It will basically extract the data from v11 into csv files, make the necessary transformations to make it importable in Odoo 15 and then load the data it into Hermitage's new Odoo 15 instance.\n",
    "\n",
    "## Initial Configurations\n",
    "\n",
    "**Export Configurations File**\n",
    "In this workspace you can find the file [export_connection.conf](export_connection.conf), it is used to set all the necessary settings and credentials to connect to Hermitage's Odoo 11 instance\n",
    "\n",
    "**Import Configurations File**\n",
    "In this workspace you can find the file [import_connection.conf](import_connection.conf), it is used to set all the necessary settings and credentials to connect to Hermitage's Odoo 15 instance\n",
    "\n",
    "**Models Migration Configurations File**\n",
    "In this workspace you can find the file [models_migration_config.conf](models_migration_config.conf). In it its possible to change certain aspects of how the models are extracted and loaded into the new system.\n",
    "Most common possible configurations are:\n",
    "- Fields to migrate\n",
    "- Domain/Filter used to extract\n",
    "- Fields to ignore when loading the data\n",
    "\n",
    "**States Remapping File**\n",
    "In this workspace you can find the file [input_csv_files/States Remapping - Input.csv](input_csv_files/States%20Remapping%20-%20Input.csv.conf), it is used to change the states and countries from certain partners.\n",
    "This file is extracted from a Google Spreadsheet where some states and country data was manually corrected and then mapped with formulas to Odoo's 15 states and country base data.\n",
    "Link to the Spreadsheet to check which states were affected: [States Remapping](https://docs.google.com/spreadsheets/d/1hL9S4APfv9cJYEihGn9Rtimt0xQp7mq1E0ZRpWafa8I/edit?usp=share_link)"
   ]
  },
  {
   "attachments": {},
   "cell_type": "markdown",
   "metadata": {},
   "source": [
    "### Imports\n",
    "- pandas: to make transformations on the data\n",
    "- odoo_csv_tools: Odoo SDK python package specialized for ETL processes\n",
    "- Models' migration config\n",
    "- Import function"
   ]
  },
  {
   "attachments": {},
   "cell_type": "markdown",
   "metadata": {},
   "source": [
    "### Constants\n",
    "No need to parameterize these values for now\n",
    "Included file paths for some extra csv files that don't follow the standard naming convention of model_name.csv, e.g: res.partner.csv"
   ]
  },
  {
   "attachments": {},
   "cell_type": "markdown",
   "metadata": {},
   "source": [
    "**Export function wrapper**"
   ]
  },
  {
   "cell_type": "code",
   "execution_count": 1,
   "metadata": {},
   "outputs": [],
   "source": [
    "import pandas\n",
    "\n",
    "from odoo_csv_tools import export_threaded\n",
    "\n",
    "from models_migration_config import models_migration_config\n",
    "from import_functions import import_data, import_ignored_fields\n",
    "\n",
    "EXPORT_CONNECTION_CONFIG_DIR = 'export_connection.conf'\n",
    "EXPORT_DEFAULT_BATCH_SIZE = 3000\n",
    "EXPORT_DEFAULT_REQ_CONTEXT = {}\n",
    "DEFAULT_WORKERS = 2\n",
    "\n",
    "GENERATED_CSV_FILES_PATH = 'generated_csv_files/'\n",
    "INPUT_CSV_FILES_PATH = 'input_csv_files/'\n",
    "STATES_REMAPPING_FILE_NAME = 'States Remapping - Input.csv'\n",
    "PARTNERS_WITHOUT_NAME_FILE_NAME = 'res.partner(no name).csv'\n",
    "RES_USERS_GROUPS_FILE_NAME = 'res.users(groups).csv'\n",
    "CRM_TEAM_MEMBERS_FILE_NAME = 'crm.team(members).csv'\n",
    "\n",
    "national_accounts_branch_external_id = \"multi_branches.main_branch\"\n",
    "design_center_branch_external_id = \"__export__.res_branch_4_e6b8f9eb\"\n",
    "\n",
    "old_national_accounts_branch_external_id = \"__export__.res_branch_2_45e420c1\"\n",
    "old_kitchen_branch_external_id = \"__export__.res_branch_6_734443bb\"\n",
    "old_gallery_531_branch_external_id = \"__export__.res_branch_1_d965e632\"\n",
    "\n",
    "def export_data(model_name = None, config = None, domain = None, fields = None, output_file = None, workers = None, batch_size = None, context = None, separator = None):\n",
    "    if model_name in ['ir.model.data', 'ir.model.fields', 'res.groups']:\n",
    "        model_migration_config = {}\n",
    "    else:\n",
    "        model_migration_config = models_migration_config[model_name]\n",
    "    if not config:\n",
    "        config = EXPORT_CONNECTION_CONFIG_DIR\n",
    "    if not domain:\n",
    "        domain = model_migration_config.get('domain', [])\n",
    "    if not fields:\n",
    "        fields = model_migration_config.get('fields', [])\n",
    "    if output_file:\n",
    "        output_file = f'{GENERATED_CSV_FILES_PATH}{output_file}'\n",
    "    else:\n",
    "        output_file = f'{GENERATED_CSV_FILES_PATH}{model_name}.csv'\n",
    "    if not workers:\n",
    "        workers = DEFAULT_WORKERS\n",
    "    if not batch_size:\n",
    "        batch_size = model_migration_config.get('batch_size', EXPORT_DEFAULT_BATCH_SIZE)\n",
    "    if not context:\n",
    "        context = model_migration_config.get('context', EXPORT_DEFAULT_REQ_CONTEXT)\n",
    "    if not separator:\n",
    "        separator = model_migration_config.get('separator', ',')\n",
    "\n",
    "    export_threaded.export_data(\n",
    "        config,\n",
    "        model_name,\n",
    "        domain,\n",
    "        fields,\n",
    "        output=output_file,\n",
    "        max_connection=workers,\n",
    "        batch_size=batch_size,\n",
    "        context=context,\n",
    "        separator=separator,\n",
    "    )\n",
    "\n",
    "def replace_branches_ids(df):\n",
    "    df['branch_id/id'] = df['branch_id/id'].str.replace(old_national_accounts_branch_external_id, national_accounts_branch_external_id)\n",
    "    df['branch_id/id'] = df['branch_id/id'].str.replace(old_kitchen_branch_external_id, design_center_branch_external_id)\n",
    "    df['branch_id/id'] = df['branch_id/id'].str.replace(old_gallery_531_branch_external_id, design_center_branch_external_id)\n",
    "\n",
    "# Helper functions for the create & write fields\n",
    "def get_v11_file_name(model_name):\n",
    "    return f'create_fields_{model_name}_old.csv'\n",
    "\n",
    "def get_v15_file_name(model_name):\n",
    "    return f'create_fields_{model_name}_new.csv'"
   ]
  },
  {
   "attachments": {},
   "cell_type": "markdown",
   "metadata": {},
   "source": [
    "**Extract res.partner.category**"
   ]
  },
  {
   "cell_type": "code",
   "execution_count": null,
   "metadata": {},
   "outputs": [],
   "source": [
    "export_data('res.partner.category')"
   ]
  },
  {
   "attachments": {},
   "cell_type": "markdown",
   "metadata": {},
   "source": [
    "**Load account.payment.term**"
   ]
  },
  {
   "cell_type": "code",
   "execution_count": null,
   "metadata": {},
   "outputs": [],
   "source": [
    "model_name = 'account.payment.term'\n",
    "\n",
    "import_data(model_name, absolute_file_path=f'{INPUT_CSV_FILES_PATH}{model_name}.csv',\n",
    "            ignore_fields=['discount_days', 'payment_term_for'])\n",
    "# Ignoring the fileds that are not implemented."
   ]
  },
  {
   "attachments": {},
   "cell_type": "markdown",
   "metadata": {},
   "source": [
    "**Load res.partner.category**"
   ]
  },
  {
   "cell_type": "code",
   "execution_count": null,
   "metadata": {},
   "outputs": [],
   "source": [
    "import_data('res.partner.category')"
   ]
  },
  {
   "attachments": {},
   "cell_type": "markdown",
   "metadata": {},
   "source": [
    "**Extract and transform res.partner**"
   ]
  },
  {
   "cell_type": "code",
   "execution_count": null,
   "metadata": {},
   "outputs": [],
   "source": [
    "model_name = 'res.partner'\n",
    "model_migration_config = models_migration_config[model_name]\n",
    "\n",
    "export_data(model_name)\n",
    "\n",
    "partners_main_file_path = f'{GENERATED_CSV_FILES_PATH}{model_name}.csv'\n",
    "partners_dataframe = pandas.read_csv(partners_main_file_path)\n",
    "\n",
    "# States remapping\n",
    "states_remapping_file_path = f'{INPUT_CSV_FILES_PATH}{STATES_REMAPPING_FILE_NAME}'\n",
    "states_remapping_dataframe = pandas.read_csv(states_remapping_file_path)\n",
    "\n",
    "def transformations(df: pandas.DataFrame) -> None:\n",
    "    df.rename(columns={\n",
    "        'categ_id/id': 'category_id/id',\n",
    "        'supplier': 'supplier_rank',\n",
    "        'customer': 'customer_rank',\n",
    "        'hesco_account_number': 'customer_account_number',\n",
    "        'hesco_account_open_date': 'customer_account_open_date'\n",
    "    }, inplace=True)\n",
    "\n",
    "    df['category_id/id'] = df['category_id/id'].str.replace('False', '')\n",
    "    df['type'] = df['type'].str.replace('False', '')\n",
    "    df['type'] = df['type'].str.replace('Shipping address', 'Delivery address')\n",
    "    # df['property_supplier_payment_term_id/name'] = df['property_supplier_payment_term_id/name'].str.replace('False', '')\n",
    "\n",
    "    df['supplier_rank'] = df['supplier_rank'].astype('str')\n",
    "    df['customer_rank'] = df['customer_rank'].astype('str')\n",
    "    df['supplier_rank'] = df['supplier_rank'].str.replace('False', '0')\n",
    "    df['supplier_rank'] = df['supplier_rank'].str.replace('True', '0')\n",
    "    df['customer_rank'] = df['customer_rank'].str.replace('False', '0')\n",
    "    df['customer_rank'] = df['customer_rank'].str.replace('True', '1')\n",
    "    df['supplier_rank'] = df['supplier_rank'].astype('int')\n",
    "    df['customer_rank'] = df['customer_rank'].astype('int')\n",
    "\n",
    "    for row in states_remapping_dataframe.itertuples():\n",
    "        indexes = df[df['state_id/id'] == row.flash_hlg_state_id].index.tolist()\n",
    "        for i in indexes:\n",
    "            state_id = row.id if type(row.id) == str else ''\n",
    "            df.loc[i:i, 'state_id/id': 'country_id/id'] = state_id, row.country_id\n",
    "\n",
    "transformations(partners_dataframe)\n",
    "partners_dataframe.to_csv(partners_main_file_path, index=False)\n",
    "\n",
    "#Export partner without names\n",
    "fields_to_export = [f for f in model_migration_config['fields'] if f != 'name']\n",
    "export_data(model_name=model_name,\n",
    "            domain=['|', ['name', '=', False], ['name', '=', ''], ['customer', '=', True], ['create_date', '>', '2022-11-01 00:00:00']],\n",
    "            fields=fields_to_export,\n",
    "            output_file=PARTNERS_WITHOUT_NAME_FILE_NAME\n",
    "            )\n",
    "\n",
    "partners_without_name_file_path = f'{GENERATED_CSV_FILES_PATH}{PARTNERS_WITHOUT_NAME_FILE_NAME}'\n",
    "partners_dataframe = pandas.read_csv(partners_without_name_file_path)\n",
    "\n",
    "partners_dataframe.insert(len(fields_to_export), 'name','[N/A]')\n",
    "transformations(partners_dataframe)\n",
    "\n",
    "partners_dataframe.to_csv(partners_without_name_file_path, index=False)"
   ]
  },
  {
   "attachments": {},
   "cell_type": "markdown",
   "metadata": {
    "collapsed": false
   },
   "source": [
    "**Load res.partner**"
   ]
  },
  {
   "cell_type": "code",
   "execution_count": null,
   "metadata": {
    "collapsed": false
   },
   "outputs": [],
   "source": [
    "model_name = 'res.partner'\n",
    "#import partners without name\n",
    "import_data(model_name=model_name, file_csv=PARTNERS_WITHOUT_NAME_FILE_NAME)\n",
    "#import the rest of the partners\n",
    "import_data(model_name=model_name, group_by='parent_id/id', workers=1)\n",
    "\n",
    "ignore_fields = ['id', 'name'] + models_migration_config['res.partner']['ignore_fields']\n",
    "import_ignored_fields(model_name, group_by='parent_id/id', workers=1)\n",
    "import_ignored_fields(model_name, file_csv=PARTNERS_WITHOUT_NAME_FILE_NAME, group_by='parent_id/id', ignore_fields = ignore_fields, workers=1)\n"
   ]
  },
  {
   "attachments": {},
   "cell_type": "markdown",
   "metadata": {
    "collapsed": false
   },
   "source": [
    "**Extract and transform res.users**"
   ]
  },
  {
   "cell_type": "code",
   "execution_count": null,
   "metadata": {
    "collapsed": false
   },
   "outputs": [],
   "source": [
    "model_name = 'res.users'\n",
    "export_data(model_name)\n",
    "\n",
    "res_users_file_path = f'{GENERATED_CSV_FILES_PATH}{model_name}.csv'\n",
    "users_dataframe = pandas.read_csv(res_users_file_path)\n",
    "users_dataframe.rename(columns={'image ': 'image_1920'}, inplace=True)\n",
    "users_dataframe.to_csv(res_users_file_path, index=False)\n",
    "\n",
    "# Export users security groups\n",
    "fields_to_export = ['id', 'groups_id', 'groups_id/id']\n",
    "export_data(model_name=model_name,\n",
    "            fields=fields_to_export,\n",
    "            output_file=RES_USERS_GROUPS_FILE_NAME,\n",
    "            )\n",
    "res_users_groups_file_path = f'{GENERATED_CSV_FILES_PATH}{RES_USERS_GROUPS_FILE_NAME}'\n",
    "users_groups_dataframe = pandas.read_csv(res_users_groups_file_path)\n",
    "users_groups_dataframe.fillna(method='ffill', inplace=True)\n",
    "\n",
    "# Export v15 groups\n",
    "export_data(config='import_connection.conf',\n",
    "            model_name='res.groups',\n",
    "            fields=['id'],\n",
    "            output_file='res.groups.csv',\n",
    "            )\n",
    "res_groups_file_path = f'{GENERATED_CSV_FILES_PATH}res.groups.csv'\n",
    "groups_dataframe = pandas.read_csv(res_groups_file_path)\n",
    "groups_dataframe.rename(columns={'id': 'groups_id/id'}, inplace=True)\n",
    "users_groups_dataframe = users_groups_dataframe.merge(groups_dataframe, on='groups_id/id', how='inner')\n",
    "\n",
    "users_groups_dataframe.to_csv(res_users_groups_file_path, index=False)"
   ]
  },
  {
   "attachments": {},
   "cell_type": "markdown",
   "metadata": {
    "collapsed": false
   },
   "source": [
    "**Load res.users** (and load remaining res.partner fields)"
   ]
  },
  {
   "cell_type": "code",
   "execution_count": null,
   "metadata": {
    "collapsed": false
   },
   "outputs": [],
   "source": [
    "model_name = 'res.users'\n",
    "import_data(model_name=model_name)\n",
    "import_data(model_name=model_name, ignore_fields=['groups_id'], file_csv=RES_USERS_GROUPS_FILE_NAME, group_by='id', workers=1, context={'update_many2many': True})\n",
    "\n",
    "#Import remaining res.partner fields\n",
    "ignore_fields = ['id', 'name'] + models_migration_config['res.partner']['ignore_fields']\n",
    "import_ignored_fields('res.partner', ignore_fields = ignore_fields, workers=1)"
   ]
  },
  {
   "attachments": {},
   "cell_type": "markdown",
   "metadata": {
    "collapsed": false
   },
   "source": [
    "**Extract crm.lead.tag**"
   ]
  },
  {
   "cell_type": "code",
   "execution_count": null,
   "metadata": {
    "collapsed": false
   },
   "outputs": [],
   "source": [
    "export_data('crm.lead.tag')"
   ]
  },
  {
   "attachments": {},
   "cell_type": "markdown",
   "metadata": {
    "collapsed": false
   },
   "source": [
    "**Load crm.lead.tag**"
   ]
  },
  {
   "cell_type": "code",
   "execution_count": null,
   "metadata": {
    "collapsed": false
   },
   "outputs": [],
   "source": [
    "import_data('crm.lead.tag')"
   ]
  },
  {
   "attachments": {},
   "cell_type": "markdown",
   "metadata": {
    "collapsed": false
   },
   "source": [
    "**Extract crm.stage**"
   ]
  },
  {
   "cell_type": "code",
   "execution_count": null,
   "metadata": {
    "collapsed": false
   },
   "outputs": [],
   "source": [
    "export_data('crm.stage')\n",
    "\n",
    "stages_dataframe = pandas.read_csv(f'{GENERATED_CSV_FILES_PATH}crm.stage.csv')\n",
    "\n",
    "#replace company_division_id/id with branch_id/id\n",
    "stages_dataframe['company_division_id/id'] = stages_dataframe['company_division_id/id'].str.replace('__export__.company_subdivision_8_1c96d77e', national_accounts_branch_external_id)\n",
    "stages_dataframe['company_division_id/id'] = stages_dataframe['company_division_id/id'].str.replace('__export__.company_subdivision_2_f8b15617', design_center_branch_external_id)\n",
    "stages_dataframe['company_division_id/id'] = stages_dataframe['company_division_id/id'].str.replace('__export__.company_subdivision_5_ad79c78f', design_center_branch_external_id)\n",
    "stages_dataframe['company_division_id/id'] = stages_dataframe['company_division_id/id'].str.replace('__export__.company_subdivision_6_9087ebea', design_center_branch_external_id)\n",
    "stages_dataframe['company_division_id/id'] = stages_dataframe['company_division_id/id'].str.replace('__export__.company_subdivision_7_b737099f', design_center_branch_external_id)\n",
    "stages_dataframe['company_division_id/id'] = stages_dataframe['company_division_id/id'].str.replace('__export__.company_subdivision_27_08149b9d', design_center_branch_external_id)\n",
    "stages_dataframe['company_division_id/id'] = stages_dataframe['company_division_id/id'].str.replace('__export__.company_subdivision_29_7c7a3815', design_center_branch_external_id)\n",
    "\n",
    "stages_dataframe.rename(columns={'company_division_id/id': 'branch_id/id'}, inplace=True)\n",
    "\n",
    "stages_dataframe.to_csv(f'{GENERATED_CSV_FILES_PATH}crm.stage.csv', index=False)\n"
   ]
  },
  {
   "attachments": {},
   "cell_type": "markdown",
   "metadata": {
    "collapsed": false
   },
   "source": [
    "**Load crm.stage**"
   ]
  },
  {
   "cell_type": "code",
   "execution_count": null,
   "metadata": {
    "collapsed": false
   },
   "outputs": [],
   "source": [
    "import_data('crm.stage')"
   ]
  },
  {
   "attachments": {},
   "cell_type": "markdown",
   "metadata": {
    "collapsed": false
   },
   "source": [
    "**Extract and transform crm.team**"
   ]
  },
  {
   "cell_type": "code",
   "execution_count": null,
   "metadata": {
    "collapsed": false
   },
   "outputs": [],
   "source": [
    "model_name = 'crm.team'\n",
    "\n",
    "export_data(model_name)\n",
    "crm_team_dataframe = pandas.read_csv(f'{GENERATED_CSV_FILES_PATH}{model_name}.csv')\n",
    "\n",
    "replace_branches_ids(crm_team_dataframe)\n",
    "\n",
    "crm_team_dataframe.to_csv(f'{GENERATED_CSV_FILES_PATH}{model_name}.csv', index=False)\n",
    "\n",
    "#Export team members\n",
    "fields_to_export = ['id', 'member_ids', 'member_ids/id']\n",
    "export_data(model_name=model_name,\n",
    "            fields=fields_to_export,\n",
    "            output_file=CRM_TEAM_MEMBERS_FILE_NAME\n",
    "            )\n",
    "crm_team_file_path = f'{GENERATED_CSV_FILES_PATH}{CRM_TEAM_MEMBERS_FILE_NAME}'\n",
    "crm_team_dataframe = pandas.read_csv(crm_team_file_path)\n",
    "crm_team_dataframe.fillna(method='ffill', inplace=True)\n",
    "crm_team_dataframe.to_csv(crm_team_file_path, index=False)"
   ]
  },
  {
   "attachments": {},
   "cell_type": "markdown",
   "metadata": {
    "collapsed": false
   },
   "source": [
    "**Load crm.team**"
   ]
  },
  {
   "cell_type": "code",
   "execution_count": null,
   "metadata": {
    "collapsed": false
   },
   "outputs": [],
   "source": [
    "model_name = 'crm.team'\n",
    "import_data(model_name)\n",
    "import_data(model_name=model_name, ignore_fields=['member_ids'], file_csv=CRM_TEAM_MEMBERS_FILE_NAME, workers=1, context={'update_many2many': True})"
   ]
  },
  {
   "attachments": {},
   "cell_type": "markdown",
   "metadata": {
    "collapsed": false
   },
   "source": [
    "**Extract and transform crm.lead**"
   ]
  },
  {
   "cell_type": "code",
   "execution_count": null,
   "metadata": {
    "collapsed": false
   },
   "outputs": [],
   "source": [
    "model_name = 'crm.lead'\n",
    "export_data(model_name)\n",
    "\n",
    "crm_lead_file_path = f'{GENERATED_CSV_FILES_PATH}{model_name}.csv'\n",
    "crm_lead_dataframe = pandas.read_csv(crm_lead_file_path)\n",
    "replace_branches_ids(crm_lead_dataframe)\n",
    "crm_lead_dataframe.rename(columns={'planned_revenue': 'expected_revenue'}, inplace=True)\n",
    "crm_lead_dataframe['priority'] = crm_lead_dataframe['priority'].str.replace('Low', 'Medium')\n",
    "crm_lead_dataframe['priority'] = crm_lead_dataframe['priority'].str.replace('Normal', 'Low')\n",
    "crm_lead_dataframe['tag_ids/id'] = crm_lead_dataframe['tag_ids/id'].str.replace('False', '')\n",
    "crm_lead_dataframe.sort_values('id', inplace=True)\n",
    "\n",
    "crm_lead_dataframe.to_csv(crm_lead_file_path, index=False)"
   ]
  },
  {
   "attachments": {},
   "cell_type": "markdown",
   "metadata": {
    "collapsed": false
   },
   "source": [
    "**Load crm.lead**"
   ]
  },
  {
   "cell_type": "code",
   "execution_count": null,
   "metadata": {
    "collapsed": false
   },
   "outputs": [],
   "source": [
    "import_data('crm.lead')"
   ]
  },
  {
   "attachments": {},
   "cell_type": "markdown",
   "metadata": {
    "collapsed": false
   },
   "source": [
    "**Extract project.tags**"
   ]
  },
  {
   "cell_type": "code",
   "execution_count": null,
   "metadata": {
    "collapsed": false
   },
   "outputs": [],
   "source": [
    "export_data('project.tags')"
   ]
  },
  {
   "attachments": {},
   "cell_type": "markdown",
   "metadata": {
    "collapsed": false
   },
   "source": [
    "**Load project.tags**"
   ]
  },
  {
   "cell_type": "code",
   "execution_count": null,
   "metadata": {
    "collapsed": false
   },
   "outputs": [],
   "source": [
    "import_data('project.tags')"
   ]
  },
  {
   "attachments": {},
   "cell_type": "markdown",
   "metadata": {
    "collapsed": false
   },
   "source": [
    "**Extract and transform project.project**"
   ]
  },
  {
   "cell_type": "code",
   "execution_count": null,
   "metadata": {
    "collapsed": false
   },
   "outputs": [],
   "source": [
    "model_name = 'project.project'\n",
    "export_data(model_name)\n",
    "\n",
    "projects_file_path = f'{GENERATED_CSV_FILES_PATH}{model_name}.csv'\n",
    "projects_dataframe = pandas.read_csv(projects_file_path)\n",
    "replace_branches_ids(projects_dataframe)\n",
    "projects_dataframe['privacy_visibility'] = projects_dataframe['privacy_visibility'].str.replace('Visible by all employees', 'All employees')\n",
    "projects_dataframe['privacy_visibility'] = projects_dataframe['privacy_visibility'].str.replace('On invitation only', 'Invited employees')\n",
    "projects_dataframe.to_csv(projects_file_path, index=False)"
   ]
  },
  {
   "attachments": {},
   "cell_type": "markdown",
   "metadata": {
    "collapsed": false
   },
   "source": [
    "**Load project.project**"
   ]
  },
  {
   "cell_type": "code",
   "execution_count": null,
   "metadata": {
    "collapsed": false
   },
   "outputs": [],
   "source": [
    "model_name = 'project.project'\n",
    "import_data(model_name)"
   ]
  },
  {
   "attachments": {},
   "cell_type": "markdown",
   "metadata": {
    "collapsed": false
   },
   "source": [
    "**Extract project.task.type**"
   ]
  },
  {
   "cell_type": "code",
   "execution_count": null,
   "metadata": {
    "collapsed": false
   },
   "outputs": [],
   "source": [
    "model_name = 'project.task.type'\n",
    "export_data(model_name)\n",
    "\n",
    "project_task_type_file_path = f'{GENERATED_CSV_FILES_PATH}{model_name}.csv'\n",
    "project_task_types_dataframe = pandas.read_csv(project_task_type_file_path)\n",
    "project_task_types_dataframe['project_ids/id'] = project_task_types_dataframe['project_ids/id'].str.replace('False', '')\n",
    "project_task_types_dataframe.to_csv(project_task_type_file_path, index=False)"
   ]
  },
  {
   "attachments": {},
   "cell_type": "markdown",
   "metadata": {
    "collapsed": false
   },
   "source": [
    "**Load project.task.type**"
   ]
  },
  {
   "cell_type": "code",
   "execution_count": null,
   "metadata": {
    "collapsed": false
   },
   "outputs": [],
   "source": [
    "import_data('project.task.type')"
   ]
  },
  {
   "attachments": {},
   "cell_type": "markdown",
   "metadata": {
    "collapsed": false
   },
   "source": [
    "**Extract and transform project.task**"
   ]
  },
  {
   "cell_type": "code",
   "execution_count": null,
   "metadata": {
    "collapsed": false
   },
   "outputs": [],
   "source": [
    "model_name = 'project.task'\n",
    "export_data(model_name)\n",
    "\n",
    "project_tasks_file_path = f'{GENERATED_CSV_FILES_PATH}{model_name}.csv'\n",
    "project_tasks_dataframe = pandas.read_csv(project_tasks_file_path)\n",
    "project_tasks_dataframe['user_id/id'] = project_tasks_dataframe['user_id/id'].str.replace('False', '')\n",
    "project_tasks_dataframe['tag_ids/id'] = project_tasks_dataframe['tag_ids/id'].astype(str).str.replace('False', '')\n",
    "project_tasks_dataframe['tag_ids/id'] = project_tasks_dataframe['tag_ids/id'].str.replace('False', '')\n",
    "project_tasks_dataframe['priority'] = project_tasks_dataframe['priority'].str.replace('Normal', 'Important')\n",
    "project_tasks_dataframe['priority'] = project_tasks_dataframe['priority'].str.replace('Low', 'Normal')\n",
    "project_tasks_dataframe.rename(columns={'user_id/id': 'user_ids/id'}, inplace=True)\n",
    "project_tasks_dataframe.rename(columns={'email_from': 'email_cc'}, inplace=True)\n",
    "project_tasks_dataframe.to_csv(project_tasks_file_path, index=False)"
   ]
  },
  {
   "attachments": {},
   "cell_type": "markdown",
   "metadata": {
    "collapsed": false
   },
   "source": [
    "**Load project.task**"
   ]
  },
  {
   "cell_type": "code",
   "execution_count": null,
   "metadata": {
    "collapsed": false
   },
   "outputs": [],
   "source": [
    "model_name = 'project.task'\n",
    "import_data(model_name)\n",
    "import_ignored_fields(model_name, workers=1, group_by='parent_id/id')"
   ]
  },
  {
   "attachments": {},
   "cell_type": "markdown",
   "metadata": {},
   "source": [
    "**Extract mail.mass_mailing.contact**"
   ]
  },
  {
   "cell_type": "code",
   "execution_count": null,
   "metadata": {},
   "outputs": [],
   "source": [
    "export_data('mail.mass_mailing.contact')"
   ]
  },
  {
   "attachments": {},
   "cell_type": "markdown",
   "metadata": {},
   "source": [
    "**Load mail.mass_mailing.contact**"
   ]
  },
  {
   "cell_type": "code",
   "execution_count": null,
   "metadata": {},
   "outputs": [],
   "source": [
    "model_name = 'mail.mass_mailing.contact'\n",
    "\n",
    "import_data(model_name)"
   ]
  },
  {
   "attachments": {},
   "cell_type": "markdown",
   "metadata": {},
   "source": [
    "**Extract and transform mail.mass_mailing.list**`"
   ]
  },
  {
   "cell_type": "code",
   "execution_count": null,
   "metadata": {},
   "outputs": [],
   "source": [
    "export_data('mail.mass_mailing.list')"
   ]
  },
  {
   "attachments": {},
   "cell_type": "markdown",
   "metadata": {},
   "source": [
    "**Load mail.mass_mailing.list**"
   ]
  },
  {
   "cell_type": "code",
   "execution_count": null,
   "metadata": {},
   "outputs": [],
   "source": [
    "model_name = 'mail.mass_mailing.list'\n",
    "\n",
    "import_data(model_name)"
   ]
  },
  {
   "attachments": {},
   "cell_type": "markdown",
   "metadata": {},
   "source": [
    "**Extract  Mailing List Recipients**"
   ]
  },
  {
   "cell_type": "code",
   "execution_count": null,
   "metadata": {},
   "outputs": [],
   "source": [
    "export_data('mail.mass_mailing.contact',\n",
    "            fields=['id', 'opt_out', 'unsubscription_date', 'list_ids/id'],\n",
    "            output_file='mailing.contact.subscription.csv')\n",
    "\n",
    "recipients_dataframe = pandas.read_csv(f'{GENERATED_CSV_FILES_PATH}mailing.contact.subscription.csv')\n",
    "recipients_dataframe.rename(columns={\n",
    "    'id': 'contact_id/id',\n",
    "    'list_ids/id': 'list_id/id'\n",
    "    }\n",
    "  , inplace=True)\n",
    "\n",
    "#Delete rows with empty list_id/id\n",
    "for row in recipients_dataframe.iterrows():\n",
    "    if row[1]['list_id/id'] == 'False':\n",
    "        recipients_dataframe.drop(row[0], inplace=True)\n",
    "\n",
    "#Add id column e.g: data_migration.mailing.contact.subscription_1\n",
    "recipients_dataframe.insert(0, 'id', [f'data_migration.mailing.contact.subscription_{row_index}' for row_index in range(1, 1 + len(recipients_dataframe))])\n",
    "\n",
    "recipients_dataframe.to_csv(f'{GENERATED_CSV_FILES_PATH}mailing.contact.subscription.csv', index=False)\n",
    "\n"
   ]
  },
  {
   "attachments": {},
   "cell_type": "markdown",
   "metadata": {},
   "source": [
    "**Load mailing.contact.subscription**"
   ]
  },
  {
   "cell_type": "code",
   "execution_count": null,
   "metadata": {},
   "outputs": [],
   "source": [
    "import_data(model_name='mailing.contact.subscription')"
   ]
  },
  {
   "attachments": {},
   "cell_type": "markdown",
   "metadata": {},
   "source": [
    "**Extract utm.source**"
   ]
  },
  {
   "cell_type": "code",
   "execution_count": null,
   "metadata": {},
   "outputs": [],
   "source": [
    "export_data('utm.source')"
   ]
  },
  {
   "attachments": {},
   "cell_type": "markdown",
   "metadata": {},
   "source": [
    "**Load utm.source**"
   ]
  },
  {
   "cell_type": "code",
   "execution_count": null,
   "metadata": {},
   "outputs": [],
   "source": [
    "import_data('utm.source')"
   ]
  },
  {
   "attachments": {},
   "cell_type": "markdown",
   "metadata": {},
   "source": [
    "**Extract mail.mass_mailing**"
   ]
  },
  {
   "cell_type": "code",
   "execution_count": null,
   "metadata": {},
   "outputs": [],
   "source": [
    "export_data('mail.mass_mailing')\n",
    "\n",
    "mailings_dataframe = pandas.read_csv(f'{GENERATED_CSV_FILES_PATH}mail.mass_mailing.csv')\n",
    "\n",
    "mailings_dataframe['mailing_model_id/id'] = mailings_dataframe['mailing_model_id/id'].str.replace('mass_mailing.model_mail_mass_mailing_list', 'mass_mailing.model_mailing_list')\n",
    "mailings_dataframe['mailing_model_id/id'] = mailings_dataframe['mailing_model_id/id'].str.replace('custom_authorize_net', 'base')\n",
    "mailings_dataframe['contact_list_ids/id'] = mailings_dataframe['contact_list_ids/id'].str.replace('False', '')\n",
    "\n",
    "mailings_dataframe['subject'] = mailings_dataframe['name']\n",
    "\n",
    "mailings_dataframe['body_arch'] = mailings_dataframe['body_html']\n",
    "\n",
    "mailings_dataframe.to_csv(f'{GENERATED_CSV_FILES_PATH}mail.mass_mailing.csv', index=False)"
   ]
  },
  {
   "attachments": {},
   "cell_type": "markdown",
   "metadata": {},
   "source": [
    "**Load mail.mass_mailing**"
   ]
  },
  {
   "cell_type": "code",
   "execution_count": null,
   "metadata": {},
   "outputs": [],
   "source": [
    "import_data('mail.mass_mailing')"
   ]
  },
  {
   "attachments": {},
   "cell_type": "markdown",
   "metadata": {},
   "source": [
    "**Extract mass.mailing.template**"
   ]
  },
  {
   "cell_type": "code",
   "execution_count": null,
   "metadata": {},
   "outputs": [],
   "source": [
    "export_data('mass.mailing.template')\n",
    "\n",
    "templates_dataframe = pandas.read_csv(f'{GENERATED_CSV_FILES_PATH}mass.mailing.template.csv')\n",
    "\n",
    "templates_dataframe['name'] = '[Broken, create this template manually] ' + templates_dataframe['name']\n",
    "templates_dataframe['body_arch'] = templates_dataframe['body_html']\n",
    "\n",
    "templates_dataframe.to_csv(f'{GENERATED_CSV_FILES_PATH}mass.mailing.template.csv', index=False)\n"
   ]
  },
  {
   "attachments": {},
   "cell_type": "markdown",
   "metadata": {},
   "source": [
    "**Load mailing.template**"
   ]
  },
  {
   "cell_type": "code",
   "execution_count": null,
   "metadata": {},
   "outputs": [],
   "source": [
    "import_data('mass.mailing.template')"
   ]
  },
  {
   "attachments": {},
   "cell_type": "markdown",
   "metadata": {
    "collapsed": false,
    "pycharm": {
     "is_executing": true
    }
   },
   "source": [
    "**Extract and transform ir.model.data**\n",
    "Requires all the previous steps to work properly given that it depends on the new external ids created on the new Odoo instance"
   ]
  },
  {
   "cell_type": "code",
   "execution_count": null,
   "metadata": {
    "collapsed": false
   },
   "outputs": [],
   "source": [
    "models_to_export_external_ids = ['crm.lead', 'crm.team', 'res.partner', 'project.project', 'project.task']\n",
    "#models_to_export_external_ids = ['crm.lead', 'crm.team', 'res.partner', 'project.project', 'project.task', 'product.template', 'purchase.order', 'sale.order', 'sale.order.line']\n",
    "#Export external_ids\n",
    "fields_to_export = ['complete_name', 'res_id', 'model']\n",
    "export_data(model_name='ir.model.data',\n",
    "            fields=fields_to_export,\n",
    "            output_file='ir.model.data.old.csv',\n",
    "            domain=[['model', 'in', models_to_export_external_ids]]\n",
    "            )\n",
    "#Export v15 external_ids\n",
    "export_data(config='import_connection.conf',\n",
    "            model_name='ir.model.data',\n",
    "            fields=fields_to_export,\n",
    "            output_file='ir.model.data.new.csv',\n",
    "            domain=[['model', 'in', models_to_export_external_ids]]\n",
    "            )\n",
    "external_ids_old_file_path = f'{GENERATED_CSV_FILES_PATH}ir.model.data.old.csv'\n",
    "external_ids_new_file_path = f'{GENERATED_CSV_FILES_PATH}ir.model.data.new.csv'\n",
    "merged_data_frame_file_path = f'{GENERATED_CSV_FILES_PATH}ir.model.data.merged.csv'\n",
    "ir_model_data_old_dataframe = pandas.read_csv(external_ids_old_file_path)\n",
    "ir_model_data_new_dataframe = pandas.read_csv(external_ids_new_file_path)\n",
    "ir_model_data_old_dataframe['complete_name'] = ir_model_data_old_dataframe['complete_name'].str.replace('base.partner_root', 'base.partner_admin')\n",
    "ir_model_data_old_dataframe['complete_name'] = ir_model_data_old_dataframe['complete_name'].str.replace('base.default_user_res_partner', 'base.template_portal_user_id_res_partner')\n",
    "ir_model_data_old_dataframe.to_csv(external_ids_old_file_path, index=False)\n",
    "# Merge old and new external ids to extract the new database id\n",
    "ir_model_data_old_dataframe.rename(columns={'res_id': 'old_res_id'}, inplace=True)\n",
    "ir_model_data_merged_dataframe = ir_model_data_new_dataframe.merge(ir_model_data_old_dataframe, on=['complete_name', 'model'], how='inner')\n",
    "ir_model_data_merged_dataframe.rename(columns={'res_id': 'new_res_id'}, inplace=True)\n",
    "ir_model_data_merged_dataframe['old_res_id'] = ir_model_data_merged_dataframe['old_res_id'].astype('int')\n",
    "ir_model_data_merged_dataframe.to_csv(merged_data_frame_file_path, index=False)"
   ]
  },
  {
   "attachments": {},
   "cell_type": "markdown",
   "metadata": {
    "collapsed": false
   },
   "source": [
    "**Extract and transform mail.message**\n",
    "Requires all the previous steps to work properly given that it depends on the new external ids created on the new Odoo instance"
   ]
  },
  {
   "cell_type": "code",
   "execution_count": null,
   "metadata": {
    "collapsed": false
   },
   "outputs": [],
   "source": [
    "model_name = 'mail.message'\n",
    "export_data(model_name)\n",
    "\n",
    "mail_message_file_path = f'{GENERATED_CSV_FILES_PATH}{model_name}.csv'\n",
    "mail_message_dataframe = pandas.read_csv(mail_message_file_path)\n",
    "\n",
    "mail_message_dataframe['subtype_id/id'] = mail_message_dataframe['subtype_id/id'].str.replace('False', '')\n",
    "mail_message_dataframe['partner_ids/id'] = mail_message_dataframe['partner_ids/id'].astype('str')\n",
    "mail_message_dataframe['partner_ids/id'] = mail_message_dataframe['partner_ids/id'].str.replace('False', '')\n",
    "\n",
    "ir_model_data_merged_file_path = f'{GENERATED_CSV_FILES_PATH}ir.model.data.merged.csv'\n",
    "ir_model_data_merged_dataframe = pandas.read_csv(ir_model_data_merged_file_path)\n",
    "\n",
    "# Merge the mail.message dataframe with ir_model_data_merged_dataframe to get the new database ids\n",
    "mail_message_dataframe = mail_message_dataframe.merge(ir_model_data_merged_dataframe, left_on=['model', 'res_id'], right_on=['model', 'old_res_id'], how='inner')\n",
    "mail_message_dataframe.rename(columns={'res_id': 'old_res_id'}, inplace=True)\n",
    "mail_message_dataframe.rename(columns={'new_res_id': 'res_id'}, inplace=True)\n",
    "mail_message_dataframe['res_id'] = mail_message_dataframe['res_id'].astype('int')\n",
    "\n",
    "mail_message_dataframe.sort_values('date', ascending=True, inplace=True)\n",
    "mail_message_dataframe.to_csv(mail_message_file_path, index=False)"
   ]
  },
  {
   "attachments": {},
   "cell_type": "markdown",
   "metadata": {
    "collapsed": false
   },
   "source": [
    "**Load mail.message**"
   ]
  },
  {
   "cell_type": "code",
   "execution_count": null,
   "metadata": {
    "collapsed": false
   },
   "outputs": [],
   "source": [
    "model_name = 'mail.message'\n",
    "ignored_fields = ['old_res_id', 'old_res_id2', 'complete_name', 'parent_id/id']\n",
    "import_data(model_name=model_name, ignore_fields=ignored_fields, group_by='complete_name')"
   ]
  },
  {
   "attachments": {},
   "cell_type": "markdown",
   "metadata": {
    "collapsed": false
   },
   "source": [
    "**Extract and transform mail.tracking.value**"
   ]
  },
  {
   "cell_type": "code",
   "execution_count": null,
   "metadata": {
    "collapsed": false
   },
   "outputs": [],
   "source": [
    "model_name = 'mail.tracking.value'\n",
    "mail_tracking_value_all_file_name = f'{model_name}.all.csv'\n",
    "mail_tracking_value_all_file_path = f'{GENERATED_CSV_FILES_PATH}{mail_tracking_value_all_file_name}'\n",
    "mail_tracking_value_file_path = f'{GENERATED_CSV_FILES_PATH}{model_name}.csv'\n",
    "export_data(model_name=model_name, output_file=mail_tracking_value_all_file_name)\n",
    "mail_tracking_value_dataframe = pandas.read_csv(mail_tracking_value_all_file_path, low_memory=False)\n",
    "\n",
    "mail_message_file_path = f'{GENERATED_CSV_FILES_PATH}mail.message.csv'\n",
    "mail_message_dataframe = pandas.read_csv(mail_message_file_path, low_memory=False)\n",
    "mail_message_dataframe.rename(columns={'id': 'mail_message_id/id'}, inplace=True)\n",
    "\n",
    "#Merge tracking values with mail.message to filter the tracking values to import and adding the model column\n",
    "mail_message_dataframe = mail_message_dataframe[['model', 'mail_message_id/id']]\n",
    "mail_tracking_value_dataframe = mail_tracking_value_dataframe.merge(mail_message_dataframe, on='mail_message_id/id', how='inner')\n",
    "\n",
    "#Export v15 ir_model_fields\n",
    "fields_model_name = 'ir.model.fields'\n",
    "models_with_mail_messages = list(mail_message_dataframe['model'].unique())\n",
    "models_to_export_external_ids = [m for m in models_with_mail_messages if m in models_migration_config.keys()]\n",
    "export_data(config='import_connection.conf',\n",
    "            model_name=fields_model_name,\n",
    "            fields=['id', 'name', 'model'],\n",
    "            output_file=f'{fields_model_name}.csv',\n",
    "            domain=[['model', 'in', models_to_export_external_ids]]\n",
    "            )\n",
    "ir_model_fields_file_path = f'{GENERATED_CSV_FILES_PATH}{fields_model_name}.csv'\n",
    "fields_dataframe = pandas.read_csv(ir_model_fields_file_path)\n",
    "fields_dataframe.rename(columns={'id': 'field/id'}, inplace=True)\n",
    "fields_dataframe.rename(columns={'name': 'field'}, inplace=True)\n",
    "\n",
    "#Merge tracking values with fields to extract the fields' external ids\n",
    "mail_tracking_value_dataframe['field'] = mail_tracking_value_dataframe['field'].str.replace('planned_revenue', 'expected_revenue')\n",
    "mail_tracking_value_dataframe['field'] = mail_tracking_value_dataframe['field'].str.replace('categ_id', 'category_id')\n",
    "mail_tracking_value_dataframe['field'] = mail_tracking_value_dataframe['field'].str.replace('salesperson_ids', 'user_id')\n",
    "mail_tracking_value_dataframe = mail_tracking_value_dataframe.merge(fields_dataframe, on=['field', 'model'], how='inner')\n",
    "# Drop columns used just to merge\n",
    "mail_tracking_value_dataframe.drop(columns={'field', 'model'}, inplace=True)\n",
    "\n",
    "mail_tracking_value_dataframe.to_csv(mail_tracking_value_file_path, index=False)"
   ]
  },
  {
   "attachments": {},
   "cell_type": "markdown",
   "metadata": {
    "collapsed": false
   },
   "source": [
    "**Load mail.tracking.value**"
   ]
  },
  {
   "cell_type": "code",
   "execution_count": null,
   "metadata": {
    "collapsed": false
   },
   "outputs": [],
   "source": [
    "import_data('mail.tracking.value')"
   ]
  },
  {
   "attachments": {},
   "cell_type": "markdown",
   "metadata": {
    "collapsed": false
   },
   "source": [
    "**Extract ir.attachment**"
   ]
  },
  {
   "cell_type": "code",
   "execution_count": null,
   "metadata": {
    "collapsed": false
   },
   "outputs": [],
   "source": [
    "model_name = 'ir.attachment'\n",
    "export_data(model_name)\n",
    "\n",
    "ir_attachment_file_path = f'{GENERATED_CSV_FILES_PATH}{model_name}.csv'\n",
    "ir_attachment_dataframe = pandas.read_csv(ir_attachment_file_path)\n",
    "\n",
    "ir_model_data_merged_file_path = f'{GENERATED_CSV_FILES_PATH}ir.model.data.merged.csv'\n",
    "ir_model_data_merged_dataframe = pandas.read_csv(ir_model_data_merged_file_path)\n",
    "ir_model_data_merged_dataframe.rename(columns={'model': 'res_model'}, inplace=True)\n",
    "\n",
    "# Merge the ir.attachment dataframe with ir_model_data_merged_dataframe to get the new database ids\n",
    "ir_attachment_dataframe.rename(columns={'res_id': 'old_res_id'}, inplace=True)\n",
    "ir_attachment_dataframe = ir_attachment_dataframe.merge(ir_model_data_merged_dataframe, on=['res_model', 'old_res_id'], how='inner')\n",
    "ir_attachment_dataframe.drop(columns={'old_res_id', 'complete_name'}, inplace=True)\n",
    "ir_attachment_dataframe.rename(columns={'new_res_id': 'res_id'}, inplace=True)\n",
    "\n",
    "ir_attachment_dataframe.sort_values('id', ascending=True, inplace=True)\n",
    "ir_attachment_dataframe.to_csv(f'{GENERATED_CSV_FILES_PATH}{model_name}2.csv', index=False)"
   ]
  },
  {
   "attachments": {},
   "cell_type": "markdown",
   "metadata": {
    "collapsed": false
   },
   "source": [
    "**Extract ir.attachment** Part 2\n",
    "We separate this process into 2 parts to keep the output shorter, in part 1 all attachments references are loaded but with empty files, in this second part the actual files data is loaded"
   ]
  },
  {
   "cell_type": "code",
   "execution_count": null,
   "metadata": {
    "collapsed": false
   },
   "outputs": [],
   "source": [
    "#Separate into batches per model to keep files smaller and avoid memory errors\n",
    "attachments_model_name = 'ir.attachment'\n",
    "fields_to_export = ['id', 'name', 'datas']\n",
    "models_with_attachments = ['project.task', 'res.partner']\n",
    "max_file_size_for_batches = 50000000 # 50 MB\n",
    "batch_size = 20 # Some files are very large so it fails due to 413 (Payload Too Large), so we keep the batch size small\n",
    "\n",
    "export_data(\n",
    "    attachments_model_name,\n",
    "    fields=fields_to_export,\n",
    "    domain=[['res_model', 'in', models_with_attachments], ['file_size', '>', max_file_size_for_batches]],\n",
    "    output_file=f'{attachments_model_name}.big_files.csv',\n",
    "    batch_size=1\n",
    ")\n",
    "for model_name in models_with_attachments:\n",
    "    export_data(\n",
    "        attachments_model_name,\n",
    "        fields=fields_to_export,\n",
    "        domain=[['res_model', '=', model_name], ['file_size', '<', max_file_size_for_batches]],\n",
    "        output_file=f'{attachments_model_name}.{model_name}.csv',\n",
    "        batch_size=3\n",
    "    )\n"
   ]
  },
  {
   "attachments": {},
   "cell_type": "markdown",
   "metadata": {
    "collapsed": false
   },
   "source": [
    "**Load ir.attachment**"
   ]
  },
  {
   "cell_type": "code",
   "execution_count": null,
   "metadata": {
    "collapsed": false
   },
   "outputs": [],
   "source": [
    "attachments_model_name = 'ir.attachment'\n",
    "batch_size = 15\n",
    "models_with_attachments = ['project.task']\n",
    "#'project.task' 'crm.lead'\n",
    "#import_data(attachments_model_name, file_csv=f'{attachments_model_name}2.csv')\n",
    "#import_data(attachments_model_name, file_csv=f'{attachments_model_name}.big_files.csv', batch_size=1)\n",
    "for model_name in models_with_attachments:\n",
    "    if model_name == 'project.task':\n",
    "        import_data(attachments_model_name, file_csv=f'{attachments_model_name}.{model_name}.csv', batch_size=2)\n"
   ]
  },
  {
   "cell_type": "markdown",
   "metadata": {},
   "source": [
    "**Extract mail activity types**"
   ]
  },
  {
   "cell_type": "code",
   "execution_count": null,
   "metadata": {},
   "outputs": [],
   "source": [
    "model_name = 'mail.activity.type'\n",
    "\n",
    "export_data(model_name)\n",
    "\n",
    "activity_types_dataframe = pandas.read_csv(f'{GENERATED_CSV_FILES_PATH}{model_name}.csv')\n",
    "\n",
    "activity_types_dataframe['category'] = activity_types_dataframe['category'].str.replace('Other', 'None')\n",
    "# Rename column\n",
    "activity_types_dataframe.rename(columns={'days': 'delay_count'}, inplace=True)\n",
    "\n",
    "activity_types_dataframe.to_csv(f'{GENERATED_CSV_FILES_PATH}{model_name}.csv', index=False)"
   ]
  },
  {
   "cell_type": "markdown",
   "metadata": {},
   "source": [
    "**Load mail.activity.type**"
   ]
  },
  {
   "cell_type": "code",
   "execution_count": null,
   "metadata": {},
   "outputs": [],
   "source": [
    "model_name = 'mail.activity.type'\n",
    "import_data(model_name)"
   ]
  },
  {
   "cell_type": "markdown",
   "metadata": {},
   "source": [
    "**Extract mail.activity**"
   ]
  },
  {
   "cell_type": "code",
   "execution_count": null,
   "metadata": {},
   "outputs": [],
   "source": [
    "model_name = 'mail.activity'\n",
    "\n",
    "#export_data(model_name)\n",
    "\n",
    "activity_dataframe = pandas.read_csv(f'{GENERATED_CSV_FILES_PATH}{model_name}.csv')\n",
    "\n",
    "\n",
    "leads_old_model_id = 'crm_phone.model_crm_lead'\n",
    "leads_new_model_id = 'multi_branches.model_crm_lead'\n",
    "activity_dataframe['res_model_id/id'] = activity_dataframe['res_model_id/id'].str.replace(leads_old_model_id, leads_new_model_id)\n",
    "project_task_old_model_id = 'hr_timesheet.model_project_task'\n",
    "project_task_new_model_id = 'hlg_project.model_project_task'\n",
    "#project_task_new_model_id = 'project.model_project_task'\n",
    "activity_dataframe['res_model_id/id'] = activity_dataframe['res_model_id/id'].str.replace(project_task_old_model_id, project_task_new_model_id)\n",
    "partner_old_model_id  = \"custom_authorize_net.model_res_partner\"\n",
    "partner_new_model_id = \"multi_branches.model_res_partner\"\n",
    "activity_dataframe['res_model_id/id'] = activity_dataframe['res_model_id/id'].str.replace(partner_old_model_id, partner_new_model_id)\n",
    "\n",
    "#Remove old users\n",
    "admin_user_id = 'base.user_admin'\n",
    "activity_dataframe['user_id/id'] = activity_dataframe['user_id/id'].str.replace('__export__.res_users_39', admin_user_id)\n",
    "activity_dataframe['user_id/id'] = activity_dataframe['user_id/id'].str.replace('__export__.res_users_144_efbee19c', admin_user_id)\n",
    "activity_dataframe['user_id/id'] = activity_dataframe['user_id/id'].str.replace('__export__.res_users_66', admin_user_id)\n",
    "activity_dataframe['user_id/id'] = activity_dataframe['user_id/id'].str.replace('__export__.res_users_76', admin_user_id)\n",
    "activity_dataframe['user_id/id'] = activity_dataframe['user_id/id'].str.replace('__export__.res_users_302_76e4f8c2', admin_user_id)\n",
    "activity_dataframe['user_id/id'] = activity_dataframe['user_id/id'].str.replace('__export__.res_users_338_3d79b7dc', admin_user_id)\n",
    "activity_dataframe['user_id/id'] = activity_dataframe['user_id/id'].str.replace('__export__.res_users_119_9f696695', admin_user_id)\n",
    "activity_dataframe['user_id/id'] = activity_dataframe['user_id/id'].str.replace('__export__.res_users_338_3d79b7dc', admin_user_id)\n",
    "activity_dataframe['user_id/id'] = activity_dataframe['user_id/id'].str.replace('__export__.res_users_326_cb29f737', admin_user_id)\n",
    "activity_dataframe['user_id/id'] = activity_dataframe['user_id/id'].str.replace('__export__.res_users_110', admin_user_id)\n",
    "activity_dataframe['user_id/id'] = activity_dataframe['user_id/id'].str.replace('__export__.res_users_24', admin_user_id)\n",
    "activity_dataframe['user_id/id'] = activity_dataframe['user_id/id'].str.replace('__export__.res_users_25', admin_user_id)\n",
    "\n",
    "ir_model_data_merged_file_path = f'{GENERATED_CSV_FILES_PATH}ir.model.data.merged.csv'\n",
    "ir_model_data_merged_dataframe = pandas.read_csv(ir_model_data_merged_file_path)\n",
    "ir_model_data_merged_dataframe.rename(columns={'model': 'res_model'}, inplace=True)\n",
    "\n",
    "# Merge the ir.attachment dataframe with ir_model_data_merged_dataframe to get the new database ids\n",
    "activity_dataframe.rename(columns={'res_id': 'old_res_id'}, inplace=True)\n",
    "activity_dataframe = activity_dataframe.merge(ir_model_data_merged_dataframe, on=['res_model', 'old_res_id'], how='inner')\n",
    "activity_dataframe.drop(columns={'old_res_id', 'complete_name'}, inplace=True)\n",
    "activity_dataframe.rename(columns={'new_res_id': 'res_id'}, inplace=True)\n",
    "\n",
    "activity_dataframe.sort_values('id', ascending=True, inplace=True)\n",
    "\n",
    "activity_dataframe.to_csv(f'{GENERATED_CSV_FILES_PATH}{model_name}.2.csv', index=False)\n",
    "\n",
    "\n"
   ]
  },
  {
   "cell_type": "markdown",
   "metadata": {},
   "source": [
    "**Load mail.activity**"
   ]
  },
  {
   "cell_type": "code",
   "execution_count": null,
   "metadata": {},
   "outputs": [],
   "source": [
    "model_name = 'mail.activity'\n",
    "import_data(model_name, file_csv=f'mail.activity.3local.csv', batch_size=10)"
   ]
  },
  {
   "cell_type": "markdown",
   "metadata": {},
   "source": [
    "**Extract and load create fields**"
   ]
  },
  {
   "cell_type": "code",
   "execution_count": null,
   "metadata": {},
   "outputs": [],
   "source": [
    "model_names = [\n",
    "    'mail.activity',\n",
    "    'mail.activity.type',\n",
    "    'res.partner',\n",
    "    'crm.lead',\n",
    "    'crm.stage',\n",
    "    'project.project',\n",
    "    'project.task',\n",
    "    'mail.mass_mailing',\n",
    "    'mail.mass_mailing.list',\n",
    "    'mail.mass_mailing.contact',\n",
    "    'mass.mailing.template',\n",
    "    'res.users'\n",
    "]\n",
    "\n",
    "\n",
    "\n",
    "\n",
    "#Extract v15 users\n",
    "export_data(model_name='res.users',\n",
    "            config='import_connection.conf',\n",
    "            domain=['|', ['active', '=', True], ['active', '=', False]],\n",
    "            fields=['id', '.id'])\n",
    "\n",
    "users_dataframe = pandas.read_csv(f'{GENERATED_CSV_FILES_PATH}res.users.csv')\n",
    "users_dataframe.rename(columns={\n",
    "    'id': 'user_external_id',\n",
    "    '.id': 'user_db_id'\n",
    "}, inplace=True)\n",
    "\n",
    "for model_name in model_names:\n",
    "    v11_file_name = get_v11_file_name(model_name)\n",
    "    v15_file_name = get_v15_file_name(model_name)\n",
    "\n",
    "    export_data(model_name, fields=['id', 'create_date', 'write_date', 'create_uid/id', 'write_uid/id'], output_file=v11_file_name)\n",
    "\n",
    "    if model_name == 'res.partner':\n",
    "        domain = ['|', ['active', '=', True], ['active', '=', False], ['customer_rank', '>', 0]]\n",
    "    else:\n",
    "        domain = None\n",
    "\n",
    "    if model_name == 'mail.mass_mailing.contact':\n",
    "        _model_name = 'mailing.contact'\n",
    "    elif model_name == 'mail.mass_mailing.list':\n",
    "        _model_name = 'mailing.list'\n",
    "    elif model_name == 'mail.mass_mailing':\n",
    "        _model_name = 'mailing.mailing'\n",
    "    elif model_name == 'mass.mailing.template':\n",
    "        _model_name = 'mailing.template'\n",
    "    else:\n",
    "        _model_name = model_name\n",
    "\n",
    "    export_data(_model_name, config='import_connection.conf', fields=['id', '.id'], output_file=v15_file_name, domain=domain)\n",
    "\n",
    "    v11_dataframe = pandas.read_csv(f'{GENERATED_CSV_FILES_PATH}{v11_file_name}')\n",
    "    v15_dataframe = pandas.read_csv(f'{GENERATED_CSV_FILES_PATH}{v15_file_name}')\n",
    "\n",
    "    v15_dataframe = v15_dataframe.merge(v11_dataframe, on=['id'], how='inner')\n",
    "    v15_dataframe.drop(columns=['id'], inplace=True)\n",
    "    v15_dataframe.rename(columns={\n",
    "        '.id': 'record_db_id'\n",
    "    }, inplace=True)\n",
    "\n",
    "    # Merge with create users to get the new database ids\n",
    "    v15_dataframe = v15_dataframe.merge(users_dataframe, left_on=['create_uid/id'], right_on=['user_external_id'], how='left')\n",
    "    v15_dataframe.drop(columns=['create_uid/id', 'user_external_id'], inplace=True)\n",
    "    v15_dataframe.rename(columns={'user_db_id': 'user_create_db_id'}, inplace=True)\n",
    "\n",
    "    # Merge with write users to get the new database ids\n",
    "    v15_dataframe = v15_dataframe.merge(users_dataframe, left_on=['write_uid/id'], right_on=['user_external_id'], how='left')\n",
    "    v15_dataframe.drop(columns=['write_uid/id', 'user_external_id'], inplace=True)\n",
    "    v15_dataframe.rename(columns={'user_db_id': 'user_write_db_id'}, inplace=True)\n",
    "\n",
    "    v15_dataframe.to_csv(f'{GENERATED_CSV_FILES_PATH}2_{v15_file_name}', index=False)\n"
   ]
  },
  {
   "cell_type": "markdown",
   "metadata": {},
   "source": [
    "**Load create & update fields**"
   ]
  },
  {
   "cell_type": "code",
   "execution_count": null,
   "metadata": {},
   "outputs": [],
   "source": [
    "model_names = [\n",
    "    'mail.activity',\n",
    "    'mail.activity.type',\n",
    "    'res.partner',\n",
    "    'crm.lead',\n",
    "    'crm.stage',\n",
    "    'project.project',\n",
    "    'project.task',\n",
    "    'mail.mass_mailing',\n",
    "    'mail.mass_mailing.list',\n",
    "    'mail.mass_mailing.contact',\n",
    "    'mass.mailing.template',\n",
    "    'res.users'\n",
    "]\n",
    "\n",
    "import psycopg2\n",
    "from psycopg2 import extras\n",
    "import numpy as np\n",
    "\n",
    "# Define your connection details\n",
    "conn_params = {\n",
    "    \"database\": \"\",\n",
    "    \"user\": \"\",\n",
    "    \"password\": \"\",\n",
    "    \"host\": \"\",\n",
    "    \"port\": \"5432\"\n",
    "}\n",
    "\n",
    "def convert_model_to_table(model_name):\n",
    "    if model_name == 'mail.mass_mailing.contact':\n",
    "        _model_name = 'mailing.contact'\n",
    "    elif model_name == 'mail.mass_mailing.list':\n",
    "        _model_name = 'mailing.list'\n",
    "    elif model_name == 'mail.mass_mailing':\n",
    "        _model_name = 'mailing.mailing'\n",
    "    elif model_name == 'mass.mailing.template':\n",
    "        _model_name = 'mailing.template'\n",
    "    else:\n",
    "        _model_name = model_name\n",
    "    return _model_name.replace('.', '_')\n",
    "\n",
    "for model_name in model_names:\n",
    "\n",
    "    # df sample\n",
    "    # record_db_id,create_date,write_date,user_create_db_id,user_write_db_id\n",
    "    # 307,2020-04-28 16:09:43,2020-04-28 16:09:43,93.0,93.0\n",
    "    # 308,2020-06-19 15:36:53,2020-06-19 15:44:36,12.0,12.0\n",
    "    # 314,2020-06-19 15:44:56,2020-07-08 15:24:04,12.0,12.0\n",
    "    # 309,2020-01-08 21:33:29,2020-07-06 19:19:00,117.0,1.0\n",
    "    # 310,2020-03-03 21:12:59,2023-03-14 13:54:49,72.0,1.0\n",
    "    file_name = get_v15_file_name(model_name)\n",
    "    df = pandas.read_csv(f'{GENERATED_CSV_FILES_PATH}2_{file_name}')\n",
    "    # Add 3 hours to each date\n",
    "    # timezone_difference = 3 # I'm running the script on a UTC-3 environment\n",
    "    # df['create_date'] = pandas.to_datetime(df['create_date']) + pandas.Timedelta(hours=timezone_difference)\n",
    "    # df['write_date'] = pandas.to_datetime(df['write_date']) + pandas.Timedelta(hours=timezone_difference)\n",
    "\n",
    "    df.rename(columns={\n",
    "        'record_db_id': 'id',\n",
    "        'user_create_db_id': 'create_uid',\n",
    "        'user_write_db_id': 'write_uid'\n",
    "        }, inplace=True)\n",
    "    df['create_uid'] = df['create_uid'].fillna(0).astype(int)\n",
    "    df['write_uid'] = df['write_uid'].fillna(0).astype(int)\n",
    "\n",
    "    table_name = convert_model_to_table(model_name)\n",
    "    # Split dataframe into chunks\n",
    "    df['batch'] = np.arange(len(df)) // 1000\n",
    "    df_batches = [group for _, group in df.groupby('batch')]\n",
    "\n",
    "    # Open connection\n",
    "    with psycopg2.connect(**conn_params) as conn:\n",
    "        # Open a cursor to perform database operations\n",
    "        with conn.cursor() as cur:\n",
    "            # Prepare the UPDATE statement\n",
    "            query = \"\"\"\n",
    "            UPDATE {table_name}\n",
    "            SET \n",
    "            create_date = %(create_date)s,\n",
    "            write_date = %(write_date)s,\n",
    "            create_uid = %(create_uid)s,\n",
    "            write_uid = %(write_uid)s\n",
    "            WHERE id = %(id)s;\n",
    "            \"\"\".format(table_name=table_name)\n",
    "\n",
    "            # Execute the query for each batch\n",
    "            i = 0\n",
    "            for batch in df_batches:\n",
    "                print(f\"{model_name} Starting Batch: {i+1}/{len(df_batches)}\")\n",
    "                i += 1\n",
    "                rows_to_update = batch.to_dict(\"records\")\n",
    "                for row in rows_to_update:\n",
    "                    row['create_uid'] = row['create_uid'] or None\n",
    "                    row['write_uid'] = row['write_uid'] or None\n",
    "                extras.execute_batch(cur, query, rows_to_update)\n"
   ]
  },
  {
   "cell_type": "markdown",
   "metadata": {},
   "source": [
    "**Extract and transform customers payment terms import**"
   ]
  },
  {
   "cell_type": "code",
   "execution_count": null,
   "metadata": {},
   "outputs": [],
   "source": [
    "# Export customers from v15\n",
    "export_data(model_name='res.partner', config='import_connection.conf', domain=['|', ['active', '=', True], ['active', '=', False]], fields=['id', 'customer_account_number'], output_file='res.partner.customers.csv')\n",
    "customers_dataframe = pandas.read_csv(f'{GENERATED_CSV_FILES_PATH}res.partner.customers.csv')\n",
    "\n",
    "customers_with_discounts_dataframe = pandas.read_csv(f'{INPUT_CSV_FILES_PATH}Hermitage customers with discounts.csv')\n",
    "customers_with_discounts_dataframe.rename(columns={'customer #': 'customer_account_number'}, inplace=True)\n",
    "\n",
    "# Merge customers with discounts with customers from v15\n",
    "customers_with_discounts_dataframe = customers_with_discounts_dataframe[['customer_account_number']]\n",
    "#Convert to str\n",
    "customers_with_discounts_dataframe['customer_account_number'] = customers_with_discounts_dataframe['customer_account_number'].astype(str)\n",
    "customers_dataframe = customers_dataframe.merge(customers_with_discounts_dataframe, on=['customer_account_number'], how='right')\n",
    "customers_dataframe['property_payment_term_id/id'] = 'i5_migration.account_payment_term_2percent10thproxnet30days' #customers_dataframe['property_payment_term_id/id'].fillna(0).astype(int)\n",
    "\n",
    "customers_dataframe.to_csv(f'{GENERATED_CSV_FILES_PATH}res.partner.customers.with.discounts.csv', index=False)\n",
    "# Export\n",
    "# Fill sales payment term with i5_migration.account_payment_term_2percent10thproxnet30days"
   ]
  },
  {
   "cell_type": "markdown",
   "metadata": {},
   "source": [
    "**import customers**"
   ]
  },
  {
   "cell_type": "code",
   "execution_count": null,
   "metadata": {},
   "outputs": [],
   "source": [
    "import_data('res.partner', file_csv='res.partner.customers.with.discounts.csv')"
   ]
  }
 ],
 "metadata": {
  "kernelspec": {
   "display_name": "venv",
   "language": "python",
   "name": "python3"
  },
  "language_info": {
   "codemirror_mode": {
    "name": "ipython",
    "version": 3
   },
   "file_extension": ".py",
   "mimetype": "text/x-python",
   "name": "python",
   "nbconvert_exporter": "python",
   "pygments_lexer": "ipython3",
   "version": "3.8.10"
  },
  "vscode": {
   "interpreter": {
    "hash": "dca556ecc5dd513367558f6312acb415247f7e6342b10809f71b9a3671f6e71e"
   }
  }
 },
 "nbformat": 4,
 "nbformat_minor": 1
}
