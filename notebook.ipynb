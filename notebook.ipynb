{
 "cells": [
  {
   "cell_type": "markdown",
   "metadata": {},
   "source": [
    "# Hermitage migration notebook\n",
    "\n",
    "This notebook app will run the ETL process to migrate Heremitage's Odoo 11 to a new Odoo 15 system.\n",
    "It will basically extract the data from v11 into csv files, make the necessary transformations to make it importable in Odoo 15 and then load the data it into Hermitage's new Odoo 15 instance.\n",
    "\n",
    "## Initial Configurations\n",
    "\n",
    "**Export Configurations File**\n",
    "In this workspace you can find the file [export_connection.conf](export_connection.conf), it is used to set all the necessary settings and credentials to connect to Hermitage's Odoo 11 instance\n",
    "\n",
    "**Import Configurations File**\n",
    "In this workspace you can find the file [import_connection.conf](import_connection.conf), it is used to set all the necessary settings and credentials to connect to Hermitage's Odoo 15 instance\n",
    "\n",
    "**Models Migration Configurations File**\n",
    "In this workspace you can find the file [models_migration_config.conf](models_migration_config.conf). In it its possible to change certain aspects of how the models are extracted and loaded into the new system.\n",
    "Most common possible configurations are:\n",
    "- Fields to migrate\n",
    "- Domain/Filter used to extract\n",
    "- Fields to ignore when loading the data\n",
    "\n",
    "**States Remapping File**\n",
    "In this workspace you can find the file [input_csv_files/States Remapping - Input.csv](input_csv_files/States%20Remapping%20-%20Input.csv.conf), it is used to change the states and countries from certain partners.\n",
    "This file is extracted from a Google Spreadsheet where some states and country data was manually corrected and then mapped with formulas to Odoo's 15 states and country base data.\n",
    "Link to the Spreadsheet to check which states were affected: [States Remapping](https://docs.google.com/spreadsheets/d/1hL9S4APfv9cJYEihGn9Rtimt0xQp7mq1E0ZRpWafa8I/edit?usp=share_link)"
   ]
  },
  {
   "cell_type": "markdown",
   "metadata": {},
   "source": [
    "### Imports\n",
    "- pandas: to make transformations on the data\n",
    "- odoo_csv_tools: Odoo SDK python package specialized for ETL processes\n",
    "- Models' migration config"
   ]
  },
  {
   "cell_type": "code",
   "execution_count": 3,
   "metadata": {},
   "outputs": [],
   "source": [
    "import pandas\n",
    "\n",
    "from odoo_csv_tools import export_threaded, import_threaded\n",
    "from past.translation import hooks\n",
    "\n",
    "from models_migration_config import models_migration_config"
   ]
  },
  {
   "cell_type": "markdown",
   "metadata": {},
   "source": [
    "### Constants\n",
    "No need to parameterize these values for now\n",
    "Included file paths for some extra csv files that don't follow the standard naming convention of model_name.csv, e.g: res.partner.csv"
   ]
  },
  {
   "cell_type": "code",
   "execution_count": 4,
   "metadata": {
    "collapsed": true
   },
   "outputs": [],
   "source": [
    "EXPORT_CONNECTION_CONFIG_DIR = 'export_connection.conf'\n",
    "IMPORT_CONNECTION_CONFIG_DIR = 'import_connection.conf'\n",
    "EXPORT_DEFAULT_BATCH_SIZE = 3000\n",
    "IMPORT_DEFAULT_BATCH_SIZE = 1000\n",
    "EXPORT_DEFAULT_REQ_CONTEXT = {}\n",
    "IMPORT_DEFAULT_REQ_CONTEXT = {'tracking_disable' : True}\n",
    "DEFAULT_WORKERS = 2\n",
    "\n",
    "GENERATED_CSV_FILES_PATH = 'generated_csv_files/'\n",
    "INPUT_CSV_FILES_PATH = 'input_csv_files/'\n",
    "STATES_REMAPPING_FILE_NAME = 'States Remapping - Input.csv'\n",
    "PARTNERS_WITHOUT_NAME_FILE_NAME =' res.partner(no name).csv'\n",
    "RES_USERS_GROUPS_FILE_NAME = 'res.users(groups).csv'\n",
    "CRM_TEAM_MEMBERS_FILE_NAME = 'crm.team(members).csv'"
   ]
  },
  {
   "cell_type": "markdown",
   "metadata": {},
   "source": [
    "**Export function wrapper**\n",
    "Created to avoid repeating code"
   ]
  },
  {
   "cell_type": "code",
   "execution_count": 1,
   "metadata": {},
   "outputs": [],
   "source": [
    "def export_data(model_name = None, config = None, domain = None, fields = None, output_file = None, workers = None, batch_size = None, context = None, separator = None):\n",
    "    if model_name in ['ir.model.data', 'ir.model.fields', 'res.groups']:\n",
    "        model_migration_config = {}\n",
    "    else:\n",
    "        model_migration_config = models_migration_config[model_name]\n",
    "    if not config:\n",
    "        config = EXPORT_CONNECTION_CONFIG_DIR\n",
    "    if not domain:\n",
    "        domain = model_migration_config.get('domain', [])\n",
    "    if not fields:\n",
    "        fields = model_migration_config.get('fields', [])\n",
    "    if output_file:\n",
    "        output_file = f'{GENERATED_CSV_FILES_PATH}{output_file}'\n",
    "    else:\n",
    "        output_file = f'{GENERATED_CSV_FILES_PATH}{model_name}.csv'\n",
    "    if not workers:\n",
    "        workers = DEFAULT_WORKERS\n",
    "    if not batch_size:\n",
    "        batch_size = model_migration_config.get('batch_size', EXPORT_DEFAULT_BATCH_SIZE)\n",
    "    if not context:\n",
    "        context = model_migration_config.get('context', EXPORT_DEFAULT_REQ_CONTEXT)\n",
    "    if not separator:\n",
    "        separator = model_migration_config.get('separator', ',')\n",
    "\n",
    "    export_threaded.export_data(\n",
    "        config,\n",
    "        model_name,\n",
    "        domain,\n",
    "        fields,\n",
    "        output=output_file,\n",
    "        max_connection=workers,\n",
    "        batch_size=batch_size,\n",
    "        context=context,\n",
    "        separator=separator,\n",
    "    )"
   ]
  },
  {
   "cell_type": "markdown",
   "metadata": {},
   "source": [
    "**Import function wrappers**\n",
    "Created to avoid repeating code"
   ]
  },
  {
   "cell_type": "code",
   "execution_count": 5,
   "metadata": {},
   "outputs": [],
   "source": [
    "def import_data(model_name = None, file_csv = None, context = None, separator = None, ignore_fields = None, group_by = None, workers = None, batch_size = None):\n",
    "    model_migration_config = models_migration_config[model_name]\n",
    "    if file_csv:\n",
    "        file_csv = f'{GENERATED_CSV_FILES_PATH}{file_csv}'\n",
    "    elif not file_csv:\n",
    "        file_csv = f'{GENERATED_CSV_FILES_PATH}{model_name}.csv'\n",
    "    if not context:\n",
    "        context = model_migration_config.get('context', IMPORT_DEFAULT_REQ_CONTEXT)\n",
    "    if not separator:\n",
    "        separator = model_migration_config.get('separator', ',')\n",
    "    if not ignore_fields:\n",
    "        ignore_fields = model_migration_config.get('ignore_fields', [])\n",
    "    if not group_by:\n",
    "        group_by = model_migration_config.get('group_by', False)\n",
    "    if not workers:\n",
    "        workers = model_migration_config.get('workers', DEFAULT_WORKERS)\n",
    "    if not batch_size:\n",
    "        batch_size = model_migration_config.get('batch_size', IMPORT_DEFAULT_BATCH_SIZE)\n",
    "\n",
    "    if model_name == 'crm.lead.tag':\n",
    "        model_name = 'crm.tag'\n",
    "\n",
    "    import_threaded.import_data(\n",
    "        IMPORT_CONNECTION_CONFIG_DIR,\n",
    "        model_name,\n",
    "        file_csv=file_csv,\n",
    "        context=context,\n",
    "        separator=separator,\n",
    "        ignore=ignore_fields,\n",
    "        split=group_by,\n",
    "        max_connection=workers,\n",
    "        batch_size=batch_size,\n",
    "    )\n",
    "\n",
    "def import_ignored_fields(model_name, fields = None, file_csv = None,  ignore_fields = [], group_by = [], workers = DEFAULT_WORKERS):\n",
    "    model_migration_config = models_migration_config[model_name]\n",
    "    if not fields:\n",
    "        fields = model_migration_config['fields']\n",
    "    ignore_fields = ignore_fields or model_migration_config.get('ignore_fields', [])\n",
    "    if ignore_fields:\n",
    "        # import the ignored fields\n",
    "        added_fields = list(f for f in fields if f not in ignore_fields and f not in ['id'])\n",
    "        import_data(model_name, file_csv=file_csv, ignore_fields=added_fields, group_by = group_by, workers = workers)"
   ]
  },
  {
   "cell_type": "markdown",
   "metadata": {},
   "source": [
    "**Extract res.partner.category**"
   ]
  },
  {
   "cell_type": "code",
   "execution_count": null,
   "metadata": {
    "pycharm": {
     "is_executing": true
    }
   },
   "outputs": [],
   "source": [
    "export_data('res.partner.category')"
   ]
  },
  {
   "cell_type": "markdown",
   "metadata": {},
   "source": [
    "**Load res.partner.category**"
   ]
  },
  {
   "cell_type": "code",
   "execution_count": null,
   "metadata": {
    "pycharm": {
     "is_executing": true
    }
   },
   "outputs": [],
   "source": [
    "import_data('res.partner.category')"
   ]
  },
  {
   "cell_type": "markdown",
   "metadata": {},
   "source": [
    "**Extract and transform res.partner**"
   ]
  },
  {
   "cell_type": "code",
   "execution_count": 6,
   "metadata": {},
   "outputs": [
    {
     "name": "stdout",
     "output_type": "stream",
     "text": [
      "time for batch 0: 11.171121597290039\n",
      "time for batch 1: 11.353484869003296\n",
      "time for batch 2: 11.011966466903687\n",
      "time for batch 3: 10.838736295700073\n",
      "time for batch 11: 11.1662917137146\n",
      "time for batch 4: 11.343334913253784\n",
      "time for batch 12: 10.514366149902344\n",
      "time for batch 13: 10.526703596115112\n",
      "time for batch 8: 10.554396152496338\n",
      "time for batch 9: 10.537352323532104\n",
      "time for batch 10: 10.353218793869019\n",
      "time for batch 5: 10.691975116729736\n",
      "time for batch 6: 10.155412912368774\n",
      "time for batch 7: 10.135194301605225\n",
      "time for batch 14: 5.3277428150177\n",
      "43316 res.partner exported, total time 82.4939239025116 second(s)\n",
      "Writing file\n",
      "time for batch 0: 1.950087070465088\n",
      "290 res.partner exported, total time 2.6312451362609863 second(s)\n",
      "Writing file\n"
     ]
    }
   ],
   "source": [
    "model_name = 'res.partner'\n",
    "model_migration_config = models_migration_config[model_name]\n",
    "\n",
    "export_data(model_name)\n",
    "\n",
    "# Clean-up\n",
    "partners_main_file_path = f'{GENERATED_CSV_FILES_PATH}{model_name}.csv'\n",
    "partners_dataframe = pandas.read_csv(partners_main_file_path)\n",
    "partners_dataframe.rename(columns={'categ_id/id': 'category_id/id'}, inplace=True)\n",
    "partners_dataframe['category_id/id'] = partners_dataframe['category_id/id'].str.replace('False', '')\n",
    "partners_dataframe['type'] = partners_dataframe['type'].str.replace('False', '')\n",
    "partners_dataframe['type'] = partners_dataframe['type'].str.replace('Shipping address', 'Delivery address')\n",
    "\n",
    "# States remapping\n",
    "states_remapping_file_path = f'{INPUT_CSV_FILES_PATH}{STATES_REMAPPING_FILE_NAME}'\n",
    "states_remapping_dataframe = pandas.read_csv(states_remapping_file_path)\n",
    "\n",
    "for row in states_remapping_dataframe.itertuples():\n",
    "    indexes = partners_dataframe[partners_dataframe['state_id/id'] == row.flash_hlg_state_id].index.tolist()\n",
    "    for i in indexes:\n",
    "        state_id = row.id if type(row.id) == str else ''\n",
    "        partners_dataframe.loc[i:i, 'state_id/id': 'country_id/id'] = state_id, row.country_id\n",
    "\n",
    "partners_dataframe.to_csv(partners_main_file_path, index=False)\n",
    "\n",
    "#Export partner without names\n",
    "fields_to_export = [f for f in model_migration_config['fields'] if f != 'name']\n",
    "export_data(model_name=model_name,\n",
    "            domain=['|', ['name', '=', False], ['name', '=', '']],\n",
    "            fields=fields_to_export,\n",
    "            output_file=PARTNERS_WITHOUT_NAME_FILE_NAME\n",
    "            )\n",
    "partners_without_name_file_path = f'{GENERATED_CSV_FILES_PATH}{PARTNERS_WITHOUT_NAME_FILE_NAME}'\n",
    "partners_dataframe = pandas.read_csv(partners_without_name_file_path)\n",
    "partners_dataframe.insert(len(fields_to_export), 'name','[N/A]')\n",
    "partners_dataframe.rename(columns={'categ_id/id': 'category_id/id'}, inplace=True)\n",
    "partners_dataframe['type'] = partners_dataframe['type'].str.replace('Shipping address', 'Delivery address')\n",
    "partners_dataframe.to_csv(partners_without_name_file_path, index=False)"
   ]
  },
  {
   "cell_type": "markdown",
   "source": [
    "**Load res.partner**"
   ],
   "metadata": {
    "collapsed": false
   }
  },
  {
   "cell_type": "code",
   "execution_count": null,
   "outputs": [],
   "source": [
    "model_name = 'res.partner'\n",
    "#import partners without name\n",
    "import_data(model_name=model_name, file_csv=PARTNERS_WITHOUT_NAME_FILE_NAME)\n",
    "#import the rest of the partners\n",
    "import_data(model_name=model_name, group_by='parent_id/id', workers=1)\n",
    "\n",
    "ignore_fields = ['id', 'name'] + models_migration_config['res.partner']['ignore_fields']\n",
    "import_ignored_fields(model_name, file_csv=PARTNERS_WITHOUT_NAME_FILE_NAME, ignore_fields = ignore_fields, workers=1)"
   ],
   "metadata": {
    "collapsed": false
   }
  },
  {
   "cell_type": "markdown",
   "source": [
    "**Extract and transform res.users**"
   ],
   "metadata": {
    "collapsed": false
   }
  },
  {
   "cell_type": "code",
   "execution_count": null,
   "outputs": [],
   "source": [
    "model_name = 'res.users'\n",
    "export_data(model_name)\n",
    "\n",
    "res_users_file_path = f'{GENERATED_CSV_FILES_PATH}{model_name}.csv'\n",
    "users_dataframe = pandas.read_csv(res_users_file_path)\n",
    "users_dataframe.rename(columns={'image': 'image_1920'}, inplace=True)\n",
    "users_dataframe.to_csv(res_users_file_path, index=False)\n",
    "\n",
    "# Export users security groups\n",
    "fields_to_export = ['id', 'groups_id', 'groups_id/id']\n",
    "export_data(model_name=model_name,\n",
    "            fields=fields_to_export,\n",
    "            output_file=RES_USERS_GROUPS_FILE_NAME,\n",
    "            )\n",
    "res_users_groups_file_path = f'{GENERATED_CSV_FILES_PATH}{RES_USERS_GROUPS_FILE_NAME}'\n",
    "users_groups_dataframe = pandas.read_csv(res_users_groups_file_path)\n",
    "users_groups_dataframe.fillna(method='ffill', inplace=True)\n",
    "\n",
    "# Export v15 groups\n",
    "export_data(config='import_connection.conf',\n",
    "            model_name='res.groups',\n",
    "            fields=['id'],\n",
    "            output_file='res.groups.csv',\n",
    "            )\n",
    "res_groups_file_path = f'{GENERATED_CSV_FILES_PATH}res.groups.csv'\n",
    "groups_dataframe = pandas.read_csv(res_groups_file_path)\n",
    "groups_dataframe.rename(columns={'id': 'groups_id/id'}, inplace=True)\n",
    "users_groups_dataframe = users_groups_dataframe.merge(groups_dataframe, on='groups_id/id', how='inner')\n",
    "\n",
    "users_groups_dataframe.to_csv(res_users_groups_file_path, index=False)"
   ],
   "metadata": {
    "collapsed": false
   }
  },
  {
   "cell_type": "markdown",
   "source": [
    "**Load res.users** (and load remaining res.partner fields)"
   ],
   "metadata": {
    "collapsed": false
   }
  },
  {
   "cell_type": "code",
   "execution_count": 7,
   "outputs": [
    {
     "name": "stdout",
     "output_type": "stream",
     "text": [
      "open generated_csv_files/res.partner.csv\n"
     ]
    },
    {
     "name": "stderr",
     "output_type": "stream",
     "text": [
      "open generated_csv_files/res.partner.csv\n"
     ]
    },
    {
     "name": "stdout",
     "output_type": "stream",
     "text": [
      "Skipping until line 0 excluded\n",
      "time for batch [0] - 1000 of 1000 : 30.44633436203003\n",
      "time for batch [1] - 1000 of 1000 : 15.47355341911316\n",
      "time for batch [2] - 1000 of 1000 : 11.03710389137268\n",
      "time for batch [3] - 1000 of 1000 : 11.27837586402893\n",
      "time for batch [4] - 1000 of 1000 : 10.11946988105774\n",
      "time for batch [5] - 1000 of 1000 : 9.634913682937622\n",
      "time for batch [6] - 1000 of 1000 : 10.613754510879517\n",
      "time for batch [10] - 1000 of 1000 : 9.936044692993164\n",
      "time for batch [8] - 1000 of 1000 : 10.727485656738281\n",
      "time for batch [12] - 1000 of 1000 : 9.929571390151978\n",
      "time for batch [7] - 1000 of 1000 : 9.099654197692871\n",
      "time for batch [11] - 1000 of 1000 : 10.261418104171753\n",
      "time for batch [9] - 1000 of 1000 : 10.728813409805298\n",
      "time for batch [13] - 1000 of 1000 : 9.810096740722656\n",
      "time for batch [14] - 1000 of 1000 : 9.935624837875366\n",
      "time for batch [18] - 1000 of 1000 : 10.277380228042603\n",
      "time for batch [16] - 1000 of 1000 : 10.070571899414062\n",
      "time for batch [17] - 1000 of 1000 : 10.52428150177002\n",
      "time for batch [15] - 1000 of 1000 : 10.443084955215454\n",
      "time for batch [19] - 1000 of 1000 : 10.689610481262207\n",
      "time for batch [20] - 1000 of 1000 : 10.276252031326294\n",
      "time for batch [21] - 1000 of 1000 : 10.307496070861816\n",
      "time for batch [22] - 1000 of 1000 : 9.902133226394653\n",
      "time for batch [23] - 1000 of 1000 : 10.473693132400513\n",
      "time for batch [27] - 1000 of 1000 : 9.502050638198853\n",
      "time for batch [25] - 1000 of 1000 : 9.458863496780396\n",
      "time for batch [26] - 1000 of 1000 : 9.569064855575562\n",
      "time for batch [24] - 1000 of 1000 : 10.484900951385498\n",
      "time for batch [28] - 1000 of 1000 : 9.797141790390015\n",
      "time for batch [29] - 1000 of 1000 : 10.354590892791748\n",
      "time for batch [33] - 1000 of 1000 : 10.630211591720581\n",
      "time for batch [31] - 1000 of 1000 : 10.284457206726074\n",
      "time for batch [32] - 1000 of 1000 : 10.615060806274414\n",
      "time for batch [30] - 1000 of 1000 : 10.027050733566284\n",
      "time for batch [37] - 1000 of 1000 : 9.243383646011353\n",
      "time for batch [35] - 1000 of 1000 : 10.547163963317871\n",
      "time for batch [36] - 1000 of 1000 : 9.342099666595459\n",
      "time for batch [34] - 1000 of 1000 : 10.658608198165894\n",
      "time for batch [38] - 1000 of 1000 : 9.160618782043457\n",
      "time for batch [39] - 1000 of 1000 : 9.52548599243164\n",
      "time for batch [40] - 1000 of 1000 : 9.413019180297852\n",
      "time for batch [41] - 1000 of 1000 : 9.728479623794556\n",
      "time for batch [42] - 1000 of 1000 : 10.188408374786377\n",
      "time for batch [43] - 1000 of 316 : 3.136838674545288\n",
      "43316 res.partner imported, total time 463.72234582901 second(s)\n"
     ]
    }
   ],
   "source": [
    "model_name = 'res.users'\n",
    "import_data(model_name=model_name)\n",
    "import_data(model_name=model_name, ignore_fields=['groups_id'], file_csv=RES_USERS_GROUPS_FILE_NAME, group_by='id', workers=1, context={'update_many2many': True})\n",
    "\n",
    "#Import remaining res.partner fields\n",
    "ignore_fields = ['id', 'name'] + models_migration_config['res.partner']['ignore_fields']\n",
    "import_ignored_fields('res.partner', ignore_fields = ignore_fields, workers=1)"
   ],
   "metadata": {
    "collapsed": false
   }
  },
  {
   "cell_type": "markdown",
   "source": [
    "**Extract crm.lead.tag**"
   ],
   "metadata": {
    "collapsed": false
   }
  },
  {
   "cell_type": "code",
   "execution_count": 60,
   "outputs": [
    {
     "name": "stdout",
     "output_type": "stream",
     "text": [
      "time for batch 0: 0.7539858818054199\n",
      "27 crm.lead.tag exported, total time 1.936544418334961 second(s)\n",
      "Writing file\n"
     ]
    }
   ],
   "source": [
    "export_data('crm.lead.tag')"
   ],
   "metadata": {
    "collapsed": false
   }
  },
  {
   "cell_type": "markdown",
   "source": [
    "**Load crm.lead.tag**"
   ],
   "metadata": {
    "collapsed": false
   }
  },
  {
   "cell_type": "code",
   "execution_count": 61,
   "outputs": [
    {
     "name": "stdout",
     "output_type": "stream",
     "text": [
      "open generated_csv_files/crm.lead.tag.csv\n"
     ]
    },
    {
     "name": "stderr",
     "output_type": "stream",
     "text": [
      "open generated_csv_files/crm.lead.tag.csv\n"
     ]
    },
    {
     "name": "stdout",
     "output_type": "stream",
     "text": [
      "Skipping until line 0 excluded\n",
      "time for batch [0] - 1000 of 27 : 0.06116127967834473\n",
      "27 crm.tag imported, total time 0.06213235855102539 second(s)\n"
     ]
    }
   ],
   "source": [
    "import_data('crm.lead.tag')"
   ],
   "metadata": {
    "collapsed": false
   }
  },
  {
   "cell_type": "markdown",
   "source": [
    "**Extract crm.stage**"
   ],
   "metadata": {
    "collapsed": false
   }
  },
  {
   "cell_type": "code",
   "execution_count": 62,
   "outputs": [
    {
     "name": "stdout",
     "output_type": "stream",
     "text": [
      "time for batch 0: 0.7674407958984375\n",
      "20 crm.stage exported, total time 1.5480220317840576 second(s)\n",
      "Writing file\n"
     ]
    }
   ],
   "source": [
    "export_data('crm.stage')"
   ],
   "metadata": {
    "collapsed": false
   }
  },
  {
   "cell_type": "markdown",
   "source": [
    "**Load crm.stage**"
   ],
   "metadata": {
    "collapsed": false
   }
  },
  {
   "cell_type": "code",
   "execution_count": 63,
   "outputs": [
    {
     "name": "stdout",
     "output_type": "stream",
     "text": [
      "open generated_csv_files/crm.stage.csv\n"
     ]
    },
    {
     "name": "stderr",
     "output_type": "stream",
     "text": [
      "open generated_csv_files/crm.stage.csv\n"
     ]
    },
    {
     "name": "stdout",
     "output_type": "stream",
     "text": [
      "Skipping until line 0 excluded\n",
      "time for batch [0] - 1000 of 20 : 0.057265520095825195\n",
      "20 crm.stage imported, total time 0.05883026123046875 second(s)\n"
     ]
    }
   ],
   "source": [
    "import_data('crm.stage')"
   ],
   "metadata": {
    "collapsed": false
   }
  },
  {
   "cell_type": "markdown",
   "source": [
    "**Extract and transform crm.team**"
   ],
   "metadata": {
    "collapsed": false
   }
  },
  {
   "cell_type": "code",
   "execution_count": 64,
   "outputs": [
    {
     "name": "stdout",
     "output_type": "stream",
     "text": [
      "time for batch 0: 1.0742380619049072\n",
      "129 crm.team exported, total time 1.8563196659088135 second(s)\n",
      "Writing file\n",
      "time for batch 0: 1.6371424198150635\n",
      "129 crm.team exported, total time 2.3808932304382324 second(s)\n",
      "Writing file\n"
     ]
    }
   ],
   "source": [
    "model_name = 'crm.team'\n",
    "export_data(model_name)\n",
    "\n",
    "#Export team members\n",
    "fields_to_export = ['id', 'member_ids', 'member_ids/id']\n",
    "export_data(model_name=model_name,\n",
    "            fields=fields_to_export,\n",
    "            output_file=CRM_TEAM_MEMBERS_FILE_NAME\n",
    "            )\n",
    "crm_team_file_path = f'{GENERATED_CSV_FILES_PATH}{CRM_TEAM_MEMBERS_FILE_NAME}'\n",
    "crm_team_dataframe = pandas.read_csv(crm_team_file_path)\n",
    "crm_team_dataframe.fillna(method='ffill', inplace=True)\n",
    "crm_team_dataframe.to_csv(crm_team_file_path, index=False)"
   ],
   "metadata": {
    "collapsed": false
   }
  },
  {
   "cell_type": "markdown",
   "source": [
    "**Load crm.team**"
   ],
   "metadata": {
    "collapsed": false
   }
  },
  {
   "cell_type": "code",
   "execution_count": 65,
   "outputs": [
    {
     "name": "stdout",
     "output_type": "stream",
     "text": [
      "open generated_csv_files/crm.team.csv\n"
     ]
    },
    {
     "name": "stderr",
     "output_type": "stream",
     "text": [
      "open generated_csv_files/crm.team.csv\n"
     ]
    },
    {
     "name": "stdout",
     "output_type": "stream",
     "text": [
      "Skipping until line 0 excluded\n",
      "time for batch [0] - 1000 of 129 : 0.4250047206878662\n",
      "129 crm.team imported, total time 0.4266352653503418 second(s)\n",
      "open generated_csv_files/crm.team(members).csv\n"
     ]
    },
    {
     "name": "stderr",
     "output_type": "stream",
     "text": [
      "open generated_csv_files/crm.team(members).csv\n"
     ]
    },
    {
     "name": "stdout",
     "output_type": "stream",
     "text": [
      "Skipping until line 0 excluded\n",
      "time for batch [0] - 1000 of 1000 : 9.994344472885132\n",
      "time for batch [1] - 1000 of 583 : 5.6810994148254395\n",
      "1583 crm.team imported, total time 15.6790030002594 second(s)\n"
     ]
    }
   ],
   "source": [
    "model_name = 'crm.team'\n",
    "import_data(model_name)\n",
    "import_data(model_name=model_name, ignore_fields=['member_ids'], file_csv=CRM_TEAM_MEMBERS_FILE_NAME, workers=1, context={'update_many2many': True})"
   ],
   "metadata": {
    "collapsed": false
   }
  },
  {
   "cell_type": "markdown",
   "source": [
    "**Extract and transform crm.lead**"
   ],
   "metadata": {
    "collapsed": false
   }
  },
  {
   "cell_type": "code",
   "execution_count": 66,
   "outputs": [
    {
     "name": "stdout",
     "output_type": "stream",
     "text": [
      "time for batch 0: 13.550244092941284\n",
      "time for batch 1: 14.136132001876831\n",
      "time for batch 3: 13.071030616760254\n",
      "time for batch 2: 13.708263635635376\n",
      "time for batch 4: 13.520424127578735\n",
      "14908 crm.lead exported, total time 42.08841586112976 second(s)\n",
      "Writing file\n"
     ]
    }
   ],
   "source": [
    "model_name = 'crm.lead'\n",
    "export_data(model_name)\n",
    "\n",
    "crm_lead_file_path = f'{GENERATED_CSV_FILES_PATH}{model_name}.csv'\n",
    "crm_lead_dataframe = pandas.read_csv(crm_lead_file_path)\n",
    "crm_lead_dataframe.rename(columns={'planned_revenue': 'expected_revenue'}, inplace=True)\n",
    "crm_lead_dataframe['priority'] = crm_lead_dataframe['priority'].str.replace('Low', 'Medium')\n",
    "crm_lead_dataframe['priority'] = crm_lead_dataframe['priority'].str.replace('Normal', 'Low')\n",
    "crm_lead_dataframe['tag_ids/id'] = crm_lead_dataframe['tag_ids/id'].str.replace('False', '')\n",
    "crm_lead_dataframe.sort_values('id', inplace=True)\n",
    "\n",
    "crm_lead_dataframe.to_csv(crm_lead_file_path, index=False)"
   ],
   "metadata": {
    "collapsed": false
   }
  },
  {
   "cell_type": "markdown",
   "source": [
    "**Load crm.lead**"
   ],
   "metadata": {
    "collapsed": false
   }
  },
  {
   "cell_type": "code",
   "execution_count": 67,
   "outputs": [
    {
     "name": "stdout",
     "output_type": "stream",
     "text": [
      "open generated_csv_files/crm.lead.csv\n"
     ]
    },
    {
     "name": "stderr",
     "output_type": "stream",
     "text": [
      "open generated_csv_files/crm.lead.csv\n"
     ]
    },
    {
     "name": "stdout",
     "output_type": "stream",
     "text": [
      "Skipping until line 0 excluded\n",
      "time for batch [0] - [__export__.crm_stage_13_0a60bb34] - 1000 of 1604 : 4.314177989959717\n",
      "time for batch [0] - [__export__.crm_stage_13_0a60bb34] - 2000 of 1604 : 2.5542542934417725\n",
      "time for batch [1] - [__export__.crm_stage_56_6433748d] - 1000 of 1009 : 4.292686939239502\n",
      "time for batch [1] - [__export__.crm_stage_56_6433748d] - 2000 of 1009 : 0.08962035179138184\n",
      "time for batch [2] - [crm.stage_lead1] - 1000 of 9872 : 4.2356040477752686\n",
      "time for batch [2] - [crm.stage_lead1] - 2000 of 9872 : 4.211527585983276\n",
      "time for batch [2] - [crm.stage_lead1] - 3000 of 9872 : 3.941403388977051\n",
      "time for batch [2] - [crm.stage_lead1] - 4000 of 9872 : 4.325936794281006\n",
      "time for batch [2] - [crm.stage_lead1] - 5000 of 9872 : 4.129857063293457\n",
      "time for batch [2] - [crm.stage_lead1] - 6000 of 9872 : 4.2307679653167725\n",
      "time for batch [2] - [crm.stage_lead1] - 7000 of 9872 : 4.260603666305542\n",
      "time for batch [2] - [crm.stage_lead1] - 8000 of 9872 : 4.255374908447266\n",
      "time for batch [2] - [crm.stage_lead1] - 9000 of 9872 : 4.38518214225769\n",
      "time for batch [2] - [crm.stage_lead1] - 10000 of 9872 : 3.779308319091797\n",
      "time for batch [3] - [crm.stage_lead4] - 1000 of 2423 : 13.482068538665771\n",
      "time for batch [3] - [crm.stage_lead4] - 2000 of 2423 : 14.286078214645386\n",
      "time for batch [3] - [crm.stage_lead4] - 3000 of 2423 : 6.2547667026519775\n",
      "14908 crm.lead imported, total time 87.05507469177246 second(s)\n"
     ]
    }
   ],
   "source": [
    "import_data('crm.lead')"
   ],
   "metadata": {
    "collapsed": false
   }
  },
  {
   "cell_type": "markdown",
   "source": [
    "**Extract and transform mail.message**\n",
    "Requires all the previous steps to work properly given that it depends on the new external ids created on the new Odoo instance"
   ],
   "metadata": {
    "collapsed": false
   }
  },
  {
   "cell_type": "code",
   "execution_count": 68,
   "outputs": [
    {
     "name": "stdout",
     "output_type": "stream",
     "text": [
      "time for batch 1: 8.822322845458984\n",
      "time for batch 0: 9.015714645385742\n",
      "time for batch 2: 7.847066640853882\n",
      "time for batch 3: 8.698562145233154\n",
      "time for batch 4: 8.105543851852417\n",
      "time for batch 5: 8.09717082977295\n",
      "time for batch 6: 7.8463099002838135\n",
      "time for batch 7: 7.452922344207764\n",
      "time for batch 8: 8.477424383163452\n",
      "time for batch 9: 7.878674745559692\n",
      "time for batch 10: 8.659231662750244\n",
      "time for batch 17: 8.943337440490723\n",
      "time for batch 13: 7.866714954376221\n",
      "time for batch 18: 8.27489185333252\n",
      "time for batch 14: 9.17553162574768\n",
      "time for batch 15: 9.453514814376831\n",
      "time for batch 11: 8.22123384475708\n",
      "time for batch 22: 8.6731698513031\n",
      "time for batch 19: 8.417027711868286\n",
      "time for batch 12: 9.047569274902344\n",
      "time for batch 21: 7.726343870162964\n",
      "time for batch 20: 8.355023860931396\n",
      "time for batch 16: 7.95101261138916\n",
      "time for batch 29: 8.535937309265137\n",
      "time for batch 30: 7.89205002784729\n",
      "time for batch 31: 7.852519989013672\n",
      "time for batch 33: 7.330997467041016\n",
      "time for batch 26: 8.172837495803833\n",
      "time for batch 28: 8.36276388168335\n",
      "time for batch 23: 8.380061864852905\n",
      "time for batch 36: 7.574388265609741\n",
      "time for batch 25: 8.19352674484253\n",
      "time for batch 32: 7.8038489818573\n",
      "time for batch 27: 7.575931787490845\n",
      "time for batch 34: 7.922919273376465\n",
      "time for batch 41: 8.261634826660156\n",
      "time for batch 24: 8.352291822433472\n",
      "time for batch 37: 7.571908712387085\n",
      "time for batch 38: 7.989853143692017\n",
      "time for batch 39: 8.531622886657715\n",
      "time for batch 40: 7.8738319873809814\n",
      "time for batch 47: 8.438200950622559\n",
      "time for batch 42: 8.691931247711182\n",
      "time for batch 44: 7.66256046295166\n",
      "time for batch 49: 75.06835150718689\n",
      "time for batch 46: 8.6603422164917\n",
      "time for batch 35: 7.743882656097412\n",
      "time for batch 48: 7.775464773178101\n",
      "time for batch 43: 7.9885711669921875\n",
      "time for batch 51: 120.13820910453796\n",
      "time for batch 50: 91.2086181640625\n",
      "time for batch 57: 88.32569432258606\n",
      "time for batch 52: 112.36379909515381\n",
      "time for batch 60: 7.779720306396484\n",
      "time for batch 53: 103.71691966056824\n",
      "time for batch 55: 107.64730167388916\n",
      "time for batch 56: 106.82871794700623\n",
      "time for batch 45: 8.184054136276245\n",
      "time for batch 59: 7.3794965744018555\n",
      "time for batch 58: 46.838245153427124\n",
      "time for batch 61: 3.3783864974975586\n",
      "time for batch 54: 110.47792029380798\n",
      "183606 mail.message exported, total time 731.7092957496643 second(s)\n",
      "Writing file\n",
      "time for batch 0: 2.0904054641723633\n",
      "time for batch 1: 2.102436065673828\n",
      "time for batch 3: 2.1741185188293457\n",
      "time for batch 2: 2.1971511840820312\n",
      "time for batch 4: 2.15138840675354\n",
      "time for batch 5: 2.128946542739868\n",
      "time for batch 6: 2.122835397720337\n",
      "time for batch 13: 2.1332685947418213\n",
      "time for batch 15: 2.096510648727417\n",
      "time for batch 8: 2.1313226222991943\n",
      "time for batch 10: 2.041109561920166\n",
      "time for batch 11: 2.047703504562378\n",
      "time for batch 18: 2.0807793140411377\n",
      "time for batch 7: 2.0698931217193604\n",
      "time for batch 14: 2.2021067142486572\n",
      "time for batch 9: 2.2077388763427734\n",
      "time for batch 16: 2.0726447105407715\n",
      "time for batch 17: 2.1339104175567627\n",
      "time for batch 12: 1.8787729740142822\n",
      "time for batch 19: 1.8496978282928467\n",
      "58714 ir.model.data exported, total time 23.53256130218506 second(s)\n",
      "Writing file\n",
      "time for batch 1: 0.17690753936767578\n",
      "time for batch 0: 0.18238043785095215\n",
      "time for batch 2: 0.1861279010772705\n",
      "time for batch 3: 0.18775129318237305\n",
      "time for batch 10: 0.1620347499847412\n",
      "time for batch 5: 0.18301868438720703\n",
      "time for batch 6: 0.1715996265411377\n",
      "time for batch 7: 0.17043066024780273\n",
      "time for batch 8: 0.17646360397338867\n",
      "time for batch 9: 0.17970776557922363\n",
      "time for batch 4: 0.1780107021331787\n",
      "time for batch 17: 0.18048787117004395\n",
      "time for batch 12: 0.19205617904663086\n",
      "time for batch 13: 0.18476271629333496\n",
      "time for batch 14: 0.16175150871276855\n",
      "time for batch 15: 0.18272757530212402\n",
      "time for batch 16: 0.23381662368774414\n",
      "time for batch 11: 0.19246792793273926\n",
      "time for batch 19: 0.12070679664611816\n",
      "time for batch 18: 0.1544189453125\n",
      "58650 ir.model.data exported, total time 2.055633306503296 second(s)\n",
      "Writing file\n"
     ]
    },
    {
     "name": "stderr",
     "output_type": "stream",
     "text": [
      "/tmp/ipykernel_40468/842229724.py:31: FutureWarning: The default value of regex will change from True to False in a future version.\n",
      "  ir_model_data_old_dataframe['complete_name'] = ir_model_data_old_dataframe['complete_name'].str.replace('base.partner_root', 'base.partner_admin')\n",
      "/tmp/ipykernel_40468/842229724.py:32: FutureWarning: The default value of regex will change from True to False in a future version.\n",
      "  ir_model_data_old_dataframe['complete_name'] = ir_model_data_old_dataframe['complete_name'].str.replace('base.default_user_res_partner', 'base.template_portal_user_id_res_partner')\n"
     ]
    }
   ],
   "source": [
    "model_name = 'mail.message'\n",
    "export_data(model_name)\n",
    "\n",
    "mail_message_file_path = f'{GENERATED_CSV_FILES_PATH}{model_name}.csv'\n",
    "mail_message_dataframe = pandas.read_csv(mail_message_file_path)\n",
    "\n",
    "mail_message_dataframe['subtype_id/id'] = mail_message_dataframe['subtype_id/id'].str.replace('False', '')\n",
    "mail_message_dataframe['partner_ids/id'] = mail_message_dataframe['partner_ids/id'].str.replace('False', '')\n",
    "\n",
    "models_with_mail_messages = list(mail_message_dataframe['model'].unique())\n",
    "models_to_export_external_ids = [m for m in models_with_mail_messages if m in models_migration_config.keys()]\n",
    "#Export external_ids\n",
    "fields_to_export = ['complete_name', 'res_id', 'model']\n",
    "export_data(model_name='ir.model.data',\n",
    "            fields=fields_to_export,\n",
    "            output_file='ir.model.data.old.csv',\n",
    "            domain=[['model', 'in', models_to_export_external_ids]]\n",
    "            )\n",
    "#Export v15 external_ids\n",
    "export_data(config='import_connection.conf',\n",
    "            model_name='ir.model.data',\n",
    "            fields=fields_to_export,\n",
    "            output_file='ir.model.data.new.csv',\n",
    "            domain=[['model', 'in', models_to_export_external_ids]]\n",
    "            )\n",
    "external_ids_old_file_path = f'{GENERATED_CSV_FILES_PATH}ir.model.data.old.csv'\n",
    "external_ids_new_file_path = f'{GENERATED_CSV_FILES_PATH}ir.model.data.new.csv'\n",
    "merged_data_frame_file_path = f'{GENERATED_CSV_FILES_PATH}ir.model.data.merged.csv'\n",
    "ir_model_data_old_dataframe = pandas.read_csv(external_ids_old_file_path)\n",
    "ir_model_data_new_dataframe = pandas.read_csv(external_ids_new_file_path)\n",
    "ir_model_data_old_dataframe['complete_name'] = ir_model_data_old_dataframe['complete_name'].str.replace('base.partner_root', 'base.partner_admin')\n",
    "ir_model_data_old_dataframe['complete_name'] = ir_model_data_old_dataframe['complete_name'].str.replace('base.default_user_res_partner', 'base.template_portal_user_id_res_partner')\n",
    "ir_model_data_old_dataframe.to_csv(external_ids_old_file_path, index=False)\n",
    "# Merge old and new external ids to extract the new database id\n",
    "ir_model_data_old_dataframe.rename(columns={'res_id': 'old_res_id'}, inplace=True)\n",
    "ir_model_data_merged_dataframe = ir_model_data_new_dataframe.merge(ir_model_data_old_dataframe, on=['complete_name', 'model'], how='inner')\n",
    "ir_model_data_merged_dataframe.rename(columns={'res_id': 'new_res_id'}, inplace=True)\n",
    "ir_model_data_merged_dataframe['old_res_id'] = ir_model_data_merged_dataframe['old_res_id'].astype('int')\n",
    "ir_model_data_merged_dataframe.to_csv(merged_data_frame_file_path, index=False)\n",
    "\n",
    "# Merge the mail.message dataframe with ir_model_data_merged_dataframe to get the new database ids\n",
    "mail_message_dataframe = mail_message_dataframe.merge(ir_model_data_merged_dataframe, left_on=['model', 'res_id'], right_on=['model', 'old_res_id'], how='inner')\n",
    "mail_message_dataframe.rename(columns={'res_id': 'old_res_id'}, inplace=True)\n",
    "mail_message_dataframe.rename(columns={'new_res_id': 'res_id'}, inplace=True)\n",
    "mail_message_dataframe['res_id'] = mail_message_dataframe['res_id'].astype('int')\n",
    "\n",
    "mail_message_dataframe.sort_values('date', ascending=True, inplace=True)\n",
    "mail_message_dataframe.to_csv(mail_message_file_path, index=False)"
   ],
   "metadata": {
    "collapsed": false
   }
  },
  {
   "cell_type": "markdown",
   "source": [
    "**Load mail.message**"
   ],
   "metadata": {
    "collapsed": false
   }
  },
  {
   "cell_type": "code",
   "execution_count": 69,
   "outputs": [
    {
     "name": "stdout",
     "output_type": "stream",
     "text": [
      "open generated_csv_files/mail.message.csv\n"
     ]
    },
    {
     "name": "stderr",
     "output_type": "stream",
     "text": [
      "open generated_csv_files/mail.message.csv\n"
     ]
    },
    {
     "name": "stdout",
     "output_type": "stream",
     "text": [
      "Skipping until line 0 excluded\n",
      "time for batch [1] - [__export__.crm_lead_20872_30733915] - 1000 of 1007 : 2.9201033115386963\n",
      "time for batch [0] - [__export__.crm_lead_19460_de380ae3] - 1000 of 1000 : 3.0580949783325195\n",
      "time for batch [1] - [__export__.crm_lead_20872_30733915] - 2000 of 1007 : 0.137101411819458\n",
      "time for batch [2] - [__export__.crm_lead_22248_fcbdf636] - 1000 of 1413 : 3.2462687492370605\n",
      "time for batch [3] - [__export__.crm_lead_22252_5debacbb] - 1000 of 3228 : 3.390671491622925\n",
      "time for batch [2] - [__export__.crm_lead_22248_fcbdf636] - 2000 of 1413 : 1.5159623622894287\n",
      "time for batch [3] - [__export__.crm_lead_22252_5debacbb] - 2000 of 3228 : 2.8260722160339355\n",
      "time for batch [4] - [__export__.crm_lead_22259_3fd22dac] - 1000 of 1135 : 2.863431215286255\n",
      "time for batch [4] - [__export__.crm_lead_22259_3fd22dac] - 2000 of 1135 : 0.37528014183044434\n",
      "time for batch [3] - [__export__.crm_lead_22252_5debacbb] - 3000 of 3228 : 3.317457437515259\n",
      "time for batch [3] - [__export__.crm_lead_22252_5debacbb] - 4000 of 3228 : 0.517897367477417\n",
      "time for batch [5] - [__export__.crm_lead_22262_8094e3d4] - 1000 of 1142 : 3.4489102363586426\n",
      "time for batch [5] - [__export__.crm_lead_22262_8094e3d4] - 2000 of 1142 : 0.29460716247558594\n",
      "time for batch [6] - [__export__.crm_lead_22923_9f9acf5a] - 1000 of 1100 : 3.159541368484497\n",
      "time for batch [6] - [__export__.crm_lead_22923_9f9acf5a] - 2000 of 1100 : 0.21924185752868652\n",
      "time for batch [7] - [__export__.crm_lead_23191_389b3827] - 1000 of 1042 : 3.011213541030884\n",
      "time for batch [7] - [__export__.crm_lead_23191_389b3827] - 2000 of 1042 : 0.11633110046386719\n",
      "time for batch [8] - [__export__.crm_lead_23466_294a18d1] - 1000 of 2043 : 2.8455679416656494\n",
      "time for batch [9] - [__export__.crm_lead_23478_d5e59108] - 1000 of 2583 : 2.7624433040618896\n",
      "time for batch [8] - [__export__.crm_lead_23466_294a18d1] - 2000 of 2043 : 2.803154706954956\n",
      "time for batch [8] - [__export__.crm_lead_23466_294a18d1] - 3000 of 2043 : 0.13357257843017578\n",
      "time for batch [9] - [__export__.crm_lead_23478_d5e59108] - 2000 of 2583 : 2.804576873779297\n",
      "time for batch [9] - [__export__.crm_lead_23478_d5e59108] - 3000 of 2583 : 1.4364113807678223\n",
      "time for batch [10] - [__export__.crm_lead_23572_e5052410] - 1000 of 1038 : 2.670415163040161\n",
      "time for batch [10] - [__export__.crm_lead_23572_e5052410] - 2000 of 1038 : 0.7338871955871582\n",
      "time for batch [11] - [__export__.crm_lead_24285_23a4902d] - 1000 of 2024 : 3.088132858276367\n",
      "time for batch [12] - [__export__.crm_lead_24456_58c5a9ef] - 1000 of 3546 : 3.287777900695801\n",
      "time for batch [11] - [__export__.crm_lead_24285_23a4902d] - 2000 of 2024 : 2.878532886505127\n",
      "time for batch [12] - [__export__.crm_lead_24456_58c5a9ef] - 2000 of 3546 : 1.9367451667785645\n",
      "time for batch [11] - [__export__.crm_lead_24285_23a4902d] - 3000 of 2024 : 0.6959102153778076\n",
      "time for batch [12] - [__export__.crm_lead_24456_58c5a9ef] - 3000 of 3546 : 2.756155014038086\n",
      "time for batch [13] - [__export__.crm_lead_32369_bfffbce2] - 1000 of 1000 : 3.038933753967285\n",
      "time for batch [12] - [__export__.crm_lead_24456_58c5a9ef] - 4000 of 3546 : 2.4961678981781006\n",
      "time for batch [14] - [__export__.crm_lead_33021_94a65a24] - 1000 of 1000 : 3.254415273666382\n",
      "time for batch [21] - [__export__.crm_lead_35811_a44c8d9a] - 1000 of 1005 : 3.3452303409576416\n",
      "time for batch [21] - [__export__.crm_lead_35811_a44c8d9a] - 2000 of 1005 : 0.04017996788024902\n",
      "time for batch [22] - [__export__.crm_lead_36207_26886939] - 1000 of 1000 : 3.677946090698242\n",
      "time for batch [17] - [__export__.crm_lead_34275_e7f42673] - 1000 of 1001 : 2.963869571685791\n",
      "time for batch [17] - [__export__.crm_lead_34275_e7f42673] - 2000 of 1001 : 0.04903125762939453\n",
      "time for batch [24] - [__export__.crm_lead_36949_b17b12ea] - 1000 of 1035 : 3.1934666633605957\n",
      "time for batch [24] - [__export__.crm_lead_36949_b17b12ea] - 2000 of 1035 : 0.10662603378295898\n",
      "time for batch [19] - [__export__.crm_lead_34947_1eaba939] - 1000 of 1028 : 3.4750654697418213\n",
      "time for batch [19] - [__export__.crm_lead_34947_1eaba939] - 2000 of 1028 : 0.0828404426574707\n",
      "time for batch [20] - [__export__.crm_lead_35446_39881b03] - 1000 of 1019 : 3.1557228565216064\n",
      "time for batch [20] - [__export__.crm_lead_35446_39881b03] - 2000 of 1019 : 0.08986139297485352\n",
      "time for batch [27] - [__export__.crm_lead_38120_5af0cfef] - 1000 of 1073 : 3.289113759994507\n",
      "time for batch [27] - [__export__.crm_lead_38120_5af0cfef] - 2000 of 1073 : 0.16085243225097656\n",
      "time for batch [28] - [__export__.crm_lead_38506_aa0a3683] - 1000 of 1069 : 3.247905969619751\n",
      "time for batch [28] - [__export__.crm_lead_38506_aa0a3683] - 2000 of 1069 : 0.14212656021118164\n",
      "time for batch [23] - [__export__.crm_lead_36581_b60ba5fb] - 1000 of 1005 : 3.4573826789855957\n",
      "time for batch [23] - [__export__.crm_lead_36581_b60ba5fb] - 2000 of 1005 : 0.041062355041503906\n",
      "time for batch [30] - [__export__.crm_lead_39471_d1da9af7] - 1000 of 1001 : 3.3219897747039795\n",
      "time for batch [30] - [__export__.crm_lead_39471_d1da9af7] - 2000 of 1001 : 0.03260493278503418\n",
      "time for batch [25] - [__export__.crm_lead_37364_467ff3ff] - 1000 of 1002 : 3.452345609664917\n",
      "time for batch [25] - [__export__.crm_lead_37364_467ff3ff] - 2000 of 1002 : 0.03174924850463867\n",
      "time for batch [32] - [__export__.crm_lead_40307_e1690c42] - 1000 of 1000 : 3.4049453735351562\n",
      "time for batch [15] - [__export__.crm_lead_33477_b21ed5d9] - 1000 of 1001 : 3.416508436203003\n",
      "time for batch [15] - [__export__.crm_lead_33477_b21ed5d9] - 2000 of 1001 : 0.03266263008117676\n",
      "time for batch [16] - [__export__.crm_lead_33863_30221c69] - 1000 of 1000 : 3.7219762802124023\n",
      "time for batch [29] - [__export__.crm_lead_38987_e62e18a9] - 1000 of 1000 : 3.7064197063446045\n",
      "time for batch [18] - [__export__.crm_lead_34527_7795f253] - 1000 of 1005 : 3.6718523502349854\n",
      "time for batch [18] - [__export__.crm_lead_34527_7795f253] - 2000 of 1005 : 0.039734840393066406\n",
      "time for batch [31] - [__export__.crm_lead_39892_2a6b34aa] - 1000 of 1001 : 3.954594850540161\n",
      "time for batch [31] - [__export__.crm_lead_39892_2a6b34aa] - 2000 of 1001 : 0.19898724555969238\n",
      "time for batch [26] - [__export__.crm_lead_37752_ba750dda] - 1000 of 1000 : 2.708134651184082\n",
      "time for batch [33] - [__export__.crm_lead_40773_0bc219b0] - 1000 of 1000 : 3.8901562690734863\n",
      "time for batch [34] - [__export__.crm_lead_41161_3b26257d] - 1000 of 1004 : 3.930633544921875\n",
      "time for batch [34] - [__export__.crm_lead_41161_3b26257d] - 2000 of 1004 : 0.16817021369934082\n",
      "time for batch [35] - [__export__.crm_lead_41556_e19c8889] - 1000 of 1003 : 3.4165587425231934\n",
      "time for batch [35] - [__export__.crm_lead_41556_e19c8889] - 2000 of 1003 : 0.11266875267028809\n",
      "time for batch [36] - [__export__.crm_lead_41836_fdd89c49] - 1000 of 1001 : 2.788682222366333\n",
      "time for batch [36] - [__export__.crm_lead_41836_fdd89c49] - 2000 of 1001 : 0.09493732452392578\n",
      "time for batch [38] - [__export__.crm_lead_42504_ccd7ef54] - 1000 of 1000 : 3.525313138961792\n",
      "time for batch [37] - [__export__.crm_lead_42234_afa63a13] - 1000 of 1002 : 3.7286629676818848\n",
      "time for batch [37] - [__export__.crm_lead_42234_afa63a13] - 2000 of 1002 : 0.28104591369628906\n",
      "time for batch [39] - [__export__.crm_lead_42822_fc860dd0] - 1000 of 1000 : 3.2148141860961914\n",
      "time for batch [40] - [__export__.crm_lead_43064_95e2b72b] - 1000 of 1000 : 2.9707064628601074\n",
      "time for batch [48] - [__export__.crm_lead_46026_0497aee8] - 1000 of 1001 : 3.1266677379608154\n",
      "time for batch [48] - [__export__.crm_lead_46026_0497aee8] - 2000 of 1001 : 0.19898271560668945\n",
      "time for batch [41] - [__export__.crm_lead_43499_869faf3c] - 1000 of 1000 : 3.4974987506866455\n",
      "time for batch [43] - [__export__.crm_lead_44343_69f75c68] - 1000 of 1000 : 3.8803603649139404\n",
      "time for batch [44] - [__export__.crm_lead_44857_7363bfcd] - 1000 of 1000 : 4.113890647888184\n",
      "time for batch [45] - [__export__.crm_lead_45122_073afe76] - 1000 of 1001 : 3.306711435317993\n",
      "time for batch [45] - [__export__.crm_lead_45122_073afe76] - 2000 of 1001 : 0.14826750755310059\n",
      "time for batch [46] - [__export__.crm_lead_45424_071a6938] - 1000 of 1001 : 3.202219009399414\n",
      "time for batch [46] - [__export__.crm_lead_45424_071a6938] - 2000 of 1001 : 0.167494535446167\n",
      "time for batch [47] - [__export__.crm_lead_45760_296bef0b] - 1000 of 1003 : 3.0278046131134033\n",
      "time for batch [47] - [__export__.crm_lead_45760_296bef0b] - 2000 of 1003 : 0.03945469856262207\n",
      "time for batch [42] - [__export__.crm_lead_43845_dcbc1e40] - 1000 of 1000 : 3.1982381343841553\n",
      "time for batch [56] - [__export__.res_partner_11303_30644e4f] - 1000 of 1005 : 2.5750863552093506\n",
      "time for batch [56] - [__export__.res_partner_11303_30644e4f] - 2000 of 1005 : 0.049280405044555664\n",
      "time for batch [49] - [__export__.crm_lead_46307_fe5ee982] - 1000 of 1003 : 3.372749090194702\n",
      "time for batch [49] - [__export__.crm_lead_46307_fe5ee982] - 2000 of 1003 : 0.8620600700378418\n",
      "time for batch [51] - [__export__.crm_lead_46907_5ef1e8e4] - 1000 of 1002 : 2.907721519470215\n",
      "time for batch [51] - [__export__.crm_lead_46907_5ef1e8e4] - 2000 of 1002 : 0.031030893325805664\n",
      "time for batch [52] - [__export__.crm_lead_47207_39bdb3f5] - 1000 of 1000 : 3.2174668312072754\n",
      "time for batch [53] - [__export__.crm_lead_47549_a8eda46d] - 1000 of 1000 : 3.6043519973754883\n",
      "time for batch [54] - [__export__.crm_lead_8767_cee87293] - 1000 of 1005 : 3.1815292835235596\n",
      "time for batch [54] - [__export__.crm_lead_8767_cee87293] - 2000 of 1005 : 0.04897618293762207\n",
      "time for batch [55] - [__export__.res_partner_11055_9f355cb9] - 1000 of 1002 : 2.7429442405700684\n",
      "time for batch [55] - [__export__.res_partner_11055_9f355cb9] - 2000 of 1002 : 0.0483248233795166\n",
      "time for batch [62] - [__export__.res_partner_13676_4f1c3d00] - 1000 of 1000 : 2.7618324756622314\n",
      "time for batch [57] - [__export__.res_partner_11584_d8341da3] - 1000 of 1000 : 2.821293830871582\n",
      "time for batch [58] - [__export__.res_partner_11857_a55ab8e0] - 1000 of 1002 : 2.5122528076171875\n",
      "time for batch [58] - [__export__.res_partner_11857_a55ab8e0] - 2000 of 1002 : 0.03280520439147949\n",
      "time for batch [59] - [__export__.res_partner_12139_1eee4698] - 1000 of 1001 : 2.4944465160369873\n",
      "time for batch [59] - [__export__.res_partner_12139_1eee4698] - 2000 of 1001 : 0.039630889892578125\n",
      "time for batch [60] - [__export__.res_partner_12411_dba89057] - 1000 of 1000 : 2.46824049949646\n",
      "time for batch [61] - [__export__.res_partner_12673_59459a30] - 1000 of 1001 : 2.7170522212982178\n",
      "time for batch [61] - [__export__.res_partner_12673_59459a30] - 2000 of 1001 : 0.03192138671875\n",
      "time for batch [50] - [__export__.crm_lead_46591_c4aaa89a] - 1000 of 1000 : 2.9941649436950684\n",
      "time for batch [63] - [__export__.res_partner_13978_5923ed65] - 1000 of 1002 : 2.617713212966919\n",
      "time for batch [63] - [__export__.res_partner_13978_5923ed65] - 2000 of 1002 : 0.048131465911865234\n",
      "time for batch [64] - [__export__.res_partner_14275_77500dd2] - 1000 of 1002 : 2.6732287406921387\n",
      "time for batch [64] - [__export__.res_partner_14275_77500dd2] - 2000 of 1002 : 0.05009818077087402\n",
      "time for batch [65] - [__export__.res_partner_14534_cdcec2b8] - 1000 of 1002 : 2.691603660583496\n",
      "time for batch [65] - [__export__.res_partner_14534_cdcec2b8] - 2000 of 1002 : 0.041675567626953125\n",
      "time for batch [66] - [__export__.res_partner_15565_88e26238] - 1000 of 1002 : 2.7406907081604004\n",
      "time for batch [66] - [__export__.res_partner_15565_88e26238] - 2000 of 1002 : 0.03237605094909668\n",
      "time for batch [67] - [__export__.res_partner_15896_a97da721] - 1000 of 1001 : 2.643341064453125\n",
      "time for batch [67] - [__export__.res_partner_15896_a97da721] - 2000 of 1001 : 0.031932830810546875\n",
      "time for batch [68] - [__export__.res_partner_16450_7035632b] - 1000 of 1002 : 2.62777042388916\n",
      "time for batch [68] - [__export__.res_partner_16450_7035632b] - 2000 of 1002 : 0.032686710357666016\n",
      "time for batch [69] - [__export__.res_partner_16728_46b9ab61] - 1000 of 1001 : 2.628129720687866\n",
      "time for batch [69] - [__export__.res_partner_16728_46b9ab61] - 2000 of 1001 : 0.03147292137145996\n",
      "time for batch [70] - [__export__.res_partner_17017_b7da5f8c] - 1000 of 1002 : 2.6187143325805664\n",
      "time for batch [70] - [__export__.res_partner_17017_b7da5f8c] - 2000 of 1002 : 0.03268623352050781\n",
      "time for batch [71] - [__export__.res_partner_17331_9800bc57] - 1000 of 1002 : 2.5857253074645996\n",
      "time for batch [71] - [__export__.res_partner_17331_9800bc57] - 2000 of 1002 : 0.033309221267700195\n",
      "time for batch [72] - [__export__.res_partner_17642_022ecb2c] - 1000 of 1000 : 2.636120080947876\n",
      "time for batch [73] - [__export__.res_partner_2004_8c98118d] - 1000 of 1000 : 2.652109384536743\n",
      "time for batch [74] - [__export__.res_partner_21417_2f50b4cd] - 1000 of 1001 : 2.635932207107544\n",
      "time for batch [74] - [__export__.res_partner_21417_2f50b4cd] - 2000 of 1001 : 0.03332090377807617\n",
      "time for batch [75] - [__export__.res_partner_21843_ad32449d] - 1000 of 1000 : 2.6240899562835693\n",
      "time for batch [76] - [__export__.res_partner_24326_e26e67cc] - 1000 of 1000 : 2.7123560905456543\n",
      "time for batch [77] - [__export__.res_partner_25041_7a2d607c] - 1000 of 1000 : 2.7439637184143066\n",
      "time for batch [78] - [__export__.res_partner_2533_9d99f7f7] - 1000 of 1000 : 2.7267282009124756\n",
      "time for batch [79] - [__export__.res_partner_25639_223905f3] - 1000 of 1002 : 2.694112539291382\n",
      "time for batch [79] - [__export__.res_partner_25639_223905f3] - 2000 of 1002 : 0.032436370849609375\n",
      "time for batch [86] - [__export__.res_partner_27665_b784054b] - 1000 of 1004 : 2.9374537467956543\n",
      "time for batch [86] - [__export__.res_partner_27665_b784054b] - 2000 of 1004 : 0.0407257080078125\n",
      "time for batch [81] - [__export__.res_partner_26216_73089069] - 1000 of 1001 : 2.785757064819336\n",
      "time for batch [81] - [__export__.res_partner_26216_73089069] - 2000 of 1001 : 0.03277945518493652\n",
      "time for batch [82] - [__export__.res_partner_26516_4691f324] - 1000 of 1000 : 2.8119051456451416\n",
      "time for batch [83] - [__export__.res_partner_26827_49c19eda] - 1000 of 1004 : 2.87773060798645\n",
      "time for batch [83] - [__export__.res_partner_26827_49c19eda] - 2000 of 1004 : 0.04107522964477539\n",
      "time for batch [90] - [__export__.res_partner_28931_fb0b66a1] - 1000 of 1001 : 2.834545850753784\n",
      "time for batch [90] - [__export__.res_partner_28931_fb0b66a1] - 2000 of 1001 : 0.09960317611694336\n",
      "time for batch [91] - [__export__.res_partner_29200_111cbfa3] - 1000 of 1000 : 3.010552406311035\n",
      "time for batch [80] - [__export__.res_partner_25941_3574eb2e] - 1000 of 1002 : 2.8612706661224365\n",
      "time for batch [80] - [__export__.res_partner_25941_3574eb2e] - 2000 of 1002 : 0.040044546127319336\n",
      "time for batch [87] - [__export__.res_partner_27995_1809db28] - 1000 of 1000 : 2.7472269535064697\n",
      "time for batch [88] - [__export__.res_partner_2830_cbd50ee8] - 1000 of 1001 : 2.6945509910583496\n",
      "time for batch [88] - [__export__.res_partner_2830_cbd50ee8] - 2000 of 1001 : 0.031232595443725586\n",
      "time for batch [89] - [__export__.res_partner_28577_53844bdd] - 1000 of 1000 : 2.886735439300537\n",
      "time for batch [96] - [__export__.res_partner_30659_c13db3d8] - 1000 of 1001 : 2.920022487640381\n",
      "time for batch [96] - [__export__.res_partner_30659_c13db3d8] - 2000 of 1001 : 0.07627058029174805\n",
      "time for batch [85] - [__export__.res_partner_27458_f329302e] - 1000 of 1009 : 2.817232847213745\n",
      "time for batch [85] - [__export__.res_partner_27458_f329302e] - 2000 of 1009 : 0.048872947692871094\n",
      "time for batch [92] - [__export__.res_partner_29488_9864642d] - 1000 of 1001 : 2.744662046432495\n",
      "time for batch [92] - [__export__.res_partner_29488_9864642d] - 2000 of 1001 : 0.0317838191986084\n",
      "time for batch [93] - [__export__.res_partner_29777_b2f95e4b] - 1000 of 1000 : 2.660581111907959\n",
      "time for batch [100] - [__export__.res_partner_32911_f746486f] - 1000 of 1000 : 2.6439695358276367\n",
      "time for batch [95] - [__export__.res_partner_3035_9396465d] - 1000 of 1002 : 2.937359571456909\n",
      "time for batch [95] - [__export__.res_partner_3035_9396465d] - 2000 of 1002 : 0.06208157539367676\n",
      "time for batch [84] - [__export__.res_partner_27124_ebfe0038] - 1000 of 1001 : 2.7157607078552246\n",
      "time for batch [84] - [__export__.res_partner_27124_ebfe0038] - 2000 of 1001 : 0.03225827217102051\n",
      "time for batch [103] - [__export__.res_partner_34731_a37f0deb] - 1000 of 1000 : 2.688270330429077\n",
      "time for batch [98] - [__export__.res_partner_31576_83067a80] - 1000 of 1000 : 2.732801675796509\n",
      "time for batch [99] - [__export__.res_partner_32254_cd9f8980] - 1000 of 1000 : 2.6705868244171143\n",
      "time for batch [94] - [__export__.res_partner_30060_33b95d8f] - 1000 of 1000 : 2.6476101875305176\n",
      "time for batch [107] - [__export__.res_partner_37003_18af06f9] - 1000 of 1000 : 2.5293233394622803\n",
      "time for batch [102] - [__export__.res_partner_34181_44c34301] - 1000 of 1000 : 2.648613452911377\n",
      "time for batch [97] - [__export__.res_partner_30971_26e5ef5f] - 1000 of 1000 : 2.9700820446014404\n",
      "time for batch [104] - [__export__.res_partner_35279_cc78d784] - 1000 of 1000 : 2.654421329498291\n",
      "time for batch [105] - [__export__.res_partner_3588_6a4ddffd] - 1000 of 1000 : 2.70092511177063\n",
      "time for batch [106] - [__export__.res_partner_36445_3a6cfbbc] - 1000 of 1000 : 2.0289883613586426\n",
      "time for batch [113] - [__export__.res_partner_4056_eddc702a] - 1000 of 1000 : 2.799431324005127\n",
      "time for batch [108] - [__export__.res_partner_37602_68f0c7b7] - 1000 of 1000 : 3.3886165618896484\n",
      "time for batch [109] - [__export__.res_partner_38202_89ae69bb] - 1000 of 1001 : 2.737396240234375\n",
      "time for batch [109] - [__export__.res_partner_38202_89ae69bb] - 2000 of 1001 : 0.030912160873413086\n",
      "time for batch [116] - [__export__.res_partner_42425_c8d97e38] - 1000 of 1000 : 2.8595550060272217\n",
      "time for batch [111] - [__export__.res_partner_39432_3a7713e2] - 1000 of 1000 : 2.7522566318511963\n",
      "time for batch [112] - [__export__.res_partner_39982_f04f9b33] - 1000 of 1000 : 2.1216015815734863\n",
      "time for batch [101] - [__export__.res_partner_33555_f4df8168] - 1000 of 1001 : 2.961029052734375\n",
      "time for batch [101] - [__export__.res_partner_33555_f4df8168] - 2000 of 1001 : 0.0835866928100586\n",
      "time for batch [114] - [__export__.res_partner_41203_2d517301] - 1000 of 1000 : 2.7470808029174805\n",
      "time for batch [115] - [__export__.res_partner_4184_17ff1c8e] - 1000 of 1000 : 2.53035569190979\n",
      "time for batch [122] - [__export__.res_partner_46225_2b6d8771] - 1000 of 1000 : 2.6930091381073\n",
      "time for batch [117] - [__export__.res_partner_42987_c22a7fa6] - 1000 of 1001 : 2.6479592323303223\n",
      "time for batch [117] - [__export__.res_partner_42987_c22a7fa6] - 2000 of 1001 : 0.10809516906738281\n",
      "time for batch [118] - [__export__.res_partner_43639_5b120e53] - 1000 of 1001 : 2.5707719326019287\n",
      "time for batch [118] - [__export__.res_partner_43639_5b120e53] - 2000 of 1001 : 0.1689457893371582\n",
      "time for batch [119] - [__export__.res_partner_44259_ea545333] - 1000 of 1001 : 2.737980604171753\n",
      "time for batch [120] - [__export__.res_partner_44904_517b68e0] - 1000 of 1000 : 2.5956759452819824\n",
      "time for batch [119] - [__export__.res_partner_44259_ea545333] - 2000 of 1001 : 0.049974679946899414\n",
      "time for batch [121] - [__export__.res_partner_45573_4b22c482] - 1000 of 1001 : 2.676332473754883\n",
      "time for batch [121] - [__export__.res_partner_45573_4b22c482] - 2000 of 1001 : 0.1516733169555664\n",
      "time for batch [128] - [__export__.res_partner_50104_5777e556] - 1000 of 1000 : 2.8394033908843994\n",
      "time for batch [123] - [__export__.res_partner_46900_f81812f0] - 1000 of 1001 : 2.603990316390991\n",
      "time for batch [123] - [__export__.res_partner_46900_f81812f0] - 2000 of 1001 : 0.15641546249389648\n",
      "time for batch [124] - [__export__.res_partner_47524_4e6b9e36] - 1000 of 1001 : 2.7474758625030518\n",
      "time for batch [124] - [__export__.res_partner_47524_4e6b9e36] - 2000 of 1001 : 0.08336544036865234\n",
      "time for batch [125] - [__export__.res_partner_4816_552b2316] - 1000 of 1001 : 2.4298603534698486\n",
      "time for batch [125] - [__export__.res_partner_4816_552b2316] - 2000 of 1001 : 0.13524389266967773\n",
      "time for batch [126] - [__export__.res_partner_48774_81e4883c] - 1000 of 1000 : 2.510019063949585\n",
      "time for batch [127] - [__export__.res_partner_49403_49fbc44b] - 1000 of 1000 : 2.4701364040374756\n",
      "time for batch [134] - [__export__.res_partner_55520_6c826bac] - 1000 of 1001 : 2.587999105453491\n",
      "time for batch [134] - [__export__.res_partner_55520_6c826bac] - 2000 of 1001 : 0.2320876121520996\n",
      "time for batch [135] - [__export__.res_partner_55898_6186c8ed] - 1000 of 1001 : 2.7726502418518066\n",
      "time for batch [135] - [__export__.res_partner_55898_6186c8ed] - 2000 of 1001 : 0.6728205680847168\n",
      "time for batch [130] - [__export__.res_partner_50802_8f136797] - 1000 of 1002 : 3.1677615642547607\n",
      "time for batch [130] - [__export__.res_partner_50802_8f136797] - 2000 of 1002 : 0.49106597900390625\n",
      "time for batch [131] - [__export__.res_partner_54354_01f62c3d] - 1000 of 1002 : 2.5736238956451416\n",
      "time for batch [131] - [__export__.res_partner_54354_01f62c3d] - 2000 of 1002 : 0.16352105140686035\n",
      "time for batch [132] - [__export__.res_partner_54702_3b213acd] - 1000 of 1001 : 2.191182851791382\n",
      "time for batch [132] - [__export__.res_partner_54702_3b213acd] - 2000 of 1001 : 0.16626214981079102\n",
      "time for batch [133] - [__export__.res_partner_55078_7166f897] - 1000 of 1001 : 2.712339162826538\n",
      "time for batch [133] - [__export__.res_partner_55078_7166f897] - 2000 of 1001 : 0.17756938934326172\n",
      "time for batch [110] - [__export__.res_partner_38791_ac2788d2] - 1000 of 1001 : 2.6817452907562256\n",
      "time for batch [110] - [__export__.res_partner_38791_ac2788d2] - 2000 of 1001 : 0.3044607639312744\n",
      "time for batch [129] - [__export__.res_partner_50479_7f80629b] - 1000 of 1002 : 2.6321942806243896\n",
      "time for batch [129] - [__export__.res_partner_50479_7f80629b] - 2000 of 1002 : 0.13451528549194336\n",
      "time for batch [142] - [__export__.res_partner_58338_8fc7667e] - 1000 of 1002 : 2.4702210426330566\n",
      "time for batch [142] - [__export__.res_partner_58338_8fc7667e] - 2000 of 1002 : 0.1629655361175537\n",
      "time for batch [137] - [__export__.res_partner_56688_1918994c] - 1000 of 1000 : 2.605705976486206\n",
      "time for batch [138] - [__export__.res_partner_57024_7744f438] - 1000 of 1002 : 2.5063071250915527\n",
      "time for batch [138] - [__export__.res_partner_57024_7744f438] - 2000 of 1002 : 0.28917932510375977\n",
      "time for batch [139] - [__export__.res_partner_57362_0ffc3c40] - 1000 of 1001 : 2.6114158630371094\n",
      "time for batch [139] - [__export__.res_partner_57362_0ffc3c40] - 2000 of 1001 : 0.15557622909545898\n",
      "time for batch [146] - [__export__.res_partner_59678_f29c3e46] - 1000 of 1002 : 2.4139270782470703\n",
      "time for batch [146] - [__export__.res_partner_59678_f29c3e46] - 2000 of 1002 : 0.19146490097045898\n",
      "time for batch [141] - [__export__.res_partner_58020_839e752e] - 1000 of 1003 : 2.7341182231903076\n",
      "time for batch [148] - [__export__.res_partner_6025_4607236b] - 1000 of 1001 : 2.5419375896453857\n",
      "time for batch [141] - [__export__.res_partner_58020_839e752e] - 2000 of 1003 : 0.03791975975036621\n",
      "time for batch [148] - [__export__.res_partner_6025_4607236b] - 2000 of 1001 : 0.0323331356048584\n",
      "time for batch [143] - [__export__.res_partner_58669_327717b7] - 1000 of 1000 : 2.6163713932037354\n",
      "time for batch [144] - [__export__.res_partner_58962_b4cb97e6] - 1000 of 1000 : 2.7705399990081787\n",
      "time for batch [145] - [__export__.res_partner_59327_41f8a473] - 1000 of 1000 : 2.7977609634399414\n",
      "time for batch [140] - [__export__.res_partner_57702_780bc16b] - 1000 of 1000 : 2.7623307704925537\n",
      "time for batch [147] - [__export__.res_partner_59965_08f98071] - 1000 of 1001 : 2.6604654788970947\n",
      "time for batch [147] - [__export__.res_partner_59965_08f98071] - 2000 of 1001 : 0.06996536254882812\n",
      "time for batch [136] - [__export__.res_partner_56319_9ec8f2a6] - 1000 of 1002 : 2.608701467514038\n",
      "time for batch [136] - [__export__.res_partner_56319_9ec8f2a6] - 2000 of 1002 : 0.1271495819091797\n",
      "time for batch [155] - [__export__.res_partner_62427_7eaeed80] - 1000 of 1001 : 2.5992519855499268\n",
      "time for batch [155] - [__export__.res_partner_62427_7eaeed80] - 2000 of 1001 : 0.11678552627563477\n",
      "time for batch [156] - [__export__.res_partner_62762_a243c57c] - 1000 of 1000 : 2.6192023754119873\n",
      "time for batch [151] - [__export__.res_partner_61163_02d89789] - 1000 of 1002 : 2.672689914703369\n",
      "time for batch [151] - [__export__.res_partner_61163_02d89789] - 2000 of 1002 : 0.08857107162475586\n",
      "time for batch [152] - [__export__.res_partner_61495_a53f023b] - 1000 of 1001 : 2.7292585372924805\n",
      "time for batch [152] - [__export__.res_partner_61495_a53f023b] - 2000 of 1001 : 0.0706028938293457\n",
      "time for batch [159] - [__export__.res_partner_63777_04a2856d] - 1000 of 1002 : 2.608015537261963\n",
      "time for batch [159] - [__export__.res_partner_63777_04a2856d] - 2000 of 1002 : 0.11758184432983398\n",
      "time for batch [154] - [__export__.res_partner_62100_879c6fd0] - 1000 of 1000 : 2.6554296016693115\n",
      "time for batch [149] - [__export__.res_partner_60547_f3b1f5b9] - 1000 of 1001 : 2.700824737548828\n",
      "time for batch [149] - [__export__.res_partner_60547_f3b1f5b9] - 2000 of 1001 : 0.11809253692626953\n",
      "time for batch [150] - [__export__.res_partner_60865_b6ff22ac] - 1000 of 1002 : 2.844911813735962\n",
      "time for batch [150] - [__export__.res_partner_60865_b6ff22ac] - 2000 of 1002 : 0.20734953880310059\n",
      "time for batch [163] - [__export__.res_partner_68628_f1c09241] - 1000 of 1003 : 2.809919595718384\n",
      "time for batch [163] - [__export__.res_partner_68628_f1c09241] - 2000 of 1003 : 0.11317729949951172\n",
      "time for batch [158] - [__export__.res_partner_63444_42c91919] - 1000 of 1001 : 2.6915993690490723\n",
      "time for batch [158] - [__export__.res_partner_63444_42c91919] - 2000 of 1001 : 0.12639307975769043\n",
      "time for batch [153] - [__export__.res_partner_61797_96170ff6] - 1000 of 1004 : 2.6555910110473633\n",
      "time for batch [153] - [__export__.res_partner_61797_96170ff6] - 2000 of 1004 : 0.1793656349182129\n",
      "time for batch [160] - [__export__.res_partner_6555_9cbc1f40] - 1000 of 1014 : 2.7397637367248535\n",
      "time for batch [160] - [__export__.res_partner_6555_9cbc1f40] - 2000 of 1014 : 0.33578991889953613\n",
      "time for batch [161] - [__export__.res_partner_68068_078fddf1] - 1000 of 1000 : 2.6428582668304443\n",
      "time for batch [162] - [__export__.res_partner_68355_8208608e] - 1000 of 1002 : 2.466264009475708\n",
      "time for batch [162] - [__export__.res_partner_68355_8208608e] - 2000 of 1002 : 0.2258145809173584\n",
      "time for batch [169] - [__export__.res_partner_7139_34f1eaeb] - 1000 of 1003 : 2.7758309841156006\n",
      "time for batch [169] - [__export__.res_partner_7139_34f1eaeb] - 2000 of 1003 : 0.16019415855407715\n",
      "time for batch [170] - [__export__.res_partner_7843_329fcdaf] - 1000 of 1000 : 2.5276334285736084\n",
      "time for batch [165] - [__export__.res_partner_69189_ca390994] - 1000 of 1000 : 2.6622917652130127\n",
      "time for batch [172] - [__export__.res_partner_9127_630f6dfc] - 1000 of 1002 : 2.822021722793579\n",
      "time for batch [172] - [__export__.res_partner_9127_630f6dfc] - 2000 of 1002 : 0.24120306968688965\n",
      "time for batch [173] - [base.partner_admin] - 1000 of 780 : 2.1768078804016113\n",
      "time for batch [168] - [__export__.res_partner_70408_23dabc93] - 1000 of 1003 : 2.854440450668335\n",
      "time for batch [168] - [__export__.res_partner_70408_23dabc93] - 2000 of 1003 : 0.03185272216796875\n",
      "time for batch [157] - [__export__.res_partner_63103_516fd9e7] - 1000 of 1001 : 2.649873733520508\n",
      "time for batch [157] - [__export__.res_partner_63103_516fd9e7] - 2000 of 1001 : 0.03262639045715332\n",
      "time for batch [164] - [__export__.res_partner_68907_49700776] - 1000 of 1001 : 2.7183732986450195\n",
      "time for batch [164] - [__export__.res_partner_68907_49700776] - 2000 of 1001 : 0.03251338005065918\n",
      "time for batch [171] - [__export__.res_partner_8577_427040f2] - 1000 of 1000 : 2.659606456756592\n",
      "time for batch [166] - [__export__.res_partner_69676_eea9f765] - 1000 of 1000 : 2.857503652572632\n",
      "time for batch [167] - [__export__.res_partner_70071_33520985] - 1000 of 1000 : 1.8560900688171387\n",
      "183486 mail.message imported, total time 269.7471125125885 second(s)\n"
     ]
    }
   ],
   "source": [
    "model_name = 'mail.message'\n",
    "ignored_fields = ['old_res_id', 'old_res_id2', 'complete_name', 'parent_id/id']\n",
    "import_data(model_name=model_name, ignore_fields=ignored_fields, group_by='complete_name')"
   ],
   "metadata": {
    "collapsed": false
   }
  },
  {
   "cell_type": "markdown",
   "source": [
    "**Extract and transform mail.tracking.value**"
   ],
   "metadata": {
    "collapsed": false
   }
  },
  {
   "cell_type": "code",
   "execution_count": null,
   "outputs": [
    {
     "name": "stdout",
     "output_type": "stream",
     "text": [
      "time for batch 0: 5.2004406452178955\n",
      "time for batch 1: 5.222038269042969\n",
      "time for batch 2: 5.125707626342773\n",
      "time for batch 3: 5.096868991851807\n",
      "time for batch 4: 4.798511028289795\n",
      "time for batch 5: 4.973243951797485\n",
      "time for batch 6: 4.84392237663269\n",
      "time for batch 7: 4.6991119384765625\n",
      "time for batch 9: 6.069331884384155\n",
      "time for batch 14: 6.312368869781494\n",
      "time for batch 10: 4.905071258544922\n",
      "time for batch 17: 4.868776559829712\n",
      "time for batch 13: 4.812799692153931\n",
      "time for batch 18: 4.987366437911987\n",
      "time for batch 8: 4.652878999710083\n",
      "time for batch 15: 4.9380857944488525\n",
      "time for batch 16: 4.599104166030884\n",
      "time for batch 11: 4.572903871536255\n",
      "time for batch 12: 4.632498264312744\n",
      "time for batch 19: 4.626989841461182\n",
      "time for batch 20: 4.77591609954834\n",
      "time for batch 21: 4.684791088104248\n",
      "time for batch 22: 4.850350618362427\n",
      "time for batch 23: 4.722278118133545\n",
      "time for batch 24: 5.0333170890808105\n",
      "time for batch 25: 5.034696340560913\n",
      "time for batch 26: 4.5005199909210205\n",
      "time for batch 27: 4.628260135650635\n",
      "time for batch 34: 5.127212762832642\n",
      "time for batch 29: 5.0135111808776855\n",
      "time for batch 30: 4.785661697387695\n",
      "time for batch 31: 4.726754188537598\n",
      "time for batch 32: 5.695297479629517\n",
      "time for batch 39: 5.771830320358276\n",
      "time for batch 28: 5.2535717487335205\n",
      "time for batch 41: 5.279693126678467\n",
      "time for batch 36: 5.267723321914673\n",
      "time for batch 43: 5.471816778182983\n",
      "time for batch 38: 5.203718662261963\n",
      "time for batch 45: 5.212786674499512\n",
      "time for batch 46: 5.572515487670898\n",
      "time for batch 47: 5.544997930526733\n",
      "time for batch 42: 5.3691017627716064\n",
      "time for batch 37: 5.434321403503418\n",
      "time for batch 44: 5.305956840515137\n",
      "time for batch 51: 5.654616117477417\n",
      "time for batch 40: 5.33167290687561\n",
      "time for batch 35: 5.243607044219971\n",
      "time for batch 48: 5.2686851024627686\n",
      "time for batch 49: 5.397765636444092\n",
      "time for batch 56: 5.470917463302612\n",
      "time for batch 33: 5.105010032653809\n",
      "time for batch 52: 5.487826347351074\n",
      "time for batch 59: 5.642872095108032\n",
      "time for batch 54: 5.648769855499268\n",
      "time for batch 61: 5.317250490188599\n",
      "time for batch 50: 5.501900911331177\n",
      "time for batch 57: 5.4060378074646\n",
      "time for batch 53: 5.314502954483032\n",
      "time for batch 58: 5.457620620727539\n",
      "time for batch 60: 5.314674615859985\n",
      "time for batch 67: 5.339295387268066\n",
      "time for batch 69: 5.372154712677002\n",
      "time for batch 62: 5.497422218322754\n",
      "time for batch 71: 5.300017595291138\n",
      "time for batch 70: 5.450981378555298\n",
      "time for batch 55: 5.426860332489014\n",
      "time for batch 66: 5.602693319320679\n",
      "time for batch 63: 5.463202953338623\n",
      "time for batch 74: 5.607651233673096\n",
      "time for batch 65: 5.480843544006348\n",
      "time for batch 76: 5.5961854457855225\n",
      "time for batch 72: 5.585177183151245\n",
      "time for batch 73: 5.563168525695801\n",
      "time for batch 81: 5.466728448867798\n",
      "time for batch 68: 5.699211597442627\n",
      "time for batch 64: 5.319736003875732\n",
      "time for batch 77: 5.304724454879761\n",
      "time for batch 84: 5.386848449707031\n",
      "time for batch 79: 5.3504111766815186\n",
      "time for batch 80: 5.2935791015625\n",
      "time for batch 75: 5.294669151306152\n",
      "time for batch 82: 5.373059988021851\n",
      "time for batch 83: 5.425356149673462\n",
      "time for batch 78: 5.699649095535278\n",
      "time for batch 85: 5.796303749084473\n",
      "time for batch 87: 6.222960710525513\n",
      "time for batch 86: 6.615576982498169\n",
      "time for batch 94: 6.008406639099121\n",
      "time for batch 89: 6.058905601501465\n",
      "time for batch 96: 5.750003814697266\n",
      "time for batch 91: 5.619528770446777\n",
      "time for batch 99: 5.67448878288269\n",
      "time for batch 98: 6.008288383483887\n",
      "time for batch 88: 5.699756860733032\n",
      "time for batch 95: 5.654683351516724\n",
      "time for batch 90: 5.880801439285278\n",
      "time for batch 97: 5.843944311141968\n",
      "time for batch 92: 6.435201168060303\n",
      "time for batch 93: 6.254055023193359\n",
      "time for batch 100: 5.833841800689697\n",
      "time for batch 101: 5.8323752880096436\n",
      "time for batch 102: 5.606104135513306\n",
      "time for batch 103: 5.901897192001343\n",
      "time for batch 110: 5.743584871292114\n",
      "time for batch 105: 5.933549165725708\n",
      "time for batch 106: 6.074920654296875\n",
      "time for batch 107: 5.696175575256348\n",
      "time for batch 108: 5.692949295043945\n",
      "time for batch 115: 5.578789472579956\n",
      "time for batch 104: 6.0970213413238525\n",
      "time for batch 111: 6.082787036895752\n",
      "time for batch 112: 6.202396869659424\n",
      "time for batch 113: 6.218488931655884\n",
      "time for batch 109: 5.921780586242676\n",
      "time for batch 114: 6.01084303855896\n",
      "time for batch 116: 5.811792373657227\n",
      "time for batch 117: 5.792645692825317\n",
      "time for batch 119: 5.931906461715698\n",
      "time for batch 118: 6.094858169555664\n",
      "time for batch 120: 5.703969240188599\n",
      "time for batch 127: 5.677743911743164\n",
      "time for batch 122: 6.3487865924835205\n",
      "time for batch 123: 6.371254920959473\n",
      "time for batch 125: 6.7936296463012695\n",
      "time for batch 124: 7.061720371246338\n",
      "time for batch 126: 5.87422776222229\n",
      "time for batch 121: 6.019979000091553\n",
      "time for batch 129: 5.795855522155762\n",
      "time for batch 134: 6.310246706008911\n",
      "time for batch 130: 5.857652902603149\n",
      "time for batch 137: 6.034956455230713\n",
      "time for batch 132: 6.071713924407959\n",
      "time for batch 133: 6.081992149353027\n",
      "time for batch 128: 5.669920206069946\n",
      "time for batch 135: 5.870911598205566\n",
      "time for batch 142: 6.064806222915649\n",
      "time for batch 131: 5.72736930847168\n",
      "time for batch 139: 5.834396839141846\n",
      "time for batch 138: 6.193914175033569\n",
      "time for batch 140: 5.775211334228516\n",
      "time for batch 141: 5.89056658744812\n",
      "time for batch 136: 5.883472681045532\n",
      "time for batch 143: 5.717320919036865\n",
      "time for batch 150: 5.765493631362915\n",
      "time for batch 145: 5.927093029022217\n",
      "time for batch 146: 5.907084703445435\n",
      "time for batch 147: 5.899662256240845\n",
      "time for batch 149: 5.940079689025879\n",
      "time for batch 154: 6.1477861404418945\n",
      "time for batch 144: 5.8215320110321045\n",
      "time for batch 151: 5.934463739395142\n",
      "time for batch 152: 5.664340972900391\n",
      "time for batch 159: 6.039100408554077\n",
      "time for batch 148: 6.016920566558838\n",
      "time for batch 155: 5.940546751022339\n",
      "time for batch 156: 5.801967620849609\n",
      "time for batch 157: 5.828058958053589\n",
      "time for batch 158: 5.773838043212891\n",
      "time for batch 153: 5.901989936828613\n",
      "time for batch 160: 5.582443714141846\n",
      "time for batch 161: 5.670842885971069\n",
      "time for batch 162: 6.478250503540039\n",
      "time for batch 163: 6.052061080932617\n",
      "time for batch 164: 5.810824871063232\n",
      "time for batch 165: 6.005542516708374\n",
      "time for batch 166: 5.8374199867248535\n",
      "time for batch 167: 5.551484107971191\n",
      "time for batch 168: 5.8626439571380615\n",
      "time for batch 169: 5.950944185256958\n",
      "time for batch 170: 5.651668071746826\n",
      "time for batch 171: 5.673725366592407\n",
      "time for batch 172: 5.698891878128052\n",
      "time for batch 173: 5.906017065048218\n",
      "time for batch 180: 5.878345727920532\n",
      "time for batch 175: 5.891369104385376\n",
      "time for batch 176: 6.16842246055603\n",
      "time for batch 177: 5.9511449337005615\n",
      "time for batch 178: 5.624821662902832\n",
      "time for batch 185: 5.869798898696899\n",
      "time for batch 186: 5.699683904647827\n",
      "time for batch 181: 5.903877019882202\n",
      "time for batch 182: 5.540045738220215\n",
      "time for batch 183: 5.654577732086182\n",
      "time for batch 184: 5.701722145080566\n",
      "time for batch 179: 5.564703464508057\n",
      "time for batch 174: 5.686258316040039\n",
      "time for batch 187: 5.8415093421936035\n",
      "time for batch 188: 5.890274524688721\n",
      "time for batch 189: 5.609700441360474\n",
      "time for batch 196: 5.781876087188721\n",
      "time for batch 191: 5.784374237060547\n",
      "time for batch 192: 5.847054481506348\n",
      "time for batch 199: 5.705534219741821\n",
      "time for batch 194: 5.802072286605835\n",
      "time for batch 201: 5.791344881057739\n",
      "time for batch 190: 5.770769119262695\n",
      "time for batch 203: 5.649205684661865\n",
      "time for batch 198: 5.745876312255859\n",
      "time for batch 193: 5.839909791946411\n",
      "time for batch 200: 5.7669358253479\n",
      "time for batch 207: 5.8066651821136475\n",
      "time for batch 209: 6.4881696701049805\n",
      "time for batch 202: 7.027609348297119\n",
      "time for batch 204: 5.788407325744629\n",
      "time for batch 205: 5.888869285583496\n",
      "time for batch 195: 5.767311334609985\n",
      "time for batch 212: 6.047682046890259\n",
      "time for batch 208: 6.156323194503784\n",
      "time for batch 215: 6.352708101272583\n",
      "time for batch 210: 5.910198450088501\n",
      "time for batch 217: 5.954992055892944\n",
      "time for batch 206: 6.105389356613159\n",
      "time for batch 213: 5.830644845962524\n",
      "time for batch 214: 6.100632905960083\n",
      "time for batch 197: 6.3714940547943115\n",
      "time for batch 216: 6.115952491760254\n",
      "time for batch 211: 5.816584587097168\n",
      "time for batch 219: 5.711346864700317\n",
      "time for batch 224: 5.877005100250244\n",
      "time for batch 220: 6.169831275939941\n",
      "time for batch 227: 6.0423173904418945\n",
      "time for batch 222: 6.010130167007446\n",
      "time for batch 223: 6.185661554336548\n",
      "time for batch 230: 6.064829587936401\n",
      "time for batch 225: 5.965840578079224\n",
      "time for batch 233: 6.268561363220215\n",
      "time for batch 226: 6.621529817581177\n",
      "time for batch 228: 5.66216778755188\n",
      "time for batch 229: 5.7295331954956055\n",
      "time for batch 218: 5.900834560394287\n",
      "time for batch 231: 5.950017929077148\n",
      "time for batch 232: 5.775735139846802\n",
      "time for batch 221: 5.686309099197388\n",
      "time for batch 234: 6.013398170471191\n",
      "time for batch 235: 5.759377956390381\n",
      "time for batch 236: 5.744480133056641\n",
      "time for batch 237: 6.231611728668213\n",
      "time for batch 238: 6.0451436042785645\n",
      "time for batch 239: 5.896542549133301\n",
      "time for batch 246: 6.13707160949707\n",
      "time for batch 247: 6.157832622528076\n",
      "time for batch 248: 5.642072677612305\n",
      "time for batch 243: 5.576426267623901\n",
      "time for batch 250: 5.712417364120483\n",
      "time for batch 251: 5.913102865219116\n",
      "time for batch 240: 5.8588433265686035\n",
      "time for batch 241: 5.774749040603638\n",
      "time for batch 242: 5.838276624679565\n",
      "time for batch 249: 5.622701644897461\n",
      "time for batch 244: 5.865839242935181\n",
      "time for batch 245: 5.950010538101196\n",
      "time for batch 252: 5.740691661834717\n",
      "time for batch 259: 5.677064418792725\n",
      "time for batch 254: 5.946200609207153\n",
      "time for batch 255: 6.027303457260132\n",
      "time for batch 256: 5.973222732543945\n",
      "time for batch 257: 5.875723600387573\n",
      "time for batch 264: 6.129020690917969\n",
      "time for batch 265: 6.227443695068359\n",
      "time for batch 266: 6.266202688217163\n",
      "time for batch 261: 6.481930255889893\n",
      "time for batch 262: 6.169498682022095\n",
      "time for batch 263: 5.82603907585144\n",
      "time for batch 271: 5.744370698928833\n",
      "time for batch 258: 6.005616664886475\n",
      "time for batch 273: 5.709499835968018\n",
      "time for batch 260: 5.958327770233154\n",
      "time for batch 274: 5.694673299789429\n",
      "time for batch 269: 5.57123589515686\n",
      "time for batch 277: 6.01337194442749\n",
      "time for batch 270: 6.169947624206543\n",
      "time for batch 272: 6.063061714172363\n",
      "time for batch 279: 5.995649337768555\n",
      "time for batch 280: 5.771272659301758\n",
      "time for batch 275: 6.000539302825928\n",
      "time for batch 253: 6.012092590332031\n",
      "time for batch 282: 6.263927459716797\n",
      "time for batch 267: 5.817737579345703\n",
      "time for batch 278: 6.000535249710083\n",
      "time for batch 286: 6.000811338424683\n",
      "time for batch 281: 6.049887657165527\n",
      "time for batch 288: 5.895331382751465\n",
      "time for batch 289: 6.087563753128052\n",
      "time for batch 284: 5.536963939666748\n",
      "time for batch 285: 6.295779228210449\n",
      "time for batch 292: 5.516588449478149\n",
      "time for batch 287: 5.757299900054932\n",
      "time for batch 276: 5.449887990951538\n",
      "time for batch 283: 5.680305004119873\n",
      "time for batch 290: 5.805015325546265\n",
      "time for batch 291: 5.759135007858276\n",
      "time for batch 298: 5.842851400375366\n",
      "time for batch 299: 5.819133758544922\n",
      "time for batch 294: 5.689659595489502\n",
      "time for batch 295: 5.456830263137817\n",
      "time for batch 296: 5.624393701553345\n",
      "time for batch 297: 5.841662406921387\n",
      "time for batch 268: 5.9866249561309814\n",
      "time for batch 293: 5.4184184074401855\n",
      "time for batch 300: 5.700991153717041\n",
      "time for batch 307: 5.8135035037994385\n",
      "time for batch 302: 5.584744215011597\n",
      "time for batch 303: 5.59743857383728\n",
      "time for batch 310: 5.771422863006592\n",
      "time for batch 305: 5.732801675796509\n",
      "time for batch 306: 5.676081657409668\n",
      "time for batch 301: 5.625922441482544\n",
      "time for batch 308: 5.570235729217529\n",
      "time for batch 309: 5.50322699546814\n",
      "time for batch 304: 5.894291877746582\n",
      "time for batch 311: 5.674116611480713\n",
      "time for batch 318: 5.8420867919921875\n",
      "time for batch 313: 5.5352184772491455\n",
      "time for batch 314: 6.143304347991943\n",
      "time for batch 315: 6.9160566329956055\n",
      "time for batch 316: 5.550672292709351\n",
      "time for batch 317: 5.518009424209595\n",
      "time for batch 312: 5.801700115203857\n",
      "time for batch 319: 5.693957090377808\n",
      "time for batch 320: 5.968037128448486\n",
      "time for batch 321: 5.616983413696289\n",
      "time for batch 322: 5.804651498794556\n",
      "time for batch 323: 6.014189720153809\n",
      "time for batch 324: 5.9067158699035645\n",
      "time for batch 325: 5.794753313064575\n",
      "time for batch 326: 6.244839429855347\n",
      "time for batch 327: 5.895144462585449\n",
      "time for batch 334: 5.682621240615845\n",
      "time for batch 329: 5.56811261177063\n",
      "time for batch 330: 5.817634582519531\n",
      "time for batch 331: 5.901579141616821\n",
      "time for batch 332: 5.907970190048218\n",
      "time for batch 339: 5.717433452606201\n",
      "time for batch 328: 5.853900194168091\n",
      "time for batch 335: 5.9044084548950195\n",
      "time for batch 336: 5.746955871582031\n",
      "time for batch 337: 5.578532934188843\n",
      "time for batch 345: 5.792891025543213\n",
      "time for batch 338: 6.004004716873169\n",
      "time for batch 341: 5.835395812988281\n",
      "time for batch 340: 5.964001417160034\n",
      "time for batch 343: 5.902997970581055\n",
      "time for batch 348: 6.2283241748809814\n",
      "time for batch 350: 6.088315725326538\n",
      "time for batch 333: 5.831389665603638\n",
      "time for batch 347: 5.718226432800293\n",
      "time for batch 352: 5.801809310913086\n",
      "time for batch 354: 6.191344261169434\n",
      "time for batch 349: 6.172594785690308\n",
      "time for batch 344: 5.652692794799805\n",
      "time for batch 351: 5.857297897338867\n",
      "time for batch 346: 5.654592514038086\n",
      "time for batch 353: 5.713353872299194\n",
      "time for batch 342: 5.628988981246948\n",
      "time for batch 355: 5.913294315338135\n",
      "time for batch 356: 5.794490337371826\n",
      "time for batch 363: 5.637300252914429\n",
      "time for batch 358: 5.632008790969849\n",
      "time for batch 359: 5.6917500495910645\n",
      "time for batch 360: 5.625802516937256\n",
      "time for batch 367: 5.600862503051758\n",
      "time for batch 362: 5.812058210372925\n",
      "time for batch 357: 5.623571157455444\n",
      "time for batch 364: 6.270392894744873\n",
      "time for batch 365: 6.189436674118042\n",
      "time for batch 366: 5.862501621246338\n",
      "time for batch 373: 5.975757360458374\n",
      "time for batch 368: 5.551506996154785\n",
      "time for batch 369: 5.517064332962036\n",
      "time for batch 370: 5.765061855316162\n",
      "time for batch 371: 5.75752592086792\n",
      "time for batch 372: 5.734175682067871\n",
      "time for batch 361: 5.724926710128784\n",
      "time for batch 374: 6.020967721939087\n",
      "time for batch 375: 5.776048898696899\n",
      "time for batch 383: 5.860181093215942\n",
      "time for batch 376: 5.9729156494140625\n",
      "time for batch 385: 6.827415227890015\n",
      "time for batch 378: 7.073673963546753\n",
      "time for batch 381: 5.7808990478515625\n",
      "time for batch 386: 5.9743971824646\n",
      "time for batch 382: 6.061381101608276\n",
      "time for batch 389: 6.060982704162598\n",
      "time for batch 384: 6.1598289012908936\n",
      "time for batch 379: 6.147488832473755\n",
      "time for batch 380: 5.618303537368774\n",
      "time for batch 387: 5.704966306686401\n",
      "time for batch 388: 6.000744581222534\n",
      "time for batch 395: 6.298877716064453\n",
      "time for batch 390: 5.737645626068115\n",
      "time for batch 397: 6.176626682281494\n",
      "time for batch 392: 5.582806348800659\n",
      "time for batch 393: 5.768585205078125\n",
      "time for batch 394: 5.747711420059204\n",
      "time for batch 377: 5.6243367195129395\n",
      "time for batch 396: 6.1233909130096436\n",
      "time for batch 391: 5.74530553817749\n",
      "time for batch 404: 5.915722370147705\n",
      "time for batch 399: 6.157773971557617\n",
      "time for batch 400: 5.949127912521362\n",
      "time for batch 401: 5.897486209869385\n",
      "time for batch 402: 5.5841450691223145\n",
      "time for batch 403: 5.597590923309326\n",
      "time for batch 410: 5.653591632843018\n",
      "time for batch 405: 6.038071870803833\n",
      "time for batch 406: 5.844459295272827\n",
      "time for batch 407: 5.6951987743377686\n",
      "time for batch 408: 5.522032260894775\n",
      "time for batch 415: 5.335004568099976\n",
      "time for batch 398: 6.525334358215332\n",
      "time for batch 411: 5.772398233413696\n",
      "time for batch 418: 6.08952784538269\n",
      "time for batch 413: 6.166655778884888\n",
      "time for batch 409: 5.888676643371582\n",
      "time for batch 420: 6.110018253326416\n"
     ]
    }
   ],
   "source": [
    "model_name = 'mail.tracking.value'\n",
    "mail_tracking_value_all_file_name = f'{model_name}.all.csv'\n",
    "mail_tracking_value_all_file_path = f'{GENERATED_CSV_FILES_PATH}{mail_tracking_value_all_file_name}'\n",
    "mail_tracking_value_file_path = f'{GENERATED_CSV_FILES_PATH}{model_name}.csv'\n",
    "export_data(model_name=model_name, output_file=mail_tracking_value_all_file_name)\n",
    "mail_tracking_value_dataframe = pandas.read_csv(mail_tracking_value_all_file_path, low_memory=False)\n",
    "\n",
    "mail_message_file_path = f'{GENERATED_CSV_FILES_PATH}mail.message.csv'\n",
    "mail_message_dataframe = pandas.read_csv(mail_message_file_path, low_memory=False)\n",
    "mail_message_dataframe.rename(columns={'id': 'mail_message_id/id'}, inplace=True)\n",
    "\n",
    "#Merge tracking values with mail.message to filter the tracking values to import and adding the model column\n",
    "mail_message_dataframe = mail_message_dataframe[['model', 'mail_message_id/id']]\n",
    "mail_tracking_value_dataframe = mail_tracking_value_dataframe.merge(mail_message_dataframe, on='mail_message_id/id', how='inner')\n",
    "\n",
    "#Export v15 ir_model_fields\n",
    "fields_model_name = 'ir.model.fields'\n",
    "models_with_mail_messages = list(mail_message_dataframe['model'].unique())\n",
    "models_to_export_external_ids = [m for m in models_with_mail_messages if m in models_migration_config.keys()]\n",
    "export_data(config='import_connection.conf',\n",
    "            model_name=fields_model_name,\n",
    "            fields=['id', 'name', 'model'],\n",
    "            output_file=f'{fields_model_name}.csv',\n",
    "            domain=[['model', 'in', models_to_export_external_ids]]\n",
    "            )\n",
    "ir_model_fields_file_path = f'{GENERATED_CSV_FILES_PATH}{fields_model_name}.csv'\n",
    "fields_dataframe = pandas.read_csv(ir_model_fields_file_path)\n",
    "fields_dataframe.rename(columns={'id': 'field/id'}, inplace=True)\n",
    "fields_dataframe.rename(columns={'name': 'field'}, inplace=True)\n",
    "\n",
    "#Merge tracking values with fields to extract the fields' external ids\n",
    "mail_tracking_value_dataframe['field'] = mail_tracking_value_dataframe['field'].str.replace('planned_revenue', 'expected_revenue')\n",
    "mail_tracking_value_dataframe['field'] = mail_tracking_value_dataframe['field'].str.replace('categ_id', 'category_id')\n",
    "mail_tracking_value_dataframe['field'] = mail_tracking_value_dataframe['field'].str.replace('salesperson_ids', 'user_id')\n",
    "mail_tracking_value_dataframe = mail_tracking_value_dataframe.merge(fields_dataframe, on=['field', 'model'], how='inner')\n",
    "# Drop columns used just to merge\n",
    "mail_tracking_value_dataframe.drop(columns={'field', 'model'}, inplace=True)\n",
    "\n",
    "mail_tracking_value_dataframe.to_csv(mail_tracking_value_file_path, index=False)"
   ],
   "metadata": {
    "collapsed": false,
    "pycharm": {
     "is_executing": true
    }
   }
  },
  {
   "cell_type": "markdown",
   "source": [
    "**Load mail.tracking.value**"
   ],
   "metadata": {
    "collapsed": false
   }
  },
  {
   "cell_type": "code",
   "execution_count": null,
   "outputs": [],
   "source": [
    "import_data('mail.tracking.value')"
   ],
   "metadata": {
    "collapsed": false,
    "pycharm": {
     "is_executing": true
    }
   }
  },
  {
   "cell_type": "markdown",
   "source": [],
   "metadata": {
    "collapsed": false
   }
  }
 ],
 "metadata": {
  "kernelspec": {
   "display_name": "Python 3 (ipykernel)",
   "language": "python",
   "name": "python3"
  },
  "language_info": {
   "codemirror_mode": {
    "name": "ipython",
    "version": 3
   },
   "file_extension": ".py",
   "mimetype": "text/x-python",
   "name": "python",
   "nbconvert_exporter": "python",
   "pygments_lexer": "ipython3",
   "version": "3.8.10"
  }
 },
 "nbformat": 4,
 "nbformat_minor": 1
}
